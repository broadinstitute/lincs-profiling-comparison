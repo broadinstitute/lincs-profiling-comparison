{
 "cells": [
  {
   "cell_type": "markdown",
   "metadata": {},
   "source": [
    "### - Merge Cell painting & L1000 Level-4 data\n",
    "\n",
    "- Merge both CP and L1000 based on the compounds present in both assays, and make sure the number of replicates for the compounds in both assays per treatment dose are the same, to be able to have an aligned dataset."
   ]
  },
  {
   "cell_type": "code",
   "execution_count": 1,
   "metadata": {},
   "outputs": [],
   "source": [
    "import os\n",
    "import pandas as pd\n",
    "import numpy as np\n",
    "import re\n",
    "from os import walk\n",
    "from collections import Counter\n",
    "import random"
   ]
  },
  {
   "cell_type": "code",
   "execution_count": 2,
   "metadata": {},
   "outputs": [],
   "source": [
    "cp_level4_path = '../cell_painting/cellpainting_lvl4_cpd_replicate_datasets'\n",
    "L1000_level4_path = '../L1000/L1000_lvl4_cpd_replicate_datasets'"
   ]
  },
  {
   "cell_type": "code",
   "execution_count": 3,
   "metadata": {},
   "outputs": [],
   "source": [
    "df_level4_cp = pd.read_csv(os.path.join(cp_level4_path, 'cp_level4_cpd_replicates.csv.gz'), \n",
    "                        compression='gzip',low_memory = False)\n",
    "df_level4_L1 = pd.read_csv(os.path.join(L1000_level4_path, 'L1000_level4_cpd_replicates.csv.gz'), \n",
    "                        compression='gzip',low_memory = False)"
   ]
  },
  {
   "cell_type": "code",
   "execution_count": 4,
   "metadata": {},
   "outputs": [],
   "source": [
    "###We are interested in compounds found both in L1000 and Cell painting\n",
    "cp_cpd = df_level4_cp['pert_iname'].unique().tolist()\n",
    "L1_cpd = df_level4_L1['pert_iname'].unique().tolist()\n",
    "all_cpds = [x for x in cp_cpd if x in L1_cpd]\n",
    "df_level4_cp = df_level4_cp.loc[df_level4_cp['pert_iname'].isin(all_cpds)].reset_index(drop=True)\n",
    "df_level4_L1 = df_level4_L1.loc[df_level4_L1['pert_iname'].isin(all_cpds)].reset_index(drop=True)"
   ]
  },
  {
   "cell_type": "code",
   "execution_count": 5,
   "metadata": {},
   "outputs": [],
   "source": [
    "##sanity check\n",
    "for cpd in df_level4_cp['pert_iname'].unique():\n",
    "    if cpd not in df_level4_L1['pert_iname'].unique():\n",
    "        print('Some compounds in CP are not found in L1000!!')"
   ]
  },
  {
   "cell_type": "code",
   "execution_count": 6,
   "metadata": {},
   "outputs": [
    {
     "data": {
      "text/plain": [
       "1399"
      ]
     },
     "execution_count": 6,
     "metadata": {},
     "output_type": "execute_result"
    }
   ],
   "source": [
    "len(df_level4_cp['pert_iname'].unique())"
   ]
  },
  {
   "cell_type": "code",
   "execution_count": 7,
   "metadata": {},
   "outputs": [
    {
     "data": {
      "text/plain": [
       "1399"
      ]
     },
     "execution_count": 7,
     "metadata": {},
     "output_type": "execute_result"
    }
   ],
   "source": [
    "len(df_level4_cp['pert_iname'].unique())"
   ]
  },
  {
   "cell_type": "code",
   "execution_count": 8,
   "metadata": {},
   "outputs": [],
   "source": [
    "df_level4_cp.rename({'Metadata_dose_recode':'dose'}, axis = 1, inplace = True)"
   ]
  },
  {
   "cell_type": "code",
   "execution_count": 9,
   "metadata": {},
   "outputs": [
    {
     "name": "stdout",
     "output_type": "stream",
     "text": [
      "dose\n",
      "Metadata_broad_sample\n",
      "pert_iname\n",
      "moa\n"
     ]
    }
   ],
   "source": [
    "##the same columns in Cell painting and L1000; \n",
    "for col in df_level4_L1.columns:\n",
    "    if col in df_level4_cp.columns.tolist():\n",
    "        print(col)"
   ]
  },
  {
   "cell_type": "code",
   "execution_count": 10,
   "metadata": {},
   "outputs": [
    {
     "data": {
      "text/plain": [
       "(47213, 756)"
      ]
     },
     "execution_count": 10,
     "metadata": {},
     "output_type": "execute_result"
    }
   ],
   "source": [
    "df_level4_cp.shape"
   ]
  },
  {
   "cell_type": "code",
   "execution_count": 11,
   "metadata": {},
   "outputs": [
    {
     "data": {
      "text/plain": [
       "(27837, 988)"
      ]
     },
     "execution_count": 11,
     "metadata": {},
     "output_type": "execute_result"
    }
   ],
   "source": [
    "df_level4_L1.shape"
   ]
  },
  {
   "cell_type": "code",
   "execution_count": 12,
   "metadata": {},
   "outputs": [],
   "source": [
    "def merge_cp_L1000_df(df_cp, df_L1000, all_cpds):\n",
    "    \n",
    "    \"\"\"\n",
    "    This function merge Cell painting and L1000 level-4 data to one dataframe based on their compounds\n",
    "    \n",
    "    args\n",
    "    df_cp: Cell painting Level-4 dataFrame\n",
    "    df_L1: L1000 Level-4 dataFrame\n",
    "    all_cpds: Compounds found in both Cell painting and L1000\n",
    "    \n",
    "    return\n",
    "    df_lvl4: merged CP & L1000 dataframe\n",
    "    \"\"\"\n",
    "    df_level4_cp_rand = pd.DataFrame(columns = df_cp.columns)\n",
    "    df_level4_L1_rand = pd.DataFrame(columns = df_L1000.columns)\n",
    "    \n",
    "    for idx, cpd in enumerate(all_cpds):\n",
    "        df_cpd = df_L1000[df_L1000['pert_iname'] == cpd]\n",
    "        for dose in df_cpd['dose'].unique():\n",
    "            df_dose = df_cpd[df_cpd['dose'] == dose].copy()\n",
    "            df_cpd_cp = df_cp[(df_cp['pert_iname'] == cpd) & (df_cp['dose'] == dose)]\n",
    "            if df_cpd_cp.shape[0] >= df_dose.shape[0]:\n",
    "                df_level4_cp_rand = pd.concat([df_level4_cp_rand,df_cpd_cp.sample(df_dose.shape[0])], ignore_index = True)\n",
    "                df_level4_L1_rand = pd.concat([df_level4_L1_rand,df_dose], ignore_index = True)\n",
    "            else:\n",
    "                df_level4_cp_rand = pd.concat([df_level4_cp_rand,df_cpd_cp], ignore_index = True)\n",
    "                df_level4_L1_rand = pd.concat([df_level4_L1_rand,df_dose.sample(df_cpd_cp.shape[0])], ignore_index = True)\n",
    "                \n",
    "    df_level4_cp_rand.rename({'broad_id':'pert_id'}, axis = 1, inplace = True)\n",
    "    df_level4_cp_rand.drop(['dose', 'pert_iname', 'moa', 'pert_id', 'Metadata_broad_sample'], axis = 1, inplace = True)\n",
    "    df_lvl4 = pd.concat([df_level4_cp_rand,df_level4_L1_rand], axis = 1)\n",
    "    \n",
    "    return df_lvl4"
   ]
  },
  {
   "cell_type": "code",
   "execution_count": 13,
   "metadata": {},
   "outputs": [],
   "source": [
    "df_level4 = merge_cp_L1000_df(df_level4_cp, df_level4_L1, all_cpds)"
   ]
  },
  {
   "cell_type": "code",
   "execution_count": 14,
   "metadata": {
    "scrolled": true
   },
   "outputs": [
    {
     "data": {
      "text/plain": [
       "(27486, 1739)"
      ]
     },
     "execution_count": 14,
     "metadata": {},
     "output_type": "execute_result"
    }
   ],
   "source": [
    "df_level4.shape"
   ]
  },
  {
   "cell_type": "code",
   "execution_count": 15,
   "metadata": {},
   "outputs": [],
   "source": [
    "def save_to_csv(df, path, file_name, compress=None):\n",
    "    \"\"\"saves dataframes to csv\"\"\"\n",
    "    \n",
    "    if not os.path.exists(path):\n",
    "        os.mkdir(path)\n",
    "    \n",
    "    df.to_csv(os.path.join(path, file_name), index=False, compression=compress)"
   ]
  },
  {
   "cell_type": "code",
   "execution_count": 16,
   "metadata": {},
   "outputs": [],
   "source": [
    "L1_cp_level4_path = 'L1000_CP_lvl4_datasets'"
   ]
  },
  {
   "cell_type": "code",
   "execution_count": 17,
   "metadata": {},
   "outputs": [],
   "source": [
    "save_to_csv(df_level4, L1_cp_level4_path, 'cp_L1000_lvl4_data.csv.gz', compress=\"gzip\")"
   ]
  }
 ],
 "metadata": {
  "kernelspec": {
   "display_name": "Python 3",
   "language": "python",
   "name": "python3"
  },
  "language_info": {
   "codemirror_mode": {
    "name": "ipython",
    "version": 3
   },
   "file_extension": ".py",
   "mimetype": "text/x-python",
   "name": "python",
   "nbconvert_exporter": "python",
   "pygments_lexer": "ipython3",
   "version": "3.8.5"
  }
 },
 "nbformat": 4,
 "nbformat_minor": 4
}
