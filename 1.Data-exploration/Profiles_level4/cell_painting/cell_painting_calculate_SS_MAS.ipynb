{
 "cells": [
  {
   "cell_type": "markdown",
   "metadata": {},
   "source": [
    "### - Calculate the signature strength and Morphological Activity Score for each compound based on its replicates for Cell painting Level-4 profiles\n",
    "\n",
    "\n",
    "\n",
    "\n",
    "#### Definitions  from [clue.io](https://clue.io/connectopedia/signature_quality_metrics)\n",
    "\n",
    "\n",
    "\n",
    "- **Signature strength (SS) -** Signature strength is a measure of the magnitude of the response elicited by a given treatment and is computed as the number of phenotypic/morphological features (out of 696 in our case) with absolute z-score greater than or equal to 2. SS helps to further discriminate signatures that were consistent (high median replicate correlation score) from those that did or did not impact many phenotypic/morphological cell features.\n",
    "\n",
    "\n",
    "\n",
    "\n",
    "- **Morphological activity score (MAS) -** is an aggregate measure of signature strength (SS) and median replicate correlation (CC) that is intended to represent a perturbagen's morphological activity. The more morphologically active a perturbagen/compound/drug, the higher its MAS. \n"
   ]
  },
  {
   "cell_type": "code",
   "execution_count": 1,
   "metadata": {},
   "outputs": [],
   "source": [
    "import os\n",
    "import pickle\n",
    "import argparse\n",
    "import pandas as pd\n",
    "import numpy as np\n",
    "import re\n",
    "from os import walk\n",
    "from collections import Counter\n",
    "from functools import reduce\n",
    "import random\n",
    "import shutil\n",
    "import math\n",
    "from math import sqrt\n",
    "import pickle\n",
    "from statistics import median\n",
    "import warnings\n",
    "warnings.simplefilter(action='ignore', category=FutureWarning)\n",
    "np.warnings.filterwarnings('ignore', category=np.VisibleDeprecationWarning)"
   ]
  },
  {
   "cell_type": "code",
   "execution_count": 2,
   "metadata": {},
   "outputs": [],
   "source": [
    "cp_level4_path = \"cellpainting_lvl4_cpd_replicate_datasets\""
   ]
  },
  {
   "cell_type": "code",
   "execution_count": 3,
   "metadata": {},
   "outputs": [],
   "source": [
    "df_level4 = pd.read_csv(os.path.join(cp_level4_path, 'cp_level4_cpd_replicates.csv.gz'), \n",
    "                        compression='gzip',low_memory = False)\n",
    "df_cpd_med_scores = pd.read_csv(os.path.join(cp_level4_path, 'cpd_replicate_median_scores.csv'))"
   ]
  },
  {
   "cell_type": "code",
   "execution_count": 4,
   "metadata": {},
   "outputs": [],
   "source": [
    "##cpds_replicates_dict = dict(zip(df_cpd_med_scores['cpd'], df_cpd_med_scores['no_of_replicates']))"
   ]
  },
  {
   "cell_type": "code",
   "execution_count": 5,
   "metadata": {},
   "outputs": [],
   "source": [
    "metadata_cols = ['Metadata_broad_sample', 'Metadata_pert_id', 'Metadata_dose_recode', \n",
    "                 'Metadata_Plate', 'Metadata_Well', 'Metadata_broad_id', 'Metadata_moa',\n",
    "                 'broad_id', 'pert_iname', 'moa', 'replicate_name']"
   ]
  },
  {
   "cell_type": "code",
   "execution_count": 6,
   "metadata": {},
   "outputs": [],
   "source": [
    "n_cp_feats = df_level4.drop(metadata_cols, axis=1).shape[1]"
   ]
  },
  {
   "cell_type": "code",
   "execution_count": 7,
   "metadata": {},
   "outputs": [],
   "source": [
    "def compute_signature_strength(cpds_list, df, metadata_cols = metadata_cols):\n",
    "    \"\"\"Computes signature strength for each compound based on its replicates\"\"\"\n",
    "    cpds_SS = {}\n",
    "    \n",
    "    for cpd in cpds_list:\n",
    "        cpd_replicates = df[df['pert_iname'] == cpd].copy()\n",
    "        cpd_replicates.drop(metadata_cols, axis = 1, inplace = True)\n",
    "        cpd_replicates = cpd_replicates * sqrt(cpd_replicates.shape[0])\n",
    "        df_cpd_reps = abs(cpd_replicates.T)\n",
    "        ldmk_genes_gtr_2 = df_cpd_reps[df_cpd_reps >= 2.0].stack().count()\n",
    "        ss_norm = ldmk_genes_gtr_2/len(df_cpd_reps.columns)\n",
    "        cpds_SS[cpd] = ss_norm\n",
    "            \n",
    "    return cpds_SS"
   ]
  },
  {
   "cell_type": "code",
   "execution_count": 8,
   "metadata": {},
   "outputs": [],
   "source": [
    "def compute_mas(cpds_SS, cpds_median_score, dose, num_feats):\n",
    "    \"\"\"Computes Morphological Activity Score (MAS) for each compound based on its replicates\"\"\"\n",
    "    cpds_MAS = {}\n",
    "    for cpd in cpds_SS:\n",
    "        cpds_MAS[cpd] = sqrt((max(cpds_median_score[cpd][dose-1],0) * cpds_SS[cpd])/num_feats)\n",
    "    \n",
    "    return cpds_MAS"
   ]
  },
  {
   "cell_type": "code",
   "execution_count": 9,
   "metadata": {},
   "outputs": [],
   "source": [
    "def compute_SS_MAS(df, cpds_median_score, num_cp_feats = n_cp_feats):\n",
    "    \"\"\"\n",
    "    Computes both Morphological Activity Score (MAS) and \n",
    "    signature strength for each compound based on its replicates\n",
    "    \"\"\"\n",
    "    dose_list = list(set(df['Metadata_dose_recode'].unique().tolist()))[1:7]\n",
    "    \n",
    "    for dose in dose_list:\n",
    "        df_dose = df[df['Metadata_dose_recode'] == dose].copy()\n",
    "        cpds_ss = compute_signature_strength(list(cpds_median_score.keys()), df_dose)\n",
    "        cpds_mas = compute_mas(cpds_ss, cpds_median_score, dose, num_cp_feats)\n",
    "        sorted_ss = {key:value for key, value in sorted(cpds_ss.items(), key=lambda item: item[0])}\n",
    "        sorted_mas = {key:value for key, value in sorted(cpds_mas.items(), key=lambda item: item[0])}\n",
    "        if dose == 1:\n",
    "            df_cpd_ss = pd.DataFrame.from_dict(sorted_ss, orient='index', columns = ['dose_1'])\n",
    "            df_cpd_mas = pd.DataFrame.from_dict(sorted_mas, orient='index', columns = ['dose_1'])\n",
    "        else:\n",
    "            df_cpd_ss['dose_' + str(dose)] = sorted_ss.values()\n",
    "            df_cpd_mas['dose_' + str(dose)] = sorted_mas.values()\n",
    "            \n",
    "    return df_cpd_ss, df_cpd_mas"
   ]
  },
  {
   "cell_type": "code",
   "execution_count": 10,
   "metadata": {},
   "outputs": [],
   "source": [
    "df_med_scores = df_cpd_med_scores.set_index('cpd').rename_axis(None, axis=0).drop(['no_of_replicates'], axis = 1)\n",
    "cpd_med_scores = df_med_scores.T.to_dict('list')"
   ]
  },
  {
   "cell_type": "code",
   "execution_count": 11,
   "metadata": {},
   "outputs": [],
   "source": [
    "df_ss_score, df_mas_score = compute_SS_MAS(df_level4, cpd_med_scores)"
   ]
  },
  {
   "cell_type": "code",
   "execution_count": 12,
   "metadata": {},
   "outputs": [],
   "source": [
    "df_ss_score = df_ss_score.reset_index().rename({'index':'cpd'}, axis = 1)\n",
    "df_mas_score = df_mas_score.reset_index().rename({'index':'cpd'}, axis = 1)"
   ]
  },
  {
   "cell_type": "code",
   "execution_count": 13,
   "metadata": {},
   "outputs": [],
   "source": [
    "df_cpd_med_scores.drop(['no_of_replicates'],axis = 1, inplace = True)"
   ]
  },
  {
   "cell_type": "code",
   "execution_count": 14,
   "metadata": {},
   "outputs": [],
   "source": [
    "def rename_cols(df):\n",
    "    'Rename columns from dose number to actual doses'\n",
    "    \n",
    "    df.rename(columns= {'dose_1' : '0.04 uM', 'dose_2':'0.12 uM', 'dose_3':'0.37 uM',\n",
    "                        'dose_4': '1.11 uM', 'dose_5':'3.33 uM', 'dose_6':'10 uM'}, inplace = True)\n",
    "    return df"
   ]
  },
  {
   "cell_type": "code",
   "execution_count": 15,
   "metadata": {},
   "outputs": [],
   "source": [
    "df_cpd_med_scores = rename_cols(df_cpd_med_scores)\n",
    "df_ss_score = rename_cols(df_ss_score)\n",
    "df_mas_score = rename_cols(df_mas_score)"
   ]
  },
  {
   "cell_type": "code",
   "execution_count": 16,
   "metadata": {},
   "outputs": [],
   "source": [
    "def melt_df(df, col_name):\n",
    "    \"\"\"\n",
    "    This function returns a reformatted dataframe with \n",
    "    3 columns: cpd, dose number and dose_values(median score or p-value)\n",
    "    \"\"\"\n",
    "    df = df.melt(id_vars=['cpd'], var_name=\"dose\", value_name=col_name)\n",
    "    return df"
   ]
  },
  {
   "cell_type": "code",
   "execution_count": 17,
   "metadata": {},
   "outputs": [],
   "source": [
    "def merge_ss_mas_med_scores(df_med_scores, df_ss_scores, df_mas_scores):\n",
    "    \"\"\"\n",
    "    This function merge median_scores (replication correlation), \n",
    "    signature strength (SS) and MAS (morphological activity score)\n",
    "    dataframes for each compound for all doses(1-6) \n",
    "    \"\"\"\n",
    "    df_med_vals = melt_df(df_med_scores, 'replicate_correlation')\n",
    "    df_ss_vals = melt_df(df_ss_scores, 'signature_strength')\n",
    "    df_mas_vals = melt_df(df_mas_scores, 'MAS')\n",
    "    metrics_df = [df_med_vals, df_ss_vals, df_mas_vals]\n",
    "    df_merged = reduce(lambda  left,right: pd.merge(left,right,on=['cpd', 'dose'], how='inner'), metrics_df)\n",
    "    return df_merged"
   ]
  },
  {
   "cell_type": "code",
   "execution_count": 18,
   "metadata": {},
   "outputs": [],
   "source": [
    "df_all_vals = merge_ss_mas_med_scores(df_cpd_med_scores, df_ss_score, df_mas_score)"
   ]
  },
  {
   "cell_type": "code",
   "execution_count": 19,
   "metadata": {},
   "outputs": [
    {
     "data": {
      "text/html": [
       "<div>\n",
       "<style scoped>\n",
       "    .dataframe tbody tr th:only-of-type {\n",
       "        vertical-align: middle;\n",
       "    }\n",
       "\n",
       "    .dataframe tbody tr th {\n",
       "        vertical-align: top;\n",
       "    }\n",
       "\n",
       "    .dataframe thead th {\n",
       "        text-align: right;\n",
       "    }\n",
       "</style>\n",
       "<table border=\"1\" class=\"dataframe\">\n",
       "  <thead>\n",
       "    <tr style=\"text-align: right;\">\n",
       "      <th></th>\n",
       "      <th>cpd</th>\n",
       "      <th>dose</th>\n",
       "      <th>replicate_correlation</th>\n",
       "      <th>signature_strength</th>\n",
       "      <th>MAS</th>\n",
       "    </tr>\n",
       "  </thead>\n",
       "  <tbody>\n",
       "    <tr>\n",
       "      <th>0</th>\n",
       "      <td>10-DEBC</td>\n",
       "      <td>0.04 uM</td>\n",
       "      <td>0.044181</td>\n",
       "      <td>270.8</td>\n",
       "      <td>0.131111</td>\n",
       "    </tr>\n",
       "    <tr>\n",
       "      <th>1</th>\n",
       "      <td>17-hydroxyprogesterone-caproate</td>\n",
       "      <td>0.04 uM</td>\n",
       "      <td>0.075784</td>\n",
       "      <td>278.4</td>\n",
       "      <td>0.174108</td>\n",
       "    </tr>\n",
       "    <tr>\n",
       "      <th>2</th>\n",
       "      <td>2-iminobiotin</td>\n",
       "      <td>0.04 uM</td>\n",
       "      <td>0.046791</td>\n",
       "      <td>275.8</td>\n",
       "      <td>0.136167</td>\n",
       "    </tr>\n",
       "    <tr>\n",
       "      <th>3</th>\n",
       "      <td>2-methoxyestradiol</td>\n",
       "      <td>0.04 uM</td>\n",
       "      <td>0.111195</td>\n",
       "      <td>280.8</td>\n",
       "      <td>0.211805</td>\n",
       "    </tr>\n",
       "    <tr>\n",
       "      <th>4</th>\n",
       "      <td>3-amino-benzamide</td>\n",
       "      <td>0.04 uM</td>\n",
       "      <td>0.102788</td>\n",
       "      <td>308.4</td>\n",
       "      <td>0.213414</td>\n",
       "    </tr>\n",
       "    <tr>\n",
       "      <th>5</th>\n",
       "      <td>3-deazaadenosine</td>\n",
       "      <td>0.04 uM</td>\n",
       "      <td>0.000775</td>\n",
       "      <td>259.4</td>\n",
       "      <td>0.016998</td>\n",
       "    </tr>\n",
       "    <tr>\n",
       "      <th>6</th>\n",
       "      <td>ABT-737</td>\n",
       "      <td>0.04 uM</td>\n",
       "      <td>-0.009067</td>\n",
       "      <td>224.0</td>\n",
       "      <td>0.000000</td>\n",
       "    </tr>\n",
       "    <tr>\n",
       "      <th>7</th>\n",
       "      <td>AEE788</td>\n",
       "      <td>0.04 uM</td>\n",
       "      <td>0.490271</td>\n",
       "      <td>648.2</td>\n",
       "      <td>0.675722</td>\n",
       "    </tr>\n",
       "    <tr>\n",
       "      <th>8</th>\n",
       "      <td>AICA-ribonucleotide</td>\n",
       "      <td>0.04 uM</td>\n",
       "      <td>0.018457</td>\n",
       "      <td>174.5</td>\n",
       "      <td>0.068026</td>\n",
       "    </tr>\n",
       "    <tr>\n",
       "      <th>9</th>\n",
       "      <td>AKT-inhibitor-1-2</td>\n",
       "      <td>0.04 uM</td>\n",
       "      <td>-0.027271</td>\n",
       "      <td>248.8</td>\n",
       "      <td>0.000000</td>\n",
       "    </tr>\n",
       "  </tbody>\n",
       "</table>\n",
       "</div>"
      ],
      "text/plain": [
       "                               cpd     dose  replicate_correlation  \\\n",
       "0                          10-DEBC  0.04 uM               0.044181   \n",
       "1  17-hydroxyprogesterone-caproate  0.04 uM               0.075784   \n",
       "2                    2-iminobiotin  0.04 uM               0.046791   \n",
       "3               2-methoxyestradiol  0.04 uM               0.111195   \n",
       "4                3-amino-benzamide  0.04 uM               0.102788   \n",
       "5                 3-deazaadenosine  0.04 uM               0.000775   \n",
       "6                          ABT-737  0.04 uM              -0.009067   \n",
       "7                           AEE788  0.04 uM               0.490271   \n",
       "8              AICA-ribonucleotide  0.04 uM               0.018457   \n",
       "9                AKT-inhibitor-1-2  0.04 uM              -0.027271   \n",
       "\n",
       "   signature_strength       MAS  \n",
       "0               270.8  0.131111  \n",
       "1               278.4  0.174108  \n",
       "2               275.8  0.136167  \n",
       "3               280.8  0.211805  \n",
       "4               308.4  0.213414  \n",
       "5               259.4  0.016998  \n",
       "6               224.0  0.000000  \n",
       "7               648.2  0.675722  \n",
       "8               174.5  0.068026  \n",
       "9               248.8  0.000000  "
      ]
     },
     "execution_count": 19,
     "metadata": {},
     "output_type": "execute_result"
    }
   ],
   "source": [
    "df_all_vals.head(10)"
   ]
  },
  {
   "cell_type": "code",
   "execution_count": 20,
   "metadata": {},
   "outputs": [],
   "source": [
    "def save_to_csv(df, path, file_name, compress=None):\n",
    "    \"\"\"saves dataframes to csv\"\"\"\n",
    "    \n",
    "    if not os.path.exists(path):\n",
    "        os.mkdir(path)\n",
    "    \n",
    "    df.to_csv(os.path.join(path, file_name), index=False, compression=compress)"
   ]
  },
  {
   "cell_type": "code",
   "execution_count": 21,
   "metadata": {},
   "outputs": [],
   "source": [
    "save_to_csv(df_all_vals, cp_level4_path, 'cp_all_scores.csv')"
   ]
  },
  {
   "cell_type": "markdown",
   "metadata": {},
   "source": [
    "### - DMSO MAS and replicate correlation\n",
    "\n",
    "- Calculate 95th percentile of DMSO MAS score"
   ]
  },
  {
   "cell_type": "code",
   "execution_count": 22,
   "metadata": {},
   "outputs": [],
   "source": [
    "df_dmso = df_level4[df_level4['pert_iname'] == 'DMSO'].copy()"
   ]
  },
  {
   "cell_type": "code",
   "execution_count": 23,
   "metadata": {},
   "outputs": [
    {
     "data": {
      "text/plain": [
       "array(['SQ00015231', 'SQ00015150', 'SQ00015132', 'SQ00015051',\n",
       "       'SQ00015123', 'SQ00015204', 'SQ00015042', 'SQ00015105',\n",
       "       'SQ00015141', 'SQ00015222', 'SQ00015158', 'SQ00015194',\n",
       "       'SQ00015059', 'SQ00015167', 'SQ00014816', 'SQ00015149',\n",
       "       'SQ00015154', 'SQ00015118', 'SQ00015172', 'SQ00015136',\n",
       "       'SQ00015217', 'SQ00015055', 'SQ00015163', 'SQ00015127',\n",
       "       'SQ00015208', 'SQ00015046', 'SQ00015109', 'SQ00014812',\n",
       "       'SQ00015145', 'SQ00015198', 'SQ00015200', 'SQ00015099',\n",
       "       'SQ00015101', 'SQ00015110', 'SQ00015233', 'SQ00015152',\n",
       "       'SQ00015116', 'SQ00015170', 'SQ00015134', 'SQ00015215',\n",
       "       'SQ00015053', 'SQ00015125', 'SQ00015206', 'SQ00015044',\n",
       "       'SQ00015107', 'SQ00015143', 'SQ00015224', 'SQ00015196',\n",
       "       'SQ00015097', 'SQ00015169', 'SQ00014818', 'SQ00015156',\n",
       "       'SQ00015138', 'SQ00015219', 'SQ00015057', 'SQ00015165',\n",
       "       'SQ00015129', 'SQ00015048', 'SQ00014814', 'SQ00015147',\n",
       "       'SQ00015121', 'SQ00015202', 'SQ00015103', 'SQ00015220',\n",
       "       'SQ00015130', 'SQ00015211', 'SQ00015112', 'SQ00015232',\n",
       "       'SQ00015151', 'SQ00015133', 'SQ00015214', 'SQ00015052',\n",
       "       'SQ00015160', 'SQ00015124', 'SQ00015205', 'SQ00015043',\n",
       "       'SQ00015106', 'SQ00015142', 'SQ00015223', 'SQ00015159',\n",
       "       'SQ00015195', 'SQ00015096', 'SQ00015168', 'SQ00014817',\n",
       "       'SQ00015155', 'SQ00015119', 'SQ00015173', 'SQ00015137',\n",
       "       'SQ00015218', 'SQ00015056', 'SQ00015164', 'SQ00015128',\n",
       "       'SQ00015209', 'SQ00015047', 'SQ00014813', 'SQ00015146',\n",
       "       'SQ00015199', 'SQ00015120', 'SQ00015201', 'SQ00015102',\n",
       "       'SQ00015210', 'SQ00015111', 'SQ00015153', 'SQ00014820',\n",
       "       'SQ00015117', 'SQ00015171', 'SQ00015135', 'SQ00015216',\n",
       "       'SQ00015054', 'SQ00015162', 'SQ00015126', 'SQ00015207',\n",
       "       'SQ00015045', 'SQ00015108', 'SQ00015144', 'SQ00015197',\n",
       "       'SQ00015098', 'SQ00015100', 'SQ00014819', 'SQ00015157',\n",
       "       'SQ00015139', 'SQ00015058', 'SQ00015166', 'SQ00015049',\n",
       "       'SQ00014815', 'SQ00015148', 'SQ00015229', 'SQ00015122',\n",
       "       'SQ00015203', 'SQ00015041', 'SQ00015140', 'SQ00015221',\n",
       "       'SQ00015131', 'SQ00015212', 'SQ00015050', 'SQ00015230'],\n",
       "      dtype=object)"
      ]
     },
     "execution_count": 23,
     "metadata": {},
     "output_type": "execute_result"
    }
   ],
   "source": [
    "df_dmso['Metadata_Plate'].unique()"
   ]
  },
  {
   "cell_type": "code",
   "execution_count": 24,
   "metadata": {},
   "outputs": [
    {
     "data": {
      "text/plain": [
       "136"
      ]
     },
     "execution_count": 24,
     "metadata": {},
     "output_type": "execute_result"
    }
   ],
   "source": [
    "len(df_dmso['Metadata_Plate'].unique())"
   ]
  },
  {
   "cell_type": "code",
   "execution_count": 25,
   "metadata": {},
   "outputs": [],
   "source": [
    "def compute_dmso_SS_median_score(df):\n",
    "    \"\"\"\n",
    "    This function computes the signature strength (SS) and \n",
    "    median correlation replicate score for DMSO per plate\n",
    "    \"\"\"\n",
    "    dmso_median_scores = {}\n",
    "    dmso_ss_scores = {}\n",
    "    \n",
    "    for plate in df['Metadata_Plate'].unique():\n",
    "        plt_replicates = df[df['Metadata_Plate'] == plate].copy()\n",
    "        plt_replicates.drop(['Metadata_broad_sample', 'Metadata_pert_id', 'Metadata_dose_recode', \n",
    "                             'Metadata_broad_id', 'Metadata_moa', 'broad_id', 'pert_iname', 'moa', \n",
    "                             'Metadata_Plate', 'Metadata_Well', 'replicate_name'], axis = 1, inplace = True)\n",
    "        plt_rep_corr = plt_replicates.astype('float64').T.corr(method = 'spearman').values\n",
    "        median_score = median(list(plt_rep_corr[np.triu_indices(len(plt_rep_corr), k = 1)]))\n",
    "        dmso_median_scores[plate] = median_score\n",
    "        \n",
    "        ##signature strength --ss\n",
    "        plt_replicates = plt_replicates * sqrt(plt_replicates.shape[0])\n",
    "        df_plt_reps = abs(plt_replicates.T)\n",
    "        cp_feats_gtr_2 = df_plt_reps[df_plt_reps >= 2.0].stack().count()\n",
    "        ss_norm = cp_feats_gtr_2/len(df_plt_reps.columns)\n",
    "        dmso_ss_scores[plate] = ss_norm\n",
    "        \n",
    "    return dmso_median_scores, dmso_ss_scores"
   ]
  },
  {
   "cell_type": "code",
   "execution_count": 26,
   "metadata": {},
   "outputs": [],
   "source": [
    "dmso_median_scores, dmso_ss_scores = compute_dmso_SS_median_score(df_dmso)"
   ]
  },
  {
   "cell_type": "code",
   "execution_count": 27,
   "metadata": {},
   "outputs": [],
   "source": [
    "def compute_dmso_MAS(dmso_median, dmso_ss, num_feats = n_cp_feats):\n",
    "    \"\"\"\n",
    "    This function computes Morphological Activity Score (MAS) \n",
    "    per plate for only DMSO replicates\n",
    "    \"\"\"\n",
    "    dmso_mas_scores = {}\n",
    "    for plate in dmso_median:\n",
    "        dmso_mas_scores[plate] = sqrt((abs(dmso_median[plate]) * dmso_ss[plate])/num_feats) \n",
    "    return dmso_mas_scores"
   ]
  },
  {
   "cell_type": "code",
   "execution_count": 28,
   "metadata": {},
   "outputs": [],
   "source": [
    "dmso_mas_scores = compute_dmso_MAS(dmso_median_scores, dmso_ss_scores)"
   ]
  },
  {
   "cell_type": "code",
   "execution_count": 29,
   "metadata": {},
   "outputs": [],
   "source": [
    "dmso_95pct = np.percentile(list(dmso_mas_scores.values()),95)"
   ]
  },
  {
   "cell_type": "code",
   "execution_count": 30,
   "metadata": {},
   "outputs": [
    {
     "name": "stdout",
     "output_type": "stream",
     "text": [
      "0.2006309250468586\n"
     ]
    }
   ],
   "source": [
    "print(dmso_95pct)"
   ]
  },
  {
   "cell_type": "code",
   "execution_count": 31,
   "metadata": {},
   "outputs": [],
   "source": [
    "def save_to_pickle(value, path, file_name):\n",
    "    \"\"\"saves a value into a pickle file\"\"\"\n",
    "    \n",
    "    if not os.path.exists(path):\n",
    "        os.mkdir(path)\n",
    "        \n",
    "    with open(os.path.join(path, file_name), 'wb') as handle:\n",
    "        pickle.dump(value, handle, protocol=pickle.HIGHEST_PROTOCOL)"
   ]
  },
  {
   "cell_type": "code",
   "execution_count": 32,
   "metadata": {},
   "outputs": [],
   "source": [
    "save_to_pickle(dmso_95pct, cp_level4_path, 'CP_dmso_95_percentile_MAS.pickle')"
   ]
  }
 ],
 "metadata": {
  "kernelspec": {
   "display_name": "Python 3",
   "language": "python",
   "name": "python3"
  },
  "language_info": {
   "codemirror_mode": {
    "name": "ipython",
    "version": 3
   },
   "file_extension": ".py",
   "mimetype": "text/x-python",
   "name": "python",
   "nbconvert_exporter": "python",
   "pygments_lexer": "ipython3",
   "version": "3.9.2"
  }
 },
 "nbformat": 4,
 "nbformat_minor": 4
}
