{
 "cells": [
  {
   "cell_type": "markdown",
   "metadata": {},
   "source": [
    "### Level 4 - Normalized DMSO Profiles Cell painting data\n",
    "\n",
    "\n",
    "#### The goal here:\n",
    "\n",
    "-- is to determine the median score of each compound per dose based on taking the median of the correlation values between replicates of the same compound.\n",
    "\n",
    "- Level 4 data - are replicate level data i.e. where you have multiple profiles been perturbed by the same compound (pertubagen)\n",
    "\n",
    "[LINCS Cell painting Level 4 Dataset](https://github.com/broadinstitute/lincs-cell-painting/tree/master/profiles/2016_04_01_a549_48hr_batch1)"
   ]
  },
  {
   "cell_type": "code",
   "execution_count": 1,
   "metadata": {},
   "outputs": [],
   "source": [
    "import os\n",
    "import pathlib\n",
    "import pandas as pd\n",
    "import numpy as np\n",
    "from collections import defaultdict\n",
    "import matplotlib.pyplot as plt\n",
    "%matplotlib inline\n",
    "import seaborn as sns\n",
    "from pycytominer import feature_select\n",
    "from statistics import median\n",
    "import random\n",
    "sns.set_style(\"darkgrid\")\n",
    "from scipy import stats\n",
    "import pickle\n",
    "\n",
    "import warnings\n",
    "warnings.simplefilter(action='ignore', category=FutureWarning)\n",
    "np.warnings.filterwarnings('ignore', category=np.VisibleDeprecationWarning)"
   ]
  },
  {
   "cell_type": "code",
   "execution_count": 2,
   "metadata": {},
   "outputs": [],
   "source": [
    "profile_dir = 'D:\\cell_painting_profiles\\profiles'"
   ]
  },
  {
   "cell_type": "code",
   "execution_count": 3,
   "metadata": {},
   "outputs": [
    {
     "data": {
      "text/plain": [
       "['2016_04_01_a549_48hr_batch1',\n",
       " 'cell_count',\n",
       " 'media',\n",
       " 'profile.py',\n",
       " 'profile_utils.py',\n",
       " 'profiling_pipeline.py',\n",
       " 'README.md']"
      ]
     },
     "execution_count": 3,
     "metadata": {},
     "output_type": "execute_result"
    }
   ],
   "source": [
    "os.listdir(profile_dir) ##files in profiles"
   ]
  },
  {
   "cell_type": "code",
   "execution_count": 4,
   "metadata": {},
   "outputs": [],
   "source": [
    "def get_normalized_dmso_files(profile_dir):\n",
    "    \"\"\"\n",
    "    This function gets all normalized dmso Level-4 LINCS \n",
    "    Cell Painting .csv files from the profiles directory\n",
    "    \"\"\"\n",
    "    normalized_dmso_csv_files = []\n",
    "    for root, dirs, files in os.walk(profile_dir, topdown=False):\n",
    "        for file in files:\n",
    "            if file.endswith('normalized_dmso.csv.gz'):\n",
    "                normalized_dmso_csv_files.append(os.path.join(root, file))\n",
    "                \n",
    "    return normalized_dmso_csv_files"
   ]
  },
  {
   "cell_type": "code",
   "execution_count": 5,
   "metadata": {},
   "outputs": [],
   "source": [
    "normalized_dmso_lvl4_files = get_normalized_dmso_files(profile_dir)"
   ]
  },
  {
   "cell_type": "code",
   "execution_count": 6,
   "metadata": {},
   "outputs": [
    {
     "data": {
      "text/plain": [
       "136"
      ]
     },
     "execution_count": 6,
     "metadata": {},
     "output_type": "execute_result"
    }
   ],
   "source": [
    "len(normalized_dmso_lvl4_files)"
   ]
  },
  {
   "cell_type": "code",
   "execution_count": 7,
   "metadata": {},
   "outputs": [],
   "source": [
    "df_level4 = pd.concat(map(pd.read_csv, normalized_dmso_lvl4_files)).reset_index(drop=True)"
   ]
  },
  {
   "cell_type": "code",
   "execution_count": 8,
   "metadata": {},
   "outputs": [
    {
     "data": {
      "text/plain": [
       "(52223, 1809)"
      ]
     },
     "execution_count": 8,
     "metadata": {},
     "output_type": "execute_result"
    }
   ],
   "source": [
    "df_level4.shape"
   ]
  },
  {
   "cell_type": "code",
   "execution_count": 9,
   "metadata": {},
   "outputs": [
    {
     "data": {
      "text/plain": [
       "136"
      ]
     },
     "execution_count": 9,
     "metadata": {},
     "output_type": "execute_result"
    }
   ],
   "source": [
    "len(df_level4['Metadata_Plate'].unique())"
   ]
  },
  {
   "cell_type": "markdown",
   "metadata": {},
   "source": [
    "- We have 136 plates * 384 wells; in each plate we have 384 wells"
   ]
  },
  {
   "cell_type": "code",
   "execution_count": 10,
   "metadata": {},
   "outputs": [
    {
     "data": {
      "text/html": [
       "<div>\n",
       "<style scoped>\n",
       "    .dataframe tbody tr th:only-of-type {\n",
       "        vertical-align: middle;\n",
       "    }\n",
       "\n",
       "    .dataframe tbody tr th {\n",
       "        vertical-align: top;\n",
       "    }\n",
       "\n",
       "    .dataframe thead th {\n",
       "        text-align: right;\n",
       "    }\n",
       "</style>\n",
       "<table border=\"1\" class=\"dataframe\">\n",
       "  <thead>\n",
       "    <tr style=\"text-align: right;\">\n",
       "      <th></th>\n",
       "      <th>Metadata_plate_map_name</th>\n",
       "      <th>Metadata_broad_sample</th>\n",
       "      <th>Metadata_mg_per_ml</th>\n",
       "      <th>Metadata_mmoles_per_liter</th>\n",
       "      <th>Metadata_solvent</th>\n",
       "      <th>Metadata_pert_id</th>\n",
       "      <th>Metadata_pert_mfc_id</th>\n",
       "      <th>Metadata_pert_well</th>\n",
       "      <th>Metadata_pert_id_vendor</th>\n",
       "      <th>Metadata_cell_id</th>\n",
       "      <th>...</th>\n",
       "      <th>Nuclei_Texture_Variance_DNA_5_0</th>\n",
       "      <th>Nuclei_Texture_Variance_ER_10_0</th>\n",
       "      <th>Nuclei_Texture_Variance_ER_20_0</th>\n",
       "      <th>Nuclei_Texture_Variance_ER_5_0</th>\n",
       "      <th>Nuclei_Texture_Variance_Mito_10_0</th>\n",
       "      <th>Nuclei_Texture_Variance_Mito_20_0</th>\n",
       "      <th>Nuclei_Texture_Variance_Mito_5_0</th>\n",
       "      <th>Nuclei_Texture_Variance_RNA_10_0</th>\n",
       "      <th>Nuclei_Texture_Variance_RNA_20_0</th>\n",
       "      <th>Nuclei_Texture_Variance_RNA_5_0</th>\n",
       "    </tr>\n",
       "  </thead>\n",
       "  <tbody>\n",
       "    <tr>\n",
       "      <th>0</th>\n",
       "      <td>C-7161-01-LM6-022</td>\n",
       "      <td>DMSO</td>\n",
       "      <td>0.0</td>\n",
       "      <td>0.0</td>\n",
       "      <td>DMSO</td>\n",
       "      <td>NaN</td>\n",
       "      <td>NaN</td>\n",
       "      <td>A01</td>\n",
       "      <td>NaN</td>\n",
       "      <td>A549</td>\n",
       "      <td>...</td>\n",
       "      <td>2.48340</td>\n",
       "      <td>1.38270</td>\n",
       "      <td>1.83470</td>\n",
       "      <td>0.958340</td>\n",
       "      <td>1.95550</td>\n",
       "      <td>0.92532</td>\n",
       "      <td>2.01230</td>\n",
       "      <td>-1.66110</td>\n",
       "      <td>-2.1516</td>\n",
       "      <td>-0.24654</td>\n",
       "    </tr>\n",
       "    <tr>\n",
       "      <th>1</th>\n",
       "      <td>C-7161-01-LM6-022</td>\n",
       "      <td>DMSO</td>\n",
       "      <td>0.0</td>\n",
       "      <td>0.0</td>\n",
       "      <td>DMSO</td>\n",
       "      <td>NaN</td>\n",
       "      <td>NaN</td>\n",
       "      <td>A02</td>\n",
       "      <td>NaN</td>\n",
       "      <td>A549</td>\n",
       "      <td>...</td>\n",
       "      <td>1.98420</td>\n",
       "      <td>1.77350</td>\n",
       "      <td>1.27920</td>\n",
       "      <td>1.269200</td>\n",
       "      <td>1.52950</td>\n",
       "      <td>1.18580</td>\n",
       "      <td>1.27550</td>\n",
       "      <td>-0.42297</td>\n",
       "      <td>1.3687</td>\n",
       "      <td>-0.36283</td>\n",
       "    </tr>\n",
       "    <tr>\n",
       "      <th>2</th>\n",
       "      <td>C-7161-01-LM6-022</td>\n",
       "      <td>DMSO</td>\n",
       "      <td>0.0</td>\n",
       "      <td>0.0</td>\n",
       "      <td>DMSO</td>\n",
       "      <td>NaN</td>\n",
       "      <td>NaN</td>\n",
       "      <td>A03</td>\n",
       "      <td>NaN</td>\n",
       "      <td>A549</td>\n",
       "      <td>...</td>\n",
       "      <td>0.99096</td>\n",
       "      <td>1.24930</td>\n",
       "      <td>1.35630</td>\n",
       "      <td>0.935370</td>\n",
       "      <td>1.16050</td>\n",
       "      <td>0.64569</td>\n",
       "      <td>0.62145</td>\n",
       "      <td>-0.93012</td>\n",
       "      <td>-0.6928</td>\n",
       "      <td>-0.92103</td>\n",
       "    </tr>\n",
       "    <tr>\n",
       "      <th>3</th>\n",
       "      <td>C-7161-01-LM6-022</td>\n",
       "      <td>DMSO</td>\n",
       "      <td>0.0</td>\n",
       "      <td>0.0</td>\n",
       "      <td>DMSO</td>\n",
       "      <td>NaN</td>\n",
       "      <td>NaN</td>\n",
       "      <td>A04</td>\n",
       "      <td>NaN</td>\n",
       "      <td>A549</td>\n",
       "      <td>...</td>\n",
       "      <td>1.31620</td>\n",
       "      <td>0.35212</td>\n",
       "      <td>0.94296</td>\n",
       "      <td>0.059474</td>\n",
       "      <td>0.29241</td>\n",
       "      <td>0.20163</td>\n",
       "      <td>0.13188</td>\n",
       "      <td>-1.52970</td>\n",
       "      <td>-1.7573</td>\n",
       "      <td>-1.56990</td>\n",
       "    </tr>\n",
       "    <tr>\n",
       "      <th>4</th>\n",
       "      <td>C-7161-01-LM6-022</td>\n",
       "      <td>DMSO</td>\n",
       "      <td>0.0</td>\n",
       "      <td>0.0</td>\n",
       "      <td>DMSO</td>\n",
       "      <td>NaN</td>\n",
       "      <td>NaN</td>\n",
       "      <td>A05</td>\n",
       "      <td>NaN</td>\n",
       "      <td>A549</td>\n",
       "      <td>...</td>\n",
       "      <td>0.92864</td>\n",
       "      <td>0.27655</td>\n",
       "      <td>0.43260</td>\n",
       "      <td>-0.005407</td>\n",
       "      <td>0.83840</td>\n",
       "      <td>0.75010</td>\n",
       "      <td>0.32070</td>\n",
       "      <td>0.57696</td>\n",
       "      <td>0.4506</td>\n",
       "      <td>1.73270</td>\n",
       "    </tr>\n",
       "  </tbody>\n",
       "</table>\n",
       "<p>5 rows × 1809 columns</p>\n",
       "</div>"
      ],
      "text/plain": [
       "  Metadata_plate_map_name Metadata_broad_sample  Metadata_mg_per_ml  \\\n",
       "0       C-7161-01-LM6-022                  DMSO                 0.0   \n",
       "1       C-7161-01-LM6-022                  DMSO                 0.0   \n",
       "2       C-7161-01-LM6-022                  DMSO                 0.0   \n",
       "3       C-7161-01-LM6-022                  DMSO                 0.0   \n",
       "4       C-7161-01-LM6-022                  DMSO                 0.0   \n",
       "\n",
       "   Metadata_mmoles_per_liter Metadata_solvent Metadata_pert_id  \\\n",
       "0                        0.0             DMSO              NaN   \n",
       "1                        0.0             DMSO              NaN   \n",
       "2                        0.0             DMSO              NaN   \n",
       "3                        0.0             DMSO              NaN   \n",
       "4                        0.0             DMSO              NaN   \n",
       "\n",
       "  Metadata_pert_mfc_id Metadata_pert_well  Metadata_pert_id_vendor  \\\n",
       "0                  NaN                A01                      NaN   \n",
       "1                  NaN                A02                      NaN   \n",
       "2                  NaN                A03                      NaN   \n",
       "3                  NaN                A04                      NaN   \n",
       "4                  NaN                A05                      NaN   \n",
       "\n",
       "  Metadata_cell_id  ... Nuclei_Texture_Variance_DNA_5_0  \\\n",
       "0             A549  ...                         2.48340   \n",
       "1             A549  ...                         1.98420   \n",
       "2             A549  ...                         0.99096   \n",
       "3             A549  ...                         1.31620   \n",
       "4             A549  ...                         0.92864   \n",
       "\n",
       "  Nuclei_Texture_Variance_ER_10_0 Nuclei_Texture_Variance_ER_20_0  \\\n",
       "0                         1.38270                         1.83470   \n",
       "1                         1.77350                         1.27920   \n",
       "2                         1.24930                         1.35630   \n",
       "3                         0.35212                         0.94296   \n",
       "4                         0.27655                         0.43260   \n",
       "\n",
       "  Nuclei_Texture_Variance_ER_5_0 Nuclei_Texture_Variance_Mito_10_0  \\\n",
       "0                       0.958340                           1.95550   \n",
       "1                       1.269200                           1.52950   \n",
       "2                       0.935370                           1.16050   \n",
       "3                       0.059474                           0.29241   \n",
       "4                      -0.005407                           0.83840   \n",
       "\n",
       "  Nuclei_Texture_Variance_Mito_20_0 Nuclei_Texture_Variance_Mito_5_0  \\\n",
       "0                           0.92532                          2.01230   \n",
       "1                           1.18580                          1.27550   \n",
       "2                           0.64569                          0.62145   \n",
       "3                           0.20163                          0.13188   \n",
       "4                           0.75010                          0.32070   \n",
       "\n",
       "  Nuclei_Texture_Variance_RNA_10_0 Nuclei_Texture_Variance_RNA_20_0  \\\n",
       "0                         -1.66110                          -2.1516   \n",
       "1                         -0.42297                           1.3687   \n",
       "2                         -0.93012                          -0.6928   \n",
       "3                         -1.52970                          -1.7573   \n",
       "4                          0.57696                           0.4506   \n",
       "\n",
       "  Nuclei_Texture_Variance_RNA_5_0  \n",
       "0                        -0.24654  \n",
       "1                        -0.36283  \n",
       "2                        -0.92103  \n",
       "3                        -1.56990  \n",
       "4                         1.73270  \n",
       "\n",
       "[5 rows x 1809 columns]"
      ]
     },
     "execution_count": 10,
     "metadata": {},
     "output_type": "execute_result"
    }
   ],
   "source": [
    "df_level4.head()"
   ]
  },
  {
   "cell_type": "code",
   "execution_count": 11,
   "metadata": {},
   "outputs": [],
   "source": [
    "dose_liter = df_level4['Metadata_mmoles_per_liter'].unique().tolist()"
   ]
  },
  {
   "cell_type": "code",
   "execution_count": 12,
   "metadata": {},
   "outputs": [
    {
     "data": {
      "text/plain": [
       "[0.0,\n",
       " 10.0,\n",
       " 3.3333,\n",
       " 1.1111,\n",
       " 0.37037,\n",
       " 0.12345999999999999,\n",
       " 0.041152,\n",
       " 20.0,\n",
       " 8.106,\n",
       " 2.702,\n",
       " 0.9006700000000001,\n",
       " 0.30022,\n",
       " 0.10007,\n",
       " 0.033358,\n",
       " 19.999000000000002,\n",
       " 1.0,\n",
       " 0.33333,\n",
       " 0.11110999999999999,\n",
       " 0.037037,\n",
       " 0.012346,\n",
       " 0.0041152,\n",
       " 5.7741,\n",
       " 1.9247,\n",
       " 0.64157,\n",
       " 0.21386,\n",
       " 0.071285,\n",
       " 0.023762000000000002,\n",
       " 4.1701,\n",
       " 1.39,\n",
       " 0.46334,\n",
       " 0.15445,\n",
       " 0.05148200000000001,\n",
       " 0.017161000000000003,\n",
       " 2.0,\n",
       " 0.66667,\n",
       " 0.22221999999999997,\n",
       " 0.074074,\n",
       " 0.024691,\n",
       " 0.0082305,\n",
       " 10.05,\n",
       " 3.3499,\n",
       " 1.1166,\n",
       " 0.37221,\n",
       " 0.12407,\n",
       " 0.041356,\n",
       " 10.716,\n",
       " 3.5721,\n",
       " 1.1907,\n",
       " 0.3969,\n",
       " 0.1323,\n",
       " 0.0441,\n",
       " 4.5176,\n",
       " 1.5059,\n",
       " 0.50195,\n",
       " 0.16732,\n",
       " 0.055772,\n",
       " 0.018591,\n",
       " 4.8003,\n",
       " 1.6001,\n",
       " 0.53337,\n",
       " 0.17779,\n",
       " 0.059264,\n",
       " 0.019755,\n",
       " 11.2,\n",
       " 3.7333,\n",
       " 1.2444,\n",
       " 0.41481,\n",
       " 0.13827,\n",
       " 0.04609,\n",
       " 9.5837,\n",
       " 3.1946,\n",
       " 1.0649,\n",
       " 0.35495,\n",
       " 0.11832000000000001,\n",
       " 0.039439,\n",
       " 11.547,\n",
       " 3.8489,\n",
       " 1.2830000000000001,\n",
       " 0.42766000000000004,\n",
       " 0.14255,\n",
       " 0.047517000000000004,\n",
       " 10.072000000000001,\n",
       " 3.3574,\n",
       " 1.1191,\n",
       " 0.37305,\n",
       " 0.12435,\n",
       " 0.04145,\n",
       " 6.7937,\n",
       " 2.2646,\n",
       " 0.75485,\n",
       " 0.25161999999999995,\n",
       " 0.083873,\n",
       " 0.027957999999999997]"
      ]
     },
     "execution_count": 12,
     "metadata": {},
     "output_type": "execute_result"
    }
   ],
   "source": [
    "dose_liter"
   ]
  },
  {
   "cell_type": "markdown",
   "metadata": {},
   "source": [
    "- We have 93 unique doses across the level 4 dataset, we are going to **recode the doses to 8 distinct doses**, this means we are going to assign this 93 unique doses to the nearest 8 distinct doses."
   ]
  },
  {
   "cell_type": "markdown",
   "metadata": {},
   "source": [
    "| Dose | Dose Recode |\n",
    "| :--: | :---------: |\n",
    "| 0 (DMSO) | 0 |\n",
    "| ~0.04 | 1 |\n",
    "| ~0.12 | 2 |\n",
    "| ~0.37 | 3 |\n",
    "| ~1.11 | 4 |\n",
    "| ~3.33 | 5 |\n",
    "| ~10 | 6 |\n",
    "| ~20 | 7 |"
   ]
  },
  {
   "cell_type": "code",
   "execution_count": 13,
   "metadata": {},
   "outputs": [],
   "source": [
    "def recode_dose(dose_value):\n",
    "    \"\"\"This function recode the doses in Level-4 data to 8 distinct dose classes\"\"\"\n",
    "    \n",
    "    doses = [0.04,0.12,0.37,1.11,3.33,10.0,20.0,25.0]\n",
    "    for x in range(len(doses)-1):\n",
    "        if (dose_value > 0.0) & (dose_value <= 0.04):\n",
    "            dose_value = 0.04\n",
    "        elif doses[x] <= round(dose_value,2) < doses[x+1]:\n",
    "            dose_value = doses[x]\n",
    "    return dose_value"
   ]
  },
  {
   "cell_type": "code",
   "execution_count": 14,
   "metadata": {},
   "outputs": [],
   "source": [
    "df_level4['Metadata_dose_recode'] = df_level4['Metadata_mmoles_per_liter'].apply(recode_dose)"
   ]
  },
  {
   "cell_type": "code",
   "execution_count": 15,
   "metadata": {},
   "outputs": [
    {
     "data": {
      "text/plain": [
       "array([ 0.  , 10.  ,  3.33,  1.11,  0.37,  0.12,  0.04, 20.  ])"
      ]
     },
     "execution_count": 15,
     "metadata": {},
     "output_type": "execute_result"
    }
   ],
   "source": [
    "df_level4['Metadata_dose_recode'].unique()"
   ]
  },
  {
   "cell_type": "code",
   "execution_count": 16,
   "metadata": {},
   "outputs": [],
   "source": [
    "def feature_selection(df_lvl4): \n",
    "    \"\"\"\n",
    "    Perform feature selection by dropping columns with null values \n",
    "    (greater than 384 i.e. equivalent to one plate worth of cell profiles) \n",
    "    and highly correlated values from the data.\n",
    "    \"\"\"\n",
    "    metadata_columns = [x for x in df_lvl4.columns if (x.startswith(\"Metadata_\"))]\n",
    "    df_lvl4_metadata = df_lvl4[metadata_columns].copy()\n",
    "    df_lvl4_features = df_lvl4.drop(metadata_columns, axis = 1)\n",
    "    null_cols = [col for col in df_lvl4_features.columns if df_lvl4_features[col].isnull().sum() > 384]\n",
    "    df_lvl4_features.drop(null_cols, axis = 1, inplace=True)\n",
    "    df_lvl4_features = feature_select(df_lvl4_features, operation=[\"correlation_threshold\", \"variance_threshold\"])\n",
    "    \n",
    "    for col in df_lvl4_features.columns:\n",
    "        if df_lvl4_features[col].isnull().sum():\n",
    "            df_lvl4_features[col].fillna(value=df_lvl4_features[col].mean(), inplace = True)\n",
    "            \n",
    "    df_meta_info = df_lvl4_metadata[['Metadata_broad_sample', 'Metadata_pert_id', 'Metadata_Plate', 'Metadata_Well',\n",
    "                                     'Metadata_broad_id', 'Metadata_moa', 'Metadata_dose_recode']].copy()\n",
    "    df_lvl4_new = pd.concat([df_meta_info, df_lvl4_features], axis=1)\n",
    "    \n",
    "    return df_lvl4_new"
   ]
  },
  {
   "cell_type": "code",
   "execution_count": 17,
   "metadata": {},
   "outputs": [],
   "source": [
    "df_level4_new = feature_selection(df_level4)"
   ]
  },
  {
   "cell_type": "code",
   "execution_count": 18,
   "metadata": {},
   "outputs": [
    {
     "data": {
      "text/plain": [
       "(52223, 752)"
      ]
     },
     "execution_count": 18,
     "metadata": {},
     "output_type": "execute_result"
    }
   ],
   "source": [
    "df_level4_new.shape"
   ]
  },
  {
   "cell_type": "code",
   "execution_count": 19,
   "metadata": {},
   "outputs": [],
   "source": [
    "def merge_dataframe(df, pertinfo_file):\n",
    "    \"\"\"\n",
    "    This function merge aligned L1000 and Cell painting Metadata information dataframe \n",
    "    with the Level-4 data, change the values of the Metadata_dose_recode column \n",
    "    and create a new column 'replicate_name' that represents each replicate in the dataset\n",
    "    \"\"\" \n",
    "    df_pertinfo = pd.read_csv(pertinfo_file)\n",
    "    df_lvl4_new = df.merge(df_pertinfo, on='Metadata_broad_sample', how = 'outer')\n",
    "    no_cpds_df = df_lvl4_new[df_lvl4_new['pert_iname'].isnull()].copy().reset_index(drop = True)\n",
    "    df_lvl4_new.drop(df_lvl4_new[df_lvl4_new['pert_iname'].isnull()].index, inplace = True)\n",
    "    df_lvl4_new.reset_index(drop= True, inplace = True)\n",
    "    df_lvl4_new['Metadata_dose_recode'] = df_lvl4_new['Metadata_dose_recode'].map({0.0:0,0.04:1,0.12:2,0.37:3,1.11:4,\n",
    "                                                                                   3.33:5,10.0:6,20.0:7})\n",
    "    df_lvl4_new['replicate_name'] = ['replicate_' + str(x) for x in range(df_lvl4_new.shape[0])]\n",
    "    \n",
    "    return df_lvl4_new, no_cpds_df"
   ]
  },
  {
   "cell_type": "code",
   "execution_count": 20,
   "metadata": {},
   "outputs": [],
   "source": [
    "pertinfo_file = '../aligned_moa_CP_L1000.csv'"
   ]
  },
  {
   "cell_type": "code",
   "execution_count": 21,
   "metadata": {},
   "outputs": [],
   "source": [
    "df_level4_new, df_level4_no_cpds = merge_dataframe(df_level4_new, pertinfo_file)"
   ]
  },
  {
   "cell_type": "code",
   "execution_count": 22,
   "metadata": {},
   "outputs": [
    {
     "data": {
      "text/plain": [
       "['BRD-A20131130-001-01-7',\n",
       " 'BRD-M98279124-300-01-1',\n",
       " 'BRD-K87278688-001-01-0',\n",
       " 'BRD-K21547160-001-01-4',\n",
       " 'BRD-A44448661-001-04-8',\n",
       " 'BRD-K41438959-001-01-7',\n",
       " 'BRD-A37288617-003-02-2',\n",
       " 'BRD-K52080565-001-09-2',\n",
       " 'BRD-K73395020-001-02-3',\n",
       " 'BRD-K01192156-001-02-7',\n",
       " 'BRD-A84045418-001-03-1',\n",
       " 'BRD-K60623809-001-02-0',\n",
       " 'BRD-K51033547-003-02-6']"
      ]
     },
     "execution_count": 22,
     "metadata": {},
     "output_type": "execute_result"
    }
   ],
   "source": [
    "##list of \"Broad samples\" WITHOUT Compounds after aligning L1000 and Cell painting MOAs\n",
    "df_level4_no_cpds['Metadata_broad_sample'].unique().tolist()"
   ]
  },
  {
   "cell_type": "code",
   "execution_count": 23,
   "metadata": {},
   "outputs": [],
   "source": [
    "def get_median_score(cpds_list, df):\n",
    "    \"\"\"\n",
    "    This function calculates the median score for each compound based on its replicates\n",
    "    \"\"\"\n",
    "    \n",
    "    cpds_median_score = {}\n",
    "    for cpd in cpds_list:\n",
    "        cpd_replicates = df[df['pert_iname'] == cpd].copy()\n",
    "        cpd_replicates.drop(['Metadata_broad_sample', 'Metadata_pert_id', 'Metadata_dose_recode', 'Metadata_Plate',\n",
    "                             'Metadata_Well', 'Metadata_broad_id', 'Metadata_moa', 'broad_id', \n",
    "                             'pert_iname', 'moa', 'replicate_name'], axis = 1, inplace = True)\n",
    "        cpd_replicates_corr = cpd_replicates.astype('float64').T.corr(method = 'spearman').values\n",
    "        if len(cpd_replicates_corr) == 1:\n",
    "            median_val = 1\n",
    "        else:\n",
    "            median_val = median(list(cpd_replicates_corr[np.triu_indices(len(cpd_replicates_corr), k = 1)]))\n",
    "        \n",
    "        cpds_median_score[cpd] = median_val\n",
    "        \n",
    "    return cpds_median_score"
   ]
  },
  {
   "cell_type": "code",
   "execution_count": 24,
   "metadata": {},
   "outputs": [],
   "source": [
    "def check_compounds(cpd_med_score, df):\n",
    "    \"\"\"\n",
    "    Check if all distinct compounds in the Level-4 dataframe are present \n",
    "    in the cpd_med_score dictionary, if not add the compounds as keys to the dictionary \n",
    "    and give them a null value.\n",
    "    \"\"\"\n",
    "    cpd_list = df['pert_iname'].unique().tolist()\n",
    "    cpd_keys = cpd_med_score.keys()\n",
    "    for cpd in cpd_list:\n",
    "        if cpd not in cpd_keys:\n",
    "            cpd_med_score[cpd] = np.nan\n",
    "            \n",
    "    return cpd_med_score"
   ]
  },
  {
   "cell_type": "code",
   "execution_count": 25,
   "metadata": {},
   "outputs": [],
   "source": [
    "def get_cpd_medianscores(df):\n",
    "    \n",
    "    \"\"\"This function computes median scores for all compounds found in the Level-4 dataframe PER DOSE (1-6)\"\"\"\n",
    "    \n",
    "    dose_list = list(set(df['Metadata_dose_recode'].unique().tolist()))[1:7]\n",
    "    \n",
    "    for dose in dose_list:\n",
    "        df_dose = df[df['Metadata_dose_recode'] == dose].copy()\n",
    "        cpds_list = df_dose['pert_iname'].unique().tolist()\n",
    "        cpds_median_score = get_median_score(cpds_list, df_dose)\n",
    "        cpds_median_score = check_compounds(cpds_median_score, df)\n",
    "        sorted_med_score = {key:value for key, value in sorted(cpds_median_score.items(), key=lambda item: item[0])}\n",
    "        if dose == 1:\n",
    "            df_cpd_med_score = pd.DataFrame.from_dict(sorted_med_score, orient='index', columns = ['dose_1'])\n",
    "        else:\n",
    "            df_cpd_med_score['dose_' + str(dose)] = sorted_med_score.values()\n",
    "            \n",
    "    return df_cpd_med_score"
   ]
  },
  {
   "cell_type": "code",
   "execution_count": 26,
   "metadata": {},
   "outputs": [],
   "source": [
    "df_cpd_med_score = get_cpd_medianscores(df_level4_new)"
   ]
  },
  {
   "cell_type": "code",
   "execution_count": 27,
   "metadata": {},
   "outputs": [
    {
     "data": {
      "text/html": [
       "<div>\n",
       "<style scoped>\n",
       "    .dataframe tbody tr th:only-of-type {\n",
       "        vertical-align: middle;\n",
       "    }\n",
       "\n",
       "    .dataframe tbody tr th {\n",
       "        vertical-align: top;\n",
       "    }\n",
       "\n",
       "    .dataframe thead th {\n",
       "        text-align: right;\n",
       "    }\n",
       "</style>\n",
       "<table border=\"1\" class=\"dataframe\">\n",
       "  <thead>\n",
       "    <tr style=\"text-align: right;\">\n",
       "      <th></th>\n",
       "      <th>dose_1</th>\n",
       "      <th>dose_2</th>\n",
       "      <th>dose_3</th>\n",
       "      <th>dose_4</th>\n",
       "      <th>dose_5</th>\n",
       "      <th>dose_6</th>\n",
       "    </tr>\n",
       "  </thead>\n",
       "  <tbody>\n",
       "    <tr>\n",
       "      <th>10-DEBC</th>\n",
       "      <td>0.060405</td>\n",
       "      <td>0.206655</td>\n",
       "      <td>0.055344</td>\n",
       "      <td>0.030245</td>\n",
       "      <td>0.398169</td>\n",
       "      <td>0.618065</td>\n",
       "    </tr>\n",
       "    <tr>\n",
       "      <th>16,16-dimethylprostaglandin-e2</th>\n",
       "      <td>0.363895</td>\n",
       "      <td>0.432220</td>\n",
       "      <td>0.277582</td>\n",
       "      <td>NaN</td>\n",
       "      <td>NaN</td>\n",
       "      <td>NaN</td>\n",
       "    </tr>\n",
       "    <tr>\n",
       "      <th>17-hydroxyprogesterone-caproate</th>\n",
       "      <td>0.511133</td>\n",
       "      <td>0.329249</td>\n",
       "      <td>0.224179</td>\n",
       "      <td>0.287033</td>\n",
       "      <td>0.325095</td>\n",
       "      <td>0.883269</td>\n",
       "    </tr>\n",
       "    <tr>\n",
       "      <th>2-iminobiotin</th>\n",
       "      <td>0.123800</td>\n",
       "      <td>0.184245</td>\n",
       "      <td>0.105822</td>\n",
       "      <td>0.155812</td>\n",
       "      <td>0.029073</td>\n",
       "      <td>0.053605</td>\n",
       "    </tr>\n",
       "    <tr>\n",
       "      <th>2-methoxyestradiol</th>\n",
       "      <td>0.306166</td>\n",
       "      <td>0.289920</td>\n",
       "      <td>0.486815</td>\n",
       "      <td>0.812630</td>\n",
       "      <td>0.851861</td>\n",
       "      <td>0.909993</td>\n",
       "    </tr>\n",
       "    <tr>\n",
       "      <th>3,3'-diindolylmethane</th>\n",
       "      <td>0.187089</td>\n",
       "      <td>0.309071</td>\n",
       "      <td>0.234518</td>\n",
       "      <td>NaN</td>\n",
       "      <td>NaN</td>\n",
       "      <td>NaN</td>\n",
       "    </tr>\n",
       "    <tr>\n",
       "      <th>3-amino-benzamide</th>\n",
       "      <td>0.421004</td>\n",
       "      <td>0.293440</td>\n",
       "      <td>0.459122</td>\n",
       "      <td>0.286109</td>\n",
       "      <td>0.488442</td>\n",
       "      <td>0.447365</td>\n",
       "    </tr>\n",
       "    <tr>\n",
       "      <th>3-deazaadenosine</th>\n",
       "      <td>0.077982</td>\n",
       "      <td>-0.008292</td>\n",
       "      <td>-0.014438</td>\n",
       "      <td>-0.105789</td>\n",
       "      <td>-0.018326</td>\n",
       "      <td>0.300607</td>\n",
       "    </tr>\n",
       "    <tr>\n",
       "      <th>ABT-737</th>\n",
       "      <td>0.265878</td>\n",
       "      <td>0.329012</td>\n",
       "      <td>0.531166</td>\n",
       "      <td>0.633499</td>\n",
       "      <td>0.719171</td>\n",
       "      <td>0.872330</td>\n",
       "    </tr>\n",
       "    <tr>\n",
       "      <th>AEE788</th>\n",
       "      <td>0.829277</td>\n",
       "      <td>0.291022</td>\n",
       "      <td>0.486297</td>\n",
       "      <td>0.527541</td>\n",
       "      <td>0.891382</td>\n",
       "      <td>0.901936</td>\n",
       "    </tr>\n",
       "  </tbody>\n",
       "</table>\n",
       "</div>"
      ],
      "text/plain": [
       "                                   dose_1    dose_2    dose_3    dose_4  \\\n",
       "10-DEBC                          0.060405  0.206655  0.055344  0.030245   \n",
       "16,16-dimethylprostaglandin-e2   0.363895  0.432220  0.277582       NaN   \n",
       "17-hydroxyprogesterone-caproate  0.511133  0.329249  0.224179  0.287033   \n",
       "2-iminobiotin                    0.123800  0.184245  0.105822  0.155812   \n",
       "2-methoxyestradiol               0.306166  0.289920  0.486815  0.812630   \n",
       "3,3'-diindolylmethane            0.187089  0.309071  0.234518       NaN   \n",
       "3-amino-benzamide                0.421004  0.293440  0.459122  0.286109   \n",
       "3-deazaadenosine                 0.077982 -0.008292 -0.014438 -0.105789   \n",
       "ABT-737                          0.265878  0.329012  0.531166  0.633499   \n",
       "AEE788                           0.829277  0.291022  0.486297  0.527541   \n",
       "\n",
       "                                   dose_5    dose_6  \n",
       "10-DEBC                          0.398169  0.618065  \n",
       "16,16-dimethylprostaglandin-e2        NaN       NaN  \n",
       "17-hydroxyprogesterone-caproate  0.325095  0.883269  \n",
       "2-iminobiotin                    0.029073  0.053605  \n",
       "2-methoxyestradiol               0.851861  0.909993  \n",
       "3,3'-diindolylmethane                 NaN       NaN  \n",
       "3-amino-benzamide                0.488442  0.447365  \n",
       "3-deazaadenosine                -0.018326  0.300607  \n",
       "ABT-737                          0.719171  0.872330  \n",
       "AEE788                           0.891382  0.901936  "
      ]
     },
     "execution_count": 27,
     "metadata": {},
     "output_type": "execute_result"
    }
   ],
   "source": [
    "df_cpd_med_score.head(10)"
   ]
  },
  {
   "cell_type": "code",
   "execution_count": 28,
   "metadata": {},
   "outputs": [],
   "source": [
    "def drop_cpds_with_null(df):\n",
    "    \"\"\"\n",
    "    This function drop compounds with median scores of 1 \n",
    "    or null values in any of the dose points (1-6)\n",
    "    \"\"\"\n",
    "    cpds_with_null = []\n",
    "    for cpd in df.index:\n",
    "        if any(df.loc[cpd] == 1) | any(df.loc[cpd].isnull()):\n",
    "            cpds_with_null.append(cpd)\n",
    "    df.drop(cpds_with_null, axis = 0, inplace = True)\n",
    "    \n",
    "    return df"
   ]
  },
  {
   "cell_type": "code",
   "execution_count": 29,
   "metadata": {},
   "outputs": [],
   "source": [
    "df_cpd_med_score = drop_cpds_with_null(df_cpd_med_score)"
   ]
  },
  {
   "cell_type": "code",
   "execution_count": 30,
   "metadata": {},
   "outputs": [
    {
     "data": {
      "text/html": [
       "<div>\n",
       "<style scoped>\n",
       "    .dataframe tbody tr th:only-of-type {\n",
       "        vertical-align: middle;\n",
       "    }\n",
       "\n",
       "    .dataframe tbody tr th {\n",
       "        vertical-align: top;\n",
       "    }\n",
       "\n",
       "    .dataframe thead th {\n",
       "        text-align: right;\n",
       "    }\n",
       "</style>\n",
       "<table border=\"1\" class=\"dataframe\">\n",
       "  <thead>\n",
       "    <tr style=\"text-align: right;\">\n",
       "      <th></th>\n",
       "      <th>dose_1</th>\n",
       "      <th>dose_2</th>\n",
       "      <th>dose_3</th>\n",
       "      <th>dose_4</th>\n",
       "      <th>dose_5</th>\n",
       "      <th>dose_6</th>\n",
       "    </tr>\n",
       "  </thead>\n",
       "  <tbody>\n",
       "    <tr>\n",
       "      <th>10-DEBC</th>\n",
       "      <td>0.060405</td>\n",
       "      <td>0.206655</td>\n",
       "      <td>0.055344</td>\n",
       "      <td>0.030245</td>\n",
       "      <td>0.398169</td>\n",
       "      <td>0.618065</td>\n",
       "    </tr>\n",
       "    <tr>\n",
       "      <th>17-hydroxyprogesterone-caproate</th>\n",
       "      <td>0.511133</td>\n",
       "      <td>0.329249</td>\n",
       "      <td>0.224179</td>\n",
       "      <td>0.287033</td>\n",
       "      <td>0.325095</td>\n",
       "      <td>0.883269</td>\n",
       "    </tr>\n",
       "    <tr>\n",
       "      <th>2-iminobiotin</th>\n",
       "      <td>0.123800</td>\n",
       "      <td>0.184245</td>\n",
       "      <td>0.105822</td>\n",
       "      <td>0.155812</td>\n",
       "      <td>0.029073</td>\n",
       "      <td>0.053605</td>\n",
       "    </tr>\n",
       "    <tr>\n",
       "      <th>2-methoxyestradiol</th>\n",
       "      <td>0.306166</td>\n",
       "      <td>0.289920</td>\n",
       "      <td>0.486815</td>\n",
       "      <td>0.812630</td>\n",
       "      <td>0.851861</td>\n",
       "      <td>0.909993</td>\n",
       "    </tr>\n",
       "    <tr>\n",
       "      <th>3-amino-benzamide</th>\n",
       "      <td>0.421004</td>\n",
       "      <td>0.293440</td>\n",
       "      <td>0.459122</td>\n",
       "      <td>0.286109</td>\n",
       "      <td>0.488442</td>\n",
       "      <td>0.447365</td>\n",
       "    </tr>\n",
       "    <tr>\n",
       "      <th>3-deazaadenosine</th>\n",
       "      <td>0.077982</td>\n",
       "      <td>-0.008292</td>\n",
       "      <td>-0.014438</td>\n",
       "      <td>-0.105789</td>\n",
       "      <td>-0.018326</td>\n",
       "      <td>0.300607</td>\n",
       "    </tr>\n",
       "    <tr>\n",
       "      <th>ABT-737</th>\n",
       "      <td>0.265878</td>\n",
       "      <td>0.329012</td>\n",
       "      <td>0.531166</td>\n",
       "      <td>0.633499</td>\n",
       "      <td>0.719171</td>\n",
       "      <td>0.872330</td>\n",
       "    </tr>\n",
       "    <tr>\n",
       "      <th>AEE788</th>\n",
       "      <td>0.829277</td>\n",
       "      <td>0.291022</td>\n",
       "      <td>0.486297</td>\n",
       "      <td>0.527541</td>\n",
       "      <td>0.891382</td>\n",
       "      <td>0.901936</td>\n",
       "    </tr>\n",
       "    <tr>\n",
       "      <th>AICA-ribonucleotide</th>\n",
       "      <td>0.206447</td>\n",
       "      <td>0.002640</td>\n",
       "      <td>0.024904</td>\n",
       "      <td>-0.023533</td>\n",
       "      <td>0.085683</td>\n",
       "      <td>0.158885</td>\n",
       "    </tr>\n",
       "    <tr>\n",
       "      <th>AKT-inhibitor-1-2</th>\n",
       "      <td>0.403620</td>\n",
       "      <td>0.337821</td>\n",
       "      <td>0.468273</td>\n",
       "      <td>0.553683</td>\n",
       "      <td>0.278457</td>\n",
       "      <td>0.462571</td>\n",
       "    </tr>\n",
       "  </tbody>\n",
       "</table>\n",
       "</div>"
      ],
      "text/plain": [
       "                                   dose_1    dose_2    dose_3    dose_4  \\\n",
       "10-DEBC                          0.060405  0.206655  0.055344  0.030245   \n",
       "17-hydroxyprogesterone-caproate  0.511133  0.329249  0.224179  0.287033   \n",
       "2-iminobiotin                    0.123800  0.184245  0.105822  0.155812   \n",
       "2-methoxyestradiol               0.306166  0.289920  0.486815  0.812630   \n",
       "3-amino-benzamide                0.421004  0.293440  0.459122  0.286109   \n",
       "3-deazaadenosine                 0.077982 -0.008292 -0.014438 -0.105789   \n",
       "ABT-737                          0.265878  0.329012  0.531166  0.633499   \n",
       "AEE788                           0.829277  0.291022  0.486297  0.527541   \n",
       "AICA-ribonucleotide              0.206447  0.002640  0.024904 -0.023533   \n",
       "AKT-inhibitor-1-2                0.403620  0.337821  0.468273  0.553683   \n",
       "\n",
       "                                   dose_5    dose_6  \n",
       "10-DEBC                          0.398169  0.618065  \n",
       "17-hydroxyprogesterone-caproate  0.325095  0.883269  \n",
       "2-iminobiotin                    0.029073  0.053605  \n",
       "2-methoxyestradiol               0.851861  0.909993  \n",
       "3-amino-benzamide                0.488442  0.447365  \n",
       "3-deazaadenosine                -0.018326  0.300607  \n",
       "ABT-737                          0.719171  0.872330  \n",
       "AEE788                           0.891382  0.901936  \n",
       "AICA-ribonucleotide              0.085683  0.158885  \n",
       "AKT-inhibitor-1-2                0.278457  0.462571  "
      ]
     },
     "execution_count": 30,
     "metadata": {},
     "output_type": "execute_result"
    }
   ],
   "source": [
    "df_cpd_med_score.head(10)"
   ]
  },
  {
   "cell_type": "code",
   "execution_count": 31,
   "metadata": {},
   "outputs": [],
   "source": [
    "def no_of_replicates_per_cpd(df, df_lvl4):\n",
    "    \"\"\"This function computes the numbers of replicates for each compound (cpd_size)\"\"\"\n",
    "    \n",
    "    dose_list = list(set(df_lvl4['Metadata_dose_recode'].unique().tolist()))[1:7]\n",
    "    cpds_size = {}\n",
    "    for cpd in df.index:\n",
    "        num_of_replicates = 0\n",
    "        for dose in dose_list:\n",
    "            df_dose = df_lvl4[df_lvl4['Metadata_dose_recode'] == dose].copy()\n",
    "            cpd_replicates = df_dose[df_dose['pert_iname'] == cpd].copy()\n",
    "            num_of_replicates += cpd_replicates.shape[0]\n",
    "        cpd_replicate_length = num_of_replicates // len(dose_list)\n",
    "        cpds_size[cpd] = cpd_replicate_length\n",
    "    df['cpd_size'] = cpds_size.values()\n",
    "    \n",
    "    return df"
   ]
  },
  {
   "cell_type": "code",
   "execution_count": 32,
   "metadata": {},
   "outputs": [],
   "source": [
    "df_cpd_med_score = no_of_replicates_per_cpd(df_cpd_med_score, df_level4_new)"
   ]
  },
  {
   "cell_type": "code",
   "execution_count": 33,
   "metadata": {},
   "outputs": [
    {
     "data": {
      "text/plain": [
       "(1538, 7)"
      ]
     },
     "execution_count": 33,
     "metadata": {},
     "output_type": "execute_result"
    }
   ],
   "source": [
    "df_cpd_med_score.shape"
   ]
  },
  {
   "cell_type": "code",
   "execution_count": 34,
   "metadata": {},
   "outputs": [],
   "source": [
    "def save_to_csv(df, path, file_name, compress=None):\n",
    "    \"\"\"saves dataframes to csv\"\"\"\n",
    "    \n",
    "    if not os.path.exists(path):\n",
    "        os.mkdir(path)\n",
    "    \n",
    "    df.to_csv(os.path.join(path, file_name), index=False, compression=compress)"
   ]
  },
  {
   "cell_type": "code",
   "execution_count": 35,
   "metadata": {},
   "outputs": [],
   "source": [
    "save_to_csv(df_cpd_med_score.reset_index().rename({'index':'cpd'}, axis = 1), \n",
    "            'cellpainting_lvl4_cpd_replicate_datasets', 'cpd_replicate_median_scores.csv')"
   ]
  },
  {
   "cell_type": "code",
   "execution_count": 36,
   "metadata": {},
   "outputs": [],
   "source": [
    "save_to_csv(df_level4_new, 'cellpainting_lvl4_cpd_replicate_datasets', \n",
    "            'cp_level4_cpd_replicates.csv.gz', compress=\"gzip\")"
   ]
  }
 ],
 "metadata": {
  "kernelspec": {
   "display_name": "Python 3",
   "language": "python",
   "name": "python3"
  },
  "language_info": {
   "codemirror_mode": {
    "name": "ipython",
    "version": 3
   },
   "file_extension": ".py",
   "mimetype": "text/x-python",
   "name": "python",
   "nbconvert_exporter": "python",
   "pygments_lexer": "ipython3",
   "version": "3.8.5"
  }
 },
 "nbformat": 4,
 "nbformat_minor": 4
}
