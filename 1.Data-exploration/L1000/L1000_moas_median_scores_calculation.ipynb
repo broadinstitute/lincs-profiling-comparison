{
 "cells": [
  {
   "cell_type": "markdown",
   "metadata": {},
   "source": [
    "# Consensus Signatures\n",
    "\n",
    "A consensus signature can be defined as a perturbation-specific summary profile acquired by aggregating replicate level information.\n",
    "\n",
    "\n",
    "#### Level 5 - Replicate-consensus signatures (MODZ) \n",
    "L1000 experiments are typically done in 3 or more biological replicates. We derive a consensus replicate signature by applying the\n",
    "moderated z-score (MODZ) procedure as follows. First, a pairwise Spearman correlation matrix is computed between the replicate\n",
    "signatures in the space of landmark genes with trivial self-correlations being ignored (set to 0). Then, weights for each replicate are\n",
    "computed as the sum of its correlations to the other replicates, normalized such that all weights sum to 1. Finally, the consensus\n",
    "signature is given by the linear combination of the replicate signatures with the coefficients set to the weights. This procedure serves\n",
    "to mitigate the effects of uncorrelated or outlier replicates, and can be thought of as a ‘de-noised’ representation of the given\n",
    "experiment’s transcriptional consequences.   \n",
    "[Subramanian et al 2017](https://www.cell.com/action/showPdf?pii=S0092-8674%2817%2931309-0)\n",
    "\n",
    "\n",
    "### we have expression values of 978 landmark genes for each signature id (sig_id)\n",
    "\n",
    "\n",
    "\n",
    "\n",
    "### The goal here:\n",
    "- is to determine the median score of each MOA (Mechanism of action) per dose based on taking the median of the correlation values between compounds of the same MOA.\n",
    "\n",
    "\n",
    "### Note:\n",
    "\n",
    "To calculate the median score for each of the two level-5 (rank and Modz) data, this notebook will have to be ran twice for each."
   ]
  },
  {
   "cell_type": "code",
   "execution_count": 1,
   "metadata": {},
   "outputs": [],
   "source": [
    "import os\n",
    "import requests\n",
    "import pickle\n",
    "import argparse\n",
    "import pandas as pd\n",
    "import numpy as np\n",
    "import re\n",
    "from os import walk\n",
    "from collections import Counter\n",
    "import matplotlib.pyplot as plt\n",
    "%matplotlib inline\n",
    "import seaborn as sns\n",
    "import random\n",
    "sns.set_style(\"darkgrid\")\n",
    "import shutil\n",
    "from statistics import median\n",
    "import cmapPy.pandasGEXpress.parse_gct as pg\n",
    "from cmapPy.pandasGEXpress.parse import parse\n",
    "from io import BytesIO\n",
    "from urllib.request import urlopen\n",
    "from zipfile import ZipFile"
   ]
  },
  {
   "cell_type": "markdown",
   "metadata": {},
   "source": [
    "### - Download L1000 Dataset "
   ]
  },
  {
   "cell_type": "code",
   "execution_count": 2,
   "metadata": {},
   "outputs": [],
   "source": [
    "data_dir = os.getcwd() ##current_dir\n",
    "zipurl = \"https://ndownloader.figshare.com/articles/13181966/versions/1\""
   ]
  },
  {
   "cell_type": "code",
   "execution_count": 3,
   "metadata": {},
   "outputs": [],
   "source": [
    "def download_L1000_data(data_dir, zipurl):\n",
    "    \"\"\"\n",
    "    Download L1000 data from figshare and extract \n",
    "    the zipped files into a directory\n",
    "    \"\"\"\n",
    "    if not os.path.exists(data_dir):\n",
    "        os.mkdir(data_dir)\n",
    "        \n",
    "    with urlopen(zipurl) as zipresp:\n",
    "        with ZipFile(BytesIO(zipresp.read())) as zfile:\n",
    "            zfile.extractall(data_dir)"
   ]
  },
  {
   "cell_type": "code",
   "execution_count": 4,
   "metadata": {},
   "outputs": [],
   "source": [
    "download_L1000_data(data_dir, zipurl)"
   ]
  },
  {
   "cell_type": "code",
   "execution_count": 4,
   "metadata": {},
   "outputs": [
    {
     "data": {
      "text/plain": [
       "['col_meta_level_3_n421176.txt',\n",
       " 'col_meta_level_3_REP.A_A549_only_n27837.txt',\n",
       " 'col_meta_level_5_n169494.txt',\n",
       " 'col_meta_level_5_REP.A_A549_only_n9482.txt',\n",
       " 'level_3_q2norm_n27837x978.gctx',\n",
       " 'level_4W_zspc_n27837x978.gctx',\n",
       " 'level_4_zspc_n27837x978.gctx',\n",
       " 'level_5_modz_cid_n9482.grp',\n",
       " 'level_5_modz_common_sigs_n8370x978.gctx',\n",
       " 'level_5_modz_n9482x978.gctx',\n",
       " 'level_5_rank_n9482x978.gctx',\n",
       " 'modz_level5_data.csv',\n",
       " 'rank_level5_data.csv',\n",
       " 'REP.A_A549_pert_info.txt',\n",
       " 'set_size_3_level_3_REP.A_A549_only_all_compounds_and_random_well_DMSO.gmt']"
      ]
     },
     "execution_count": 4,
     "metadata": {},
     "output_type": "execute_result"
    }
   ],
   "source": [
    "os.listdir(data_dir) ##files in L1000 downloaded dataset"
   ]
  },
  {
   "cell_type": "markdown",
   "metadata": {},
   "source": [
    "###  Mechanism of actions (MOAs) - Alignment of L1000 and Cell Painting MOAs\n",
    "\n",
    "- Align the **L1000 pert_info meta_data** with the **Cell-painting meta_data** based on **broad id** and then further fill in some null values in cell painting MOA column with corresponding L1000 MOAs of the same broad sample id and do the same thing for the L1000 data, then take the L1000 moas as the one that will be used for further analysis (because it has the most distinct MOAs)."
   ]
  },
  {
   "cell_type": "code",
   "execution_count": 5,
   "metadata": {},
   "outputs": [],
   "source": [
    "cp_moa_dataset = \"https://github.com/broadinstitute/lincs-cell-painting/blob/master/metadata/moa\\\n",
    "/repurposing_info_external_moa_map_resolved.tsv?raw=true\""
   ]
  },
  {
   "cell_type": "code",
   "execution_count": 6,
   "metadata": {},
   "outputs": [],
   "source": [
    "def merge_align_moa(data_dir, cp_moa_link):\n",
    "    \"\"\"\n",
    "    This function aligns L1000 MOAs with the cell painting MOAs \n",
    "    and further fill null MOAs in one of the them (cell painting or L1000)\n",
    "    with another, so far they are of the same broad sample ID.\n",
    "    \n",
    "    The function outputs aligned L1000 MOA metadata dataframe, \n",
    "    that will be used for further analysis.\n",
    "    \n",
    "    params: \n",
    "    data_dir: directory that contains L1000 files\n",
    "    cp_moa_link: github link to cell painting MOA metadata information .csv file\n",
    "\n",
    "    Returns:\n",
    "    df_pertinfo: dataframe with aligned L1000 MOA metadata pertubation information.\n",
    "    \"\"\"\n",
    "    \n",
    "    df_pertinfo_5 = pd.read_csv(os.path.join(data_dir, 'REP.A_A549_pert_info.txt'), delimiter = \"\\t\")\n",
    "    df_moa_cp = pd.read_csv(cp_moa_link, sep=\"\\t\")\n",
    "    df_pertinfo_5 = df_pertinfo_5[['pert_id', 'pert_iname', 'moa']].copy()\n",
    "    df_moa_cp = df_moa_cp[['broad_id', 'pert_iname', 'moa']].copy()\n",
    "    df_pertinfo_5.rename(columns={\"pert_id\": \"broad_id\", \"pert_iname\": \"pert_iname_L1000\", \"moa\": \"moa_L1000\"}, inplace = True)\n",
    "    df_moa_cp.rename(columns={\"pert_iname\": \"pert_iname_cell_painting\", \"moa\": \"moa_cell_painting\"}, inplace = True)\n",
    "    df_pertinfo = pd.merge(df_pertinfo_5, df_moa_cp, on=['broad_id'], how = 'left')\n",
    "    \n",
    "    ##fill NaNs in columns - moa_L1000, pert_iname_L1000, with corresponding values in cell_painting and VICE VERSA\n",
    "    df_pertinfo['moa_L1000'].fillna(value=df_pertinfo['moa_cell_painting'], inplace=True)\n",
    "    df_pertinfo['moa_cell_painting'].fillna(value=df_pertinfo['moa_L1000'], inplace=True)\n",
    "    df_pertinfo['pert_iname_cell_painting'].fillna(value=df_pertinfo['pert_iname_L1000'], inplace=True)\n",
    "    \n",
    "    for col in ['pert_iname_L1000', 'moa_L1000', 'pert_iname_cell_painting', 'moa_cell_painting']:\n",
    "        df_pertinfo[col] = df_pertinfo[col].apply(lambda x: x.lower())\n",
    "    df_pertinfo.rename(columns={\"broad_id\": \"pert_id\", \"pert_iname_L1000\": \"pert_iname\", \n",
    "                                    \"moa_L1000\": \"moa\"}, inplace = True)\n",
    "    df_pertinfo.drop(['pert_iname_cell_painting', 'moa_cell_painting'], axis = 1, inplace = True)\n",
    "    \n",
    "    return df_pertinfo"
   ]
  },
  {
   "cell_type": "code",
   "execution_count": 7,
   "metadata": {},
   "outputs": [],
   "source": [
    "df_pert_info = merge_align_moa(data_dir, cp_moa_dataset)"
   ]
  },
  {
   "cell_type": "code",
   "execution_count": 8,
   "metadata": {},
   "outputs": [
    {
     "data": {
      "text/plain": [
       "(1403, 3)"
      ]
     },
     "execution_count": 8,
     "metadata": {},
     "output_type": "execute_result"
    }
   ],
   "source": [
    "df_pert_info.shape"
   ]
  },
  {
   "cell_type": "code",
   "execution_count": 9,
   "metadata": {},
   "outputs": [],
   "source": [
    "def construct_lvl5_df(data_dir, consensus_lvl5_file, df_pertinfo):\n",
    "    \"\"\"\n",
    "    This function returns L1000 level-5 dataframe with samples \n",
    "    that consist of expression values of 978 landmark genes with some \n",
    "    additional metadata information.\n",
    "    \n",
    "    params: \n",
    "    data_dir: directory that contains all  L1000 files\n",
    "    consensus_lvl5_file: L1000 level-5 (.gctx) file\n",
    "    df_pertinfo: dataframe with aligned L1000 MOA metadata pertubation information.\n",
    "\n",
    "    Returns:\n",
    "    lvl5_data: L1000 level-5 dataframe consisting of expression \n",
    "    values of 978 landmark genes and metadata information.\n",
    "    \"\"\"\n",
    "    \n",
    "    lvl5_data = parse(os.path.join(data_dir, consensus_lvl5_file))\n",
    "    df_metalvl_5 = pd.read_csv(os.path.join(data_dir, 'col_meta_level_5_REP.A_A549_only_n9482.txt'), delimiter = \"\\t\")\n",
    "    lvl5_data.data_df.rename_axis(None, inplace = True)\n",
    "    lvl5_data = lvl5_data.data_df.T\n",
    "    lvl5_data.rename_axis(None, inplace = True)\n",
    "    df_meta_features = df_metalvl_5[['sig_id', 'pert_id', 'pert_idose']].copy()\n",
    "    df_meta_features['dose'] = df_meta_features['pert_idose'].map({'-666' : 0, '0.04 uM' : 1, '0.12 uM' : 2, '0.37 uM' : 3,\n",
    "                                                                   '1.11 uM' : 4, '3.33 uM' : 5, '10 uM' : 6, '20 uM' : 7})\n",
    "    df_meta_features = pd.merge(df_meta_features, df_pertinfo, on='pert_id')\n",
    "    lvl5_data.reset_index(inplace = True)\n",
    "    lvl5_data.rename(columns={\"index\": \"sig_id\"}, inplace = True)\n",
    "    lvl5_data = pd.merge(lvl5_data, df_meta_features, on='sig_id')\n",
    "    \n",
    "    return lvl5_data"
   ]
  },
  {
   "cell_type": "markdown",
   "metadata": {},
   "source": [
    "L1000 LEVEL 5 Data:\n",
    "\n",
    "- 'level_5_modz_n9482x978.gctx',\n",
    "- 'level_5_rank_n9482x978.gctx'"
   ]
  },
  {
   "cell_type": "code",
   "execution_count": 10,
   "metadata": {},
   "outputs": [],
   "source": [
    "df_lvl5 = construct_lvl5_df(data_dir, 'level_5_modz_n9482x978.gctx', df_pert_info)"
   ]
  },
  {
   "cell_type": "code",
   "execution_count": 11,
   "metadata": {
    "scrolled": true
   },
   "outputs": [
    {
     "data": {
      "text/plain": [
       "(9482, 984)"
      ]
     },
     "execution_count": 11,
     "metadata": {},
     "output_type": "execute_result"
    }
   ],
   "source": [
    "df_lvl5.shape"
   ]
  },
  {
   "cell_type": "markdown",
   "metadata": {},
   "source": [
    "### - Remove highly correlated landmark genes and samples with Null MOAs"
   ]
  },
  {
   "cell_type": "code",
   "execution_count": 12,
   "metadata": {},
   "outputs": [],
   "source": [
    "def feature_selection(df_data):\n",
    "    \n",
    "    \"\"\"\n",
    "    Perform feature selection by dropping columns with null MOAs values, \n",
    "    and highly correlated landmark genes from the data.\n",
    "    \n",
    "    params: \n",
    "    df_data: L1000 level-5 dataframe\n",
    "\n",
    "    Returns:\n",
    "    df_data: refined L1000 level-5 dataframe\n",
    "    \"\"\"\n",
    "    \n",
    "    df_data_genes = df_data.drop(['pert_id', 'dose', 'pert_iname', 'moa', 'sig_id'], axis = 1).copy()\n",
    "    df_data_corr = df_data_genes.corr(method = 'spearman')\n",
    "    drop_cols = []\n",
    "    n_cols = len(df_data_corr.columns)\n",
    "    for i in range(n_cols):\n",
    "        for k in range(i+1, n_cols):\n",
    "            val = df_data_corr.iloc[k, i]\n",
    "            col = df_data_corr.columns[i]\n",
    "            if abs(val) >= 0.8:\n",
    "                drop_cols.append(col)\n",
    "    df_data.drop(set(drop_cols), axis = 1, inplace = True)\n",
    "    df_data.drop(df_data[df_data['moa'].isnull()].index).reset_index(drop = True, inplace = True)\n",
    "    \n",
    "    return df_data"
   ]
  },
  {
   "cell_type": "code",
   "execution_count": 13,
   "metadata": {},
   "outputs": [],
   "source": [
    "df_lvl5 = feature_selection(df_lvl5)"
   ]
  },
  {
   "cell_type": "code",
   "execution_count": 14,
   "metadata": {},
   "outputs": [
    {
     "data": {
      "text/plain": [
       "(9482, 980)"
      ]
     },
     "execution_count": 14,
     "metadata": {},
     "output_type": "execute_result"
    }
   ],
   "source": [
    "df_lvl5.shape"
   ]
  },
  {
   "cell_type": "markdown",
   "metadata": {},
   "source": [
    "### - Get the median scores for the MOAs based on the correlation values of cpds in the same MOAs"
   ]
  },
  {
   "cell_type": "code",
   "execution_count": 15,
   "metadata": {},
   "outputs": [],
   "source": [
    "def get_median_score(moa_list, df_dose, df_cpd_agg):\n",
    "    \n",
    "    \"\"\"\n",
    "    Get the correlation values between compounds of each MOA, \n",
    "    then calculate the median of these correlation values \n",
    "    and assign it as the \"median score\" of the MOA.\n",
    "    \n",
    "    params: \n",
    "    moa_list: list of distinct moas for a particular dose\n",
    "    df_dose: merged consensus and moa dataframe of a partcular dose\n",
    "    df_dose_corr: merged consensus and moa dataframe of compound correlations of a particular dose\n",
    "\n",
    "    Returns:\n",
    "    moa_med_score: Dict with moa as the keys, and their median scores as the values\n",
    "    moa_cpds: Dict with moa as the keys, and the list of moa for each moa as the values\n",
    "    \n",
    "    \"\"\"\n",
    "    \n",
    "    moa_cpds = {}\n",
    "    moa_median_score = {}\n",
    "    for moa in moa_list:\n",
    "        cpds = df_dose['pert_iname'][df_dose['moa'] == moa].unique().tolist()\n",
    "        moa_cpds[moa] = cpds\n",
    "        ##taking correlation btw cpds for each MOA\n",
    "        df_cpds = df_cpd_agg.loc[cpds]\n",
    "        cpds_corr = df_cpds.T.corr(method = 'spearman').values\n",
    "        if len(cpds_corr) == 1:\n",
    "            median_val = 1\n",
    "        else:\n",
    "            median_val = median(list(cpds_corr[np.triu_indices(len(cpds_corr), k = 1)]))\n",
    "\n",
    "        moa_median_score[moa] = median_val\n",
    "        \n",
    "    return moa_median_score, moa_cpds"
   ]
  },
  {
   "cell_type": "code",
   "execution_count": 16,
   "metadata": {},
   "outputs": [],
   "source": [
    "def check_moa(moa_med_score, moa_cpds, df_moa):\n",
    "    \"\"\"\n",
    "    Check if all distinct moas in the moa_consensus dataframe (df_moa) \n",
    "    are in moa_med_score & moa_cpd, if not add them as keys and give them\n",
    "    a null value as the size for moa_med_score and also as values for moa_cpds.\n",
    "    \n",
    "    params: \n",
    "    moa_med_score: Dict with moa as the keys, and their median scores as the values\n",
    "    moa_cpds: Dict with moa as the keys, and the list of moa for each moa as the values\n",
    "    data_moa: merged consensus and moa df with moas\n",
    "\n",
    "    Returns:\n",
    "    moa_med_score: Dict with moa as the keys, and their median scores as the values\n",
    "    moa_cpds: Dict with moa as the keys, and the list of moa for each moa as the values\n",
    "    \n",
    "    \"\"\"\n",
    "    moa_list = df_moa['moa'].unique().tolist()\n",
    "    moa_keys = moa_med_score.keys()\n",
    "    for moa in moa_list:\n",
    "        if moa not in moa_keys:\n",
    "            moa_med_score[moa] = np.nan\n",
    "            moa_cpds[moa] = np.nan\n",
    "    return moa_med_score, moa_cpds"
   ]
  },
  {
   "cell_type": "code",
   "execution_count": 17,
   "metadata": {},
   "outputs": [],
   "source": [
    "def get_moa_medianscores(df_moa):\n",
    "    \n",
    "    \"\"\"\n",
    "    Generate a dataframe of distinct moas with their median scores and\n",
    "    corresponding list of compounds for different doses.\n",
    "    \n",
    "    params: \n",
    "    df_moa: merged consensus and moa dataframe\n",
    "\n",
    "    Returns:\n",
    "    df_moa_med_score: dataframe of distinct moas with their corresponding median scores \n",
    "    and list of compounds for all doses.\n",
    "    \n",
    "    \"\"\"\n",
    "    dose_list = list(set(df_moa['dose'].unique().tolist()))[1:]\n",
    "    \n",
    "    for dose in dose_list:\n",
    "        df_dose = df_moa[df_moa['dose'] == dose].copy()\n",
    "        df_cpd_agg = df_dose.groupby(['pert_iname']).agg(['mean'])\n",
    "        df_cpd_agg.columns  = df_cpd_agg.columns.droplevel(1)\n",
    "        df_cpd_agg.rename_axis(None, axis=0, inplace = True)\n",
    "        df_cpd_agg.drop(['dose'], axis = 1, inplace = True)\n",
    "        dose_moa_list = df_dose['moa'].unique().tolist()\n",
    "        #get the median of the corr values of the cpds for each MOA\n",
    "        dose_moa_med_score, dose_moa_cpds = get_median_score(dose_moa_list, df_dose, df_cpd_agg)\n",
    "        #check if all moa in the df_moa is present in the dose_moa\n",
    "        dose_moa_med_score, dose_moa_cpds = check_moa(dose_moa_med_score, dose_moa_cpds, df_moa)\n",
    "        sorted_moa_med_score = {key:value for key, value in sorted(dose_moa_med_score.items(), key=lambda item: item[0])}\n",
    "        sorted_dose_cpds = {key:value for key, value in sorted(dose_moa_cpds.items(), key=lambda item: item[0])}\n",
    "        if dose == 1:\n",
    "            df_moa_med_score = pd.DataFrame.from_dict(sorted_moa_med_score, orient='index', columns = ['dose_1'])\n",
    "        else:\n",
    "            df_moa_med_score['dose_' + str(dose)] = sorted_moa_med_score.values()\n",
    "        df_moa_med_score['moa_cpds_dose_' + str(dose)] = list(sorted_dose_cpds.values())\n",
    "            \n",
    "    return df_moa_med_score"
   ]
  },
  {
   "cell_type": "code",
   "execution_count": 18,
   "metadata": {},
   "outputs": [],
   "source": [
    "df_moa_median_scores = get_moa_medianscores(df_lvl5)"
   ]
  },
  {
   "cell_type": "code",
   "execution_count": 19,
   "metadata": {},
   "outputs": [
    {
     "data": {
      "text/plain": [
       "(602, 14)"
      ]
     },
     "execution_count": 19,
     "metadata": {},
     "output_type": "execute_result"
    }
   ],
   "source": [
    "df_moa_median_scores.shape"
   ]
  },
  {
   "cell_type": "markdown",
   "metadata": {},
   "source": [
    "### - Exclude MOAs with median score 1 and only null values and  also columns with only null values\n",
    "\n",
    "#### The reason why we are excluding MOAs with median value == 1, is because they have only ONE compound and as a result the median correlation value will be just 1, and there will not be differences in values btw different doses."
   ]
  },
  {
   "cell_type": "code",
   "execution_count": 20,
   "metadata": {},
   "outputs": [],
   "source": [
    "def exclude_moa(df_moa_med_score):\n",
    "    \"\"\"\n",
    "    Exclude MOAs with median score 1 and columns with only null values.\n",
    "    \n",
    "    params: \n",
    "    df_moa_med_score: dataframe of distinct moas with their corresponding median scores\n",
    "    and list of compounds for all doses.\n",
    "\n",
    "    Returns:\n",
    "    df_moa_medians: dataframe of distinct moas with NO median values/scores of 1 \n",
    "    and their corresponding list of compounds for all doses.\n",
    "    \n",
    "    \"\"\"\n",
    "    moa_with_med_index = []\n",
    "    for moa in df_moa_med_score.index.tolist():\n",
    "        moa_values = df_moa_med_score.loc[moa]\n",
    "        if all(y != 1.0 for y in moa_values):\n",
    "            moa_with_med_index.append(moa)\n",
    "    df_moa_medians = df_moa_med_score.loc[moa_with_med_index]\n",
    "    null_columns = [col for col in df_moa_medians.columns \n",
    "                 if all(df_moa_medians[col].isnull())]\n",
    "    null_moas = [moa for moa in df_moa_medians.index \n",
    "                 if all(df_moa_medians.loc[moa].isnull())]\n",
    "    df_moa_medians.drop(null_columns, axis = 1, inplace = True)\n",
    "    df_moa_medians.drop(null_moas, axis = 0, inplace = True)\n",
    "    \n",
    "    return df_moa_medians"
   ]
  },
  {
   "cell_type": "code",
   "execution_count": 21,
   "metadata": {},
   "outputs": [],
   "source": [
    "df_moa_medn_scores = exclude_moa(df_moa_median_scores)"
   ]
  },
  {
   "cell_type": "code",
   "execution_count": 22,
   "metadata": {},
   "outputs": [
    {
     "data": {
      "text/plain": [
       "dose_1             0\n",
       "moa_cpds_dose_1    0\n",
       "dose_2             0\n",
       "moa_cpds_dose_2    0\n",
       "dose_3             0\n",
       "moa_cpds_dose_3    0\n",
       "dose_4             0\n",
       "moa_cpds_dose_4    0\n",
       "dose_5             0\n",
       "moa_cpds_dose_5    0\n",
       "dose_6             0\n",
       "moa_cpds_dose_6    0\n",
       "dtype: int64"
      ]
     },
     "execution_count": 22,
     "metadata": {},
     "output_type": "execute_result"
    }
   ],
   "source": [
    "df_moa_medn_scores.isnull().sum()"
   ]
  },
  {
   "cell_type": "code",
   "execution_count": 23,
   "metadata": {},
   "outputs": [
    {
     "data": {
      "text/plain": [
       "(213, 12)"
      ]
     },
     "execution_count": 23,
     "metadata": {},
     "output_type": "execute_result"
    }
   ],
   "source": [
    "df_moa_medn_scores.shape"
   ]
  },
  {
   "cell_type": "code",
   "execution_count": 24,
   "metadata": {},
   "outputs": [],
   "source": [
    "def seperate_cpds_values(df_moa_medians):\n",
    "    \"\"\"\n",
    "    Seperate the list of compunds columns from the median values columns in\n",
    "    moa_median_dataframe\n",
    "    \n",
    "    params: \n",
    "    df_moa_medians: dataframe of distinct moas with NO median scores of 1 \n",
    "    and their corresponding list of compounds for all doses.\n",
    "\n",
    "    Returns:\n",
    "    df_moa_cpds: dataframe of distinct moas with only their corresponding \n",
    "    list of compounds for all doses.\n",
    "    \n",
    "    df_moa_values: dataframe of distinct moas with only their median scores for all doses.\n",
    "    \"\"\"\n",
    "    dose_cols = [col for col in df_moa_medians.columns.tolist() \n",
    "                 if (col.startswith(\"dose_\"))]\n",
    "    df_moa_cpds = df_moa_medians.drop(dose_cols, axis = 1)\n",
    "    df_moa_values = df_moa_medians.loc[:, dose_cols].copy()\n",
    "    df_moa_values = df_moa_values.reset_index().rename(columns={\"index\": \"moa\"})\n",
    "    df_moa_cpds = df_moa_cpds.reset_index().rename(columns={\"index\": \"moa\"})\n",
    "    \n",
    "    return df_moa_cpds, df_moa_values"
   ]
  },
  {
   "cell_type": "code",
   "execution_count": 25,
   "metadata": {},
   "outputs": [],
   "source": [
    "df_moa_cpds, df_moa_vals = seperate_cpds_values(df_moa_medn_scores)"
   ]
  },
  {
   "cell_type": "code",
   "execution_count": 26,
   "metadata": {},
   "outputs": [],
   "source": [
    "def get_moa_size(df_moa_cpds, df_moa_values):\n",
    "    \"\"\"\n",
    "    This function computes the number of compunds in each MOA\n",
    "    i.e. moa_size and returns dataframe including the moa_size column\n",
    "    \n",
    "    params:\n",
    "    df_moa_cpds: dataframe of distinct moas with only their corresponding \n",
    "    list of compounds for all doses.\n",
    "    \n",
    "    df_moa_values: dataframe of distinct moas with only their median scores for all doses.\n",
    "    \n",
    "    Returns:\n",
    "    df_moa_cpds: dataframe of distinct moas with only their corresponding \n",
    "    list of compounds for all doses including moa_size column.\n",
    "    \n",
    "    df_moa_values: dataframe of distinct moas with only their median scores \n",
    "    including moa_size column for all doses.\n",
    "    \"\"\"\n",
    "    \n",
    "    df_moa_cpd_copy = df_moa_cpds.set_index('moa').rename_axis(None, axis=0).copy()\n",
    "    num_col = len(df_moa_cpd_copy.columns)\n",
    "    \n",
    "    moa_count = {}\n",
    "    for moa in df_moa_cpd_copy.index:\n",
    "        col_sum = 0\n",
    "        for col in df_moa_cpd_copy.columns:\n",
    "            col_sum += len(df_moa_cpd_copy.loc[moa, col])\n",
    "        moa_count[moa] = round(col_sum/num_col)\n",
    "    df_moa_cpds['moa_size'] = moa_count.values()\n",
    "    df_moa_values['moa_size'] = moa_count.values()\n",
    "    return df_moa_cpds, df_moa_values"
   ]
  },
  {
   "cell_type": "code",
   "execution_count": 27,
   "metadata": {},
   "outputs": [],
   "source": [
    "df_moa_cpds, df_moa_vals = get_moa_size(df_moa_cpds, df_moa_vals)"
   ]
  },
  {
   "cell_type": "code",
   "execution_count": 28,
   "metadata": {},
   "outputs": [
    {
     "data": {
      "text/html": [
       "<div>\n",
       "<style scoped>\n",
       "    .dataframe tbody tr th:only-of-type {\n",
       "        vertical-align: middle;\n",
       "    }\n",
       "\n",
       "    .dataframe tbody tr th {\n",
       "        vertical-align: top;\n",
       "    }\n",
       "\n",
       "    .dataframe thead th {\n",
       "        text-align: right;\n",
       "    }\n",
       "</style>\n",
       "<table border=\"1\" class=\"dataframe\">\n",
       "  <thead>\n",
       "    <tr style=\"text-align: right;\">\n",
       "      <th></th>\n",
       "      <th>moa</th>\n",
       "      <th>moa_cpds_dose_1</th>\n",
       "      <th>moa_cpds_dose_2</th>\n",
       "      <th>moa_cpds_dose_3</th>\n",
       "      <th>moa_cpds_dose_4</th>\n",
       "      <th>moa_cpds_dose_5</th>\n",
       "      <th>moa_cpds_dose_6</th>\n",
       "      <th>moa_size</th>\n",
       "    </tr>\n",
       "  </thead>\n",
       "  <tbody>\n",
       "    <tr>\n",
       "      <th>0</th>\n",
       "      <td>5 alpha reductase inhibitor</td>\n",
       "      <td>[dutasteride, finasteride]</td>\n",
       "      <td>[dutasteride, finasteride]</td>\n",
       "      <td>[dutasteride, finasteride]</td>\n",
       "      <td>[dutasteride, finasteride]</td>\n",
       "      <td>[dutasteride, finasteride]</td>\n",
       "      <td>[dutasteride, finasteride]</td>\n",
       "      <td>2</td>\n",
       "    </tr>\n",
       "    <tr>\n",
       "      <th>1</th>\n",
       "      <td>acat inhibitor</td>\n",
       "      <td>[avasimibe, kd-023, ci-976]</td>\n",
       "      <td>[avasimibe, kd-023, ci-976]</td>\n",
       "      <td>[avasimibe, kd-023, ci-976]</td>\n",
       "      <td>[avasimibe, kd-023, ci-976]</td>\n",
       "      <td>[avasimibe, kd-023, ci-976]</td>\n",
       "      <td>[avasimibe, kd-023, ci-976]</td>\n",
       "      <td>3</td>\n",
       "    </tr>\n",
       "    <tr>\n",
       "      <th>2</th>\n",
       "      <td>acetylcholine receptor agonist</td>\n",
       "      <td>[abt-202, nicotine, diphenidol, cytisine, pilo...</td>\n",
       "      <td>[abt-202, nicotine, diphenidol, cytisine, pilo...</td>\n",
       "      <td>[abt-202, nicotine, diphenidol, cytisine, pilo...</td>\n",
       "      <td>[abt-202, nicotine, diphenidol, cytisine, pilo...</td>\n",
       "      <td>[abt-202, nicotine, diphenidol, cytisine, pilo...</td>\n",
       "      <td>[abt-202, nicotine, diphenidol, cytisine, pilo...</td>\n",
       "      <td>8</td>\n",
       "    </tr>\n",
       "    <tr>\n",
       "      <th>3</th>\n",
       "      <td>acetylcholine receptor antagonist</td>\n",
       "      <td>[atracurium, metixene, mecamylamine, solifenac...</td>\n",
       "      <td>[atracurium, metixene, mecamylamine, solifenac...</td>\n",
       "      <td>[atracurium, metixene, mecamylamine, solifenac...</td>\n",
       "      <td>[atracurium, metixene, mecamylamine, solifenac...</td>\n",
       "      <td>[atracurium, metixene, mecamylamine, solifenac...</td>\n",
       "      <td>[atracurium, metixene, mecamylamine, solifenac...</td>\n",
       "      <td>21</td>\n",
       "    </tr>\n",
       "    <tr>\n",
       "      <th>4</th>\n",
       "      <td>acetylcholine release stimulant</td>\n",
       "      <td>[bifemelane, dmp-543]</td>\n",
       "      <td>[bifemelane, dmp-543]</td>\n",
       "      <td>[bifemelane, dmp-543]</td>\n",
       "      <td>[bifemelane, dmp-543]</td>\n",
       "      <td>[bifemelane, dmp-543]</td>\n",
       "      <td>[bifemelane, dmp-543]</td>\n",
       "      <td>2</td>\n",
       "    </tr>\n",
       "  </tbody>\n",
       "</table>\n",
       "</div>"
      ],
      "text/plain": [
       "                                 moa  \\\n",
       "0        5 alpha reductase inhibitor   \n",
       "1                     acat inhibitor   \n",
       "2     acetylcholine receptor agonist   \n",
       "3  acetylcholine receptor antagonist   \n",
       "4    acetylcholine release stimulant   \n",
       "\n",
       "                                     moa_cpds_dose_1  \\\n",
       "0                         [dutasteride, finasteride]   \n",
       "1                        [avasimibe, kd-023, ci-976]   \n",
       "2  [abt-202, nicotine, diphenidol, cytisine, pilo...   \n",
       "3  [atracurium, metixene, mecamylamine, solifenac...   \n",
       "4                              [bifemelane, dmp-543]   \n",
       "\n",
       "                                     moa_cpds_dose_2  \\\n",
       "0                         [dutasteride, finasteride]   \n",
       "1                        [avasimibe, kd-023, ci-976]   \n",
       "2  [abt-202, nicotine, diphenidol, cytisine, pilo...   \n",
       "3  [atracurium, metixene, mecamylamine, solifenac...   \n",
       "4                              [bifemelane, dmp-543]   \n",
       "\n",
       "                                     moa_cpds_dose_3  \\\n",
       "0                         [dutasteride, finasteride]   \n",
       "1                        [avasimibe, kd-023, ci-976]   \n",
       "2  [abt-202, nicotine, diphenidol, cytisine, pilo...   \n",
       "3  [atracurium, metixene, mecamylamine, solifenac...   \n",
       "4                              [bifemelane, dmp-543]   \n",
       "\n",
       "                                     moa_cpds_dose_4  \\\n",
       "0                         [dutasteride, finasteride]   \n",
       "1                        [avasimibe, kd-023, ci-976]   \n",
       "2  [abt-202, nicotine, diphenidol, cytisine, pilo...   \n",
       "3  [atracurium, metixene, mecamylamine, solifenac...   \n",
       "4                              [bifemelane, dmp-543]   \n",
       "\n",
       "                                     moa_cpds_dose_5  \\\n",
       "0                         [dutasteride, finasteride]   \n",
       "1                        [avasimibe, kd-023, ci-976]   \n",
       "2  [abt-202, nicotine, diphenidol, cytisine, pilo...   \n",
       "3  [atracurium, metixene, mecamylamine, solifenac...   \n",
       "4                              [bifemelane, dmp-543]   \n",
       "\n",
       "                                     moa_cpds_dose_6  moa_size  \n",
       "0                         [dutasteride, finasteride]         2  \n",
       "1                        [avasimibe, kd-023, ci-976]         3  \n",
       "2  [abt-202, nicotine, diphenidol, cytisine, pilo...         8  \n",
       "3  [atracurium, metixene, mecamylamine, solifenac...        21  \n",
       "4                              [bifemelane, dmp-543]         2  "
      ]
     },
     "execution_count": 28,
     "metadata": {},
     "output_type": "execute_result"
    }
   ],
   "source": [
    "df_moa_cpds.head()"
   ]
  },
  {
   "cell_type": "code",
   "execution_count": 29,
   "metadata": {},
   "outputs": [
    {
     "data": {
      "text/html": [
       "<div>\n",
       "<style scoped>\n",
       "    .dataframe tbody tr th:only-of-type {\n",
       "        vertical-align: middle;\n",
       "    }\n",
       "\n",
       "    .dataframe tbody tr th {\n",
       "        vertical-align: top;\n",
       "    }\n",
       "\n",
       "    .dataframe thead th {\n",
       "        text-align: right;\n",
       "    }\n",
       "</style>\n",
       "<table border=\"1\" class=\"dataframe\">\n",
       "  <thead>\n",
       "    <tr style=\"text-align: right;\">\n",
       "      <th></th>\n",
       "      <th>moa</th>\n",
       "      <th>dose_1</th>\n",
       "      <th>dose_2</th>\n",
       "      <th>dose_3</th>\n",
       "      <th>dose_4</th>\n",
       "      <th>dose_5</th>\n",
       "      <th>dose_6</th>\n",
       "      <th>moa_size</th>\n",
       "    </tr>\n",
       "  </thead>\n",
       "  <tbody>\n",
       "    <tr>\n",
       "      <th>0</th>\n",
       "      <td>5 alpha reductase inhibitor</td>\n",
       "      <td>0.190492</td>\n",
       "      <td>0.096692</td>\n",
       "      <td>0.120170</td>\n",
       "      <td>0.053822</td>\n",
       "      <td>0.023515</td>\n",
       "      <td>0.011220</td>\n",
       "      <td>2</td>\n",
       "    </tr>\n",
       "    <tr>\n",
       "      <th>1</th>\n",
       "      <td>acat inhibitor</td>\n",
       "      <td>-0.068682</td>\n",
       "      <td>-0.124013</td>\n",
       "      <td>0.004647</td>\n",
       "      <td>-0.027785</td>\n",
       "      <td>-0.072058</td>\n",
       "      <td>-0.053542</td>\n",
       "      <td>3</td>\n",
       "    </tr>\n",
       "    <tr>\n",
       "      <th>2</th>\n",
       "      <td>acetylcholine receptor agonist</td>\n",
       "      <td>0.015123</td>\n",
       "      <td>0.103479</td>\n",
       "      <td>0.115474</td>\n",
       "      <td>0.021413</td>\n",
       "      <td>0.022958</td>\n",
       "      <td>-0.000688</td>\n",
       "      <td>8</td>\n",
       "    </tr>\n",
       "    <tr>\n",
       "      <th>3</th>\n",
       "      <td>acetylcholine receptor antagonist</td>\n",
       "      <td>0.024050</td>\n",
       "      <td>0.030581</td>\n",
       "      <td>0.032626</td>\n",
       "      <td>0.022357</td>\n",
       "      <td>0.016792</td>\n",
       "      <td>0.036142</td>\n",
       "      <td>21</td>\n",
       "    </tr>\n",
       "    <tr>\n",
       "      <th>4</th>\n",
       "      <td>acetylcholine release stimulant</td>\n",
       "      <td>0.031339</td>\n",
       "      <td>-0.033892</td>\n",
       "      <td>0.123980</td>\n",
       "      <td>0.126554</td>\n",
       "      <td>0.064289</td>\n",
       "      <td>0.020479</td>\n",
       "      <td>2</td>\n",
       "    </tr>\n",
       "    <tr>\n",
       "      <th>5</th>\n",
       "      <td>acetylcholinesterase inhibitor</td>\n",
       "      <td>0.076528</td>\n",
       "      <td>0.011441</td>\n",
       "      <td>0.117410</td>\n",
       "      <td>0.073932</td>\n",
       "      <td>0.042614</td>\n",
       "      <td>-0.037883</td>\n",
       "      <td>2</td>\n",
       "    </tr>\n",
       "    <tr>\n",
       "      <th>6</th>\n",
       "      <td>adenosine receptor agonist</td>\n",
       "      <td>0.029317</td>\n",
       "      <td>0.011988</td>\n",
       "      <td>0.022153</td>\n",
       "      <td>0.021041</td>\n",
       "      <td>0.004705</td>\n",
       "      <td>0.122696</td>\n",
       "      <td>3</td>\n",
       "    </tr>\n",
       "    <tr>\n",
       "      <th>7</th>\n",
       "      <td>adenosine receptor antagonist</td>\n",
       "      <td>0.012555</td>\n",
       "      <td>0.071590</td>\n",
       "      <td>0.053863</td>\n",
       "      <td>0.195516</td>\n",
       "      <td>0.116950</td>\n",
       "      <td>0.002913</td>\n",
       "      <td>4</td>\n",
       "    </tr>\n",
       "    <tr>\n",
       "      <th>8</th>\n",
       "      <td>adrenergic inhibitor</td>\n",
       "      <td>-0.003925</td>\n",
       "      <td>0.021440</td>\n",
       "      <td>-0.072001</td>\n",
       "      <td>-0.094651</td>\n",
       "      <td>0.072688</td>\n",
       "      <td>0.086305</td>\n",
       "      <td>2</td>\n",
       "    </tr>\n",
       "    <tr>\n",
       "      <th>9</th>\n",
       "      <td>adrenergic receptor agonist</td>\n",
       "      <td>0.023121</td>\n",
       "      <td>0.028389</td>\n",
       "      <td>0.029667</td>\n",
       "      <td>0.028509</td>\n",
       "      <td>0.024945</td>\n",
       "      <td>0.020609</td>\n",
       "      <td>20</td>\n",
       "    </tr>\n",
       "  </tbody>\n",
       "</table>\n",
       "</div>"
      ],
      "text/plain": [
       "                                 moa    dose_1    dose_2    dose_3    dose_4  \\\n",
       "0        5 alpha reductase inhibitor  0.190492  0.096692  0.120170  0.053822   \n",
       "1                     acat inhibitor -0.068682 -0.124013  0.004647 -0.027785   \n",
       "2     acetylcholine receptor agonist  0.015123  0.103479  0.115474  0.021413   \n",
       "3  acetylcholine receptor antagonist  0.024050  0.030581  0.032626  0.022357   \n",
       "4    acetylcholine release stimulant  0.031339 -0.033892  0.123980  0.126554   \n",
       "5     acetylcholinesterase inhibitor  0.076528  0.011441  0.117410  0.073932   \n",
       "6         adenosine receptor agonist  0.029317  0.011988  0.022153  0.021041   \n",
       "7      adenosine receptor antagonist  0.012555  0.071590  0.053863  0.195516   \n",
       "8               adrenergic inhibitor -0.003925  0.021440 -0.072001 -0.094651   \n",
       "9        adrenergic receptor agonist  0.023121  0.028389  0.029667  0.028509   \n",
       "\n",
       "     dose_5    dose_6  moa_size  \n",
       "0  0.023515  0.011220         2  \n",
       "1 -0.072058 -0.053542         3  \n",
       "2  0.022958 -0.000688         8  \n",
       "3  0.016792  0.036142        21  \n",
       "4  0.064289  0.020479         2  \n",
       "5  0.042614 -0.037883         2  \n",
       "6  0.004705  0.122696         3  \n",
       "7  0.116950  0.002913         4  \n",
       "8  0.072688  0.086305         2  \n",
       "9  0.024945  0.020609        20  "
      ]
     },
     "execution_count": 29,
     "metadata": {},
     "output_type": "execute_result"
    }
   ],
   "source": [
    "df_moa_vals.head(10)"
   ]
  },
  {
   "cell_type": "code",
   "execution_count": 30,
   "metadata": {},
   "outputs": [],
   "source": [
    "def check_moas_cpds_doses(df_moa_cpds):\n",
    "    \"\"\"\n",
    "    check if moas have the same compounds in all doses,\n",
    "    and return the moas that don't have the same numbers of compounds.\n",
    "    \n",
    "    params: \n",
    "    df_moa_cpds: dataframe of distinct moas with only their corresponding \n",
    "    list of compounds for all doses.\n",
    "\n",
    "    Returns:\n",
    "    df_moa_not_equals_cpds: dataframe of moas that don't have the same numbers of \n",
    "    compounds in all doses.\n",
    "    \n",
    "    \"\"\"\n",
    "    df_moa_cpds = df_moa_cpds.set_index('moa').rename_axis(None, axis=0).copy()\n",
    "    df_moa_cpds.drop(['moa_size'], axis=1, inplace = True)\n",
    "    moas_with_no_equal_cpds = [moa for moa in df_moa_cpds.index \n",
    "                               for num in range(len(df_moa_cpds.columns) - 1) \n",
    "                               if not ((df_moa_cpds.loc[moa, df_moa_cpds.columns[num]]) \n",
    "                                       == (df_moa_cpds.loc[moa, df_moa_cpds.columns[num+1]]))]\n",
    "    df_moa_not_equals_cpds = df_moa_cpds.loc[set(moas_with_no_equal_cpds)]\n",
    "    \n",
    "    return df_moa_not_equals_cpds"
   ]
  },
  {
   "cell_type": "code",
   "execution_count": 31,
   "metadata": {},
   "outputs": [],
   "source": [
    "data_moa_not_equals_cpds = check_moas_cpds_doses(df_moa_cpds) ##MOAs with not the same cpds in all doses"
   ]
  },
  {
   "cell_type": "code",
   "execution_count": 32,
   "metadata": {},
   "outputs": [
    {
     "data": {
      "text/plain": [
       "(25, 6)"
      ]
     },
     "execution_count": 32,
     "metadata": {},
     "output_type": "execute_result"
    }
   ],
   "source": [
    "data_moa_not_equals_cpds.shape"
   ]
  },
  {
   "cell_type": "markdown",
   "metadata": {},
   "source": [
    "### - MOAS that do not have the same number of/same compounds in all Doses"
   ]
  },
  {
   "cell_type": "code",
   "execution_count": 33,
   "metadata": {
    "scrolled": false
   },
   "outputs": [
    {
     "name": "stdout",
     "output_type": "stream",
     "text": [
      "hcv inhibitor\n",
      "Dose 1: ['grazoprevir', 'clemizole', 'ledipasvir', 'dasabuvir', 'narlaprevir', 'simeprevir', 'mericitabine', 'vx-222']\n",
      "Dose 2: ['grazoprevir', 'ledipasvir', 'clemizole', 'dasabuvir', 'narlaprevir', 'simeprevir', 'mericitabine', 'vx-222']\n",
      "Dose 3: ['grazoprevir', 'clemizole', 'ledipasvir', 'dasabuvir', 'narlaprevir', 'simeprevir', 'mericitabine', 'vx-222']\n",
      "Dose 4: ['grazoprevir', 'clemizole', 'ledipasvir', 'dasabuvir', 'narlaprevir', 'simeprevir', 'mericitabine', 'vx-222']\n",
      "Dose 5: ['grazoprevir', 'clemizole', 'ledipasvir', 'dasabuvir', 'narlaprevir', 'simeprevir', 'mericitabine', 'vx-222']\n",
      "Dose 6: ['grazoprevir', 'clemizole', 'ledipasvir', 'dasabuvir', 'narlaprevir', 'simeprevir', 'mericitabine', 'vx-222']\n",
      "\n",
      "\n",
      "vitamin d receptor agonist\n",
      "Dose 1: ['calcitriol', 'seocalcitol', 'maxacalcitol', 'ercalcitriol', 'tacalcitol']\n",
      "Dose 2: ['calcitriol', 'seocalcitol', 'paricalcitol', 'maxacalcitol', 'ercalcitriol', 'tacalcitol']\n",
      "Dose 3: ['calcitriol', 'seocalcitol', 'paricalcitol', 'maxacalcitol', 'ercalcitriol', 'tacalcitol']\n",
      "Dose 4: ['calcitriol', 'seocalcitol', 'paricalcitol', 'maxacalcitol', 'ercalcitriol', 'tacalcitol']\n",
      "Dose 5: ['calcitriol', 'seocalcitol', 'paricalcitol', 'maxacalcitol', 'ercalcitriol', 'tacalcitol']\n",
      "Dose 6: ['calcitriol', 'seocalcitol', 'paricalcitol', 'maxacalcitol', 'ercalcitriol', 'tacalcitol']\n",
      "\n",
      "\n",
      "prostanoid receptor agonist\n",
      "Dose 1: ['travoprost', 'latanoprost', 'bimatoprost', '16,16-dimethylprostaglandin-e2']\n",
      "Dose 2: ['travoprost', 'latanoprost', 'bimatoprost', '16,16-dimethylprostaglandin-e2']\n",
      "Dose 3: ['travoprost', 'latanoprost', 'bimatoprost', '16,16-dimethylprostaglandin-e2']\n",
      "Dose 4: ['travoprost', 'latanoprost', 'bimatoprost', '16,16-dimethylprostaglandin-e2']\n",
      "Dose 5: ['travoprost', 'latanoprost', 'bimatoprost']\n",
      "Dose 6: ['travoprost', 'latanoprost', 'bimatoprost']\n",
      "\n",
      "\n",
      "nfkb pathway inhibitor\n",
      "Dose 1: ['bindarit', 'erythromycin', 'sasapyrine', 'cepharanthine', 'gibberellic-acid']\n",
      "Dose 2: ['bindarit', 'erythromycin', 'sasapyrine', 'cepharanthine', 'gibberellic-acid']\n",
      "Dose 3: ['bindarit', 'erythromycin', 'sasapyrine', 'cepharanthine', 'gibberellic-acid']\n",
      "Dose 4: ['bindarit', 'erythromycin', 'sasapyrine', 'cepharanthine', 'gibberellic-acid']\n",
      "Dose 5: ['bindarit', 'erythromycin', 'sasapyrine', 'cepharanthine', 'gibberellic-acid']\n",
      "Dose 6: ['bindarit', 'erythromycin', 'sasapyrine', 'cepharanthine']\n",
      "\n",
      "\n",
      "xanthine oxidase inhibitor\n",
      "Dose 1: ['oxypurinol', 'febuxostat', 'allopurinol', 'topiroxostat']\n",
      "Dose 2: ['oxypurinol', 'febuxostat', 'allopurinol', 'topiroxostat']\n",
      "Dose 3: ['oxypurinol', 'febuxostat', 'allopurinol', 'topiroxostat']\n",
      "Dose 4: ['oxypurinol', 'febuxostat', 'allopurinol', 'topiroxostat']\n",
      "Dose 5: ['oxypurinol', 'febuxostat', 'allopurinol', 'topiroxostat']\n",
      "Dose 6: ['oxypurinol', 'febuxostat', 'allopurinol']\n",
      "\n",
      "\n",
      "pkc inhibitor\n",
      "Dose 1: ['sotrastaurin', 'ethylenediaminetetraacetic-acid', 'enzastaurin', 'dequalinium', 'safingol']\n",
      "Dose 2: ['sotrastaurin', 'ethylenediaminetetraacetic-acid', 'enzastaurin', 'dequalinium', 'safingol']\n",
      "Dose 3: ['sotrastaurin', 'ethylenediaminetetraacetic-acid', 'enzastaurin', 'dequalinium', 'safingol']\n",
      "Dose 4: ['sotrastaurin', 'ethylenediaminetetraacetic-acid', 'enzastaurin', 'dequalinium', 'safingol']\n",
      "Dose 5: ['sotrastaurin', 'ethylenediaminetetraacetic-acid', 'enzastaurin', 'dequalinium']\n",
      "Dose 6: ['sotrastaurin', 'ethylenediaminetetraacetic-acid', 'enzastaurin', 'dequalinium']\n",
      "\n",
      "\n",
      "dopamine receptor antagonist\n",
      "Dose 1: ['prochlorperazine', 'raclopride', 'isofloxythepin', 'pimozide', 'alizapride', 'chlorprothixene', 'cariprazine', 'tiapride', 'fluphenazine', 'triflupromazine', 'haloperidol', 'molindone', 'thioridazine', 'nemonapride', 'oxiperomide', 'fluspirilene', 'chlorpromazine', 'droperidol', 'thiothixene', 'itopride']\n",
      "Dose 2: ['prochlorperazine', 'raclopride', 'isofloxythepin', 'pimozide', 'alizapride', 'cariprazine', 'chlorprothixene', 'tiapride', 'fluphenazine', 'triflupromazine', 'haloperidol', 'molindone', 'thioridazine', 'nemonapride', 'oxiperomide', 'fluspirilene', 'chlorpromazine', 'droperidol', 'thiothixene', 'itopride']\n",
      "Dose 3: ['prochlorperazine', 'raclopride', 'isofloxythepin', 'pimozide', 'alizapride', 'chlorprothixene', 'cariprazine', 'tiapride', 'fluphenazine', 'triflupromazine', 'haloperidol', 'molindone', 'thioridazine', 'nemonapride', 'oxiperomide', 'fluspirilene', 'chlorpromazine', 'droperidol', 'thiothixene', 'itopride']\n",
      "Dose 4: ['prochlorperazine', 'raclopride', 'isofloxythepin', 'pimozide', 'alizapride', 'cariprazine', 'chlorprothixene', 'tiapride', 'fluphenazine', 'triflupromazine', 'haloperidol', 'molindone', 'thioridazine', 'nemonapride', 'oxiperomide', 'fluspirilene', 'chlorpromazine', 'droperidol', 'thiothixene', 'itopride']\n",
      "Dose 5: ['prochlorperazine', 'raclopride', 'isofloxythepin', 'pimozide', 'alizapride', 'chlorprothixene', 'cariprazine', 'tiapride', 'fluphenazine', 'triflupromazine', 'haloperidol', 'molindone', 'thioridazine', 'nemonapride', 'oxiperomide', 'fluspirilene', 'chlorpromazine', 'droperidol', 'thiothixene', 'itopride']\n",
      "Dose 6: ['prochlorperazine', 'raclopride', 'isofloxythepin', 'pimozide', 'alizapride', 'chlorprothixene', 'cariprazine', 'tiapride', 'fluphenazine', 'triflupromazine', 'haloperidol', 'molindone', 'thioridazine', 'nemonapride', 'oxiperomide', 'fluspirilene', 'chlorpromazine', 'droperidol', 'thiothixene', 'itopride']\n",
      "\n",
      "\n",
      "atpase inhibitor\n",
      "Dose 1: ['omeprazole', 'sch-28080', 'digoxin', 'istaroxime']\n",
      "Dose 2: ['omeprazole', 'sch-28080', 'digoxin', 'istaroxime']\n",
      "Dose 3: ['omeprazole', 'sch-28080', 'digoxin', 'istaroxime']\n",
      "Dose 4: ['omeprazole', 'sch-28080', 'digoxin', 'istaroxime']\n",
      "Dose 5: ['omeprazole', 'sch-28080', 'digoxin', 'istaroxime']\n",
      "Dose 6: ['omeprazole', 'sch-28080', 'istaroxime', 'digoxin']\n",
      "\n",
      "\n",
      "leukotriene receptor antagonist\n",
      "Dose 1: ['sr-2640', 'zafirlukast', 'tomelukast', 'fpl-55712', 'pranlukast']\n",
      "Dose 2: ['sr-2640', 'zafirlukast', 'tomelukast', 'fpl-55712', 'pranlukast']\n",
      "Dose 3: ['sr-2640', 'zafirlukast', 'tomelukast', 'fpl-55712', 'pranlukast']\n",
      "Dose 4: ['sr-2640', 'zafirlukast', 'tomelukast', 'fpl-55712', 'pranlukast']\n",
      "Dose 5: ['sr-2640', 'zafirlukast', 'fpl-55712', 'pranlukast']\n",
      "Dose 6: ['sr-2640', 'zafirlukast', 'fpl-55712', 'pranlukast']\n",
      "\n",
      "\n",
      "microtubule inhibitor\n",
      "Dose 1: ['cabazitaxel', 'colchicine', 'cytochalasin-b', 'triclabendazole']\n",
      "Dose 2: ['cabazitaxel', 'colchicine', 'cytochalasin-b', 'triclabendazole']\n",
      "Dose 3: ['cabazitaxel', 'colchicine', 'cytochalasin-b', 'triclabendazole']\n",
      "Dose 4: ['cabazitaxel', 'colchicine', 'cytochalasin-b', 'triclabendazole']\n",
      "Dose 5: ['cabazitaxel', 'colchicine', 'cytochalasin-b', 'triclabendazole']\n",
      "Dose 6: ['cabazitaxel', 'colchicine', 'triclabendazole']\n",
      "\n",
      "\n",
      "adrenergic receptor antagonist\n",
      "Dose 1: ['timolol', 'acebutolol', 'levobunolol', 'sotalol', 'yohimbine', 'setiptiline', 'propranolol', 'imiloxan', 'carvedilol', 'doxazosin', 'metoprolol', 'nebivolol', 'dronedarone', 'esmolol', 'bopindolol', 'labetalol', 'naftopidil', 'atipamezole', 'reboxetine', 'vinburnine', 'org-9768', 'prazosin', 'urapidil', 'moxisylyte', 'naftidrofuryl', 'atenolol', 'tamsulosin', 'nicergoline', 'indoramin', 'pindolol', 'phentolamine', 'bisoprolol', 'talinolol']\n",
      "Dose 2: ['acebutolol', 'timolol', 'levobunolol', 'sotalol', 'yohimbine', 'setiptiline', 'propranolol', 'imiloxan', 'carvedilol', 'doxazosin', 'metoprolol', 'nebivolol', 'dronedarone', 'esmolol', 'bopindolol', 'labetalol', 'naftopidil', 'atipamezole', 'reboxetine', 'vinburnine', 'org-9768', 'prazosin', 'urapidil', 'moxisylyte', 'naftidrofuryl', 'atenolol', 'tamsulosin', 'nicergoline', 'indoramin', 'pindolol', 'phentolamine', 'bisoprolol', 'talinolol']\n",
      "Dose 3: ['acebutolol', 'timolol', 'levobunolol', 'sotalol', 'yohimbine', 'setiptiline', 'propranolol', 'imiloxan', 'carvedilol', 'doxazosin', 'metoprolol', 'nebivolol', 'dronedarone', 'esmolol', 'bopindolol', 'labetalol', 'naftopidil', 'atipamezole', 'reboxetine', 'vinburnine', 'org-9768', 'prazosin', 'urapidil', 'moxisylyte', 'naftidrofuryl', 'atenolol', 'tamsulosin', 'nicergoline', 'indoramin', 'pindolol', 'phentolamine', 'bisoprolol', 'talinolol']\n",
      "Dose 4: ['timolol', 'acebutolol', 'levobunolol', 'sotalol', 'yohimbine', 'setiptiline', 'propranolol', 'imiloxan', 'carvedilol', 'doxazosin', 'metoprolol', 'nebivolol', 'dronedarone', 'esmolol', 'bopindolol', 'labetalol', 'naftopidil', 'atipamezole', 'reboxetine', 'vinburnine', 'org-9768', 'prazosin', 'urapidil', 'moxisylyte', 'naftidrofuryl', 'atenolol', 'tamsulosin', 'nicergoline', 'indoramin', 'pindolol', 'phentolamine', 'bisoprolol', 'talinolol']\n",
      "Dose 5: ['acebutolol', 'timolol', 'levobunolol', 'sotalol', 'yohimbine', 'setiptiline', 'propranolol', 'imiloxan', 'carvedilol', 'doxazosin', 'metoprolol', 'nebivolol', 'dronedarone', 'esmolol', 'bopindolol', 'labetalol', 'naftopidil', 'atipamezole', 'reboxetine', 'vinburnine', 'org-9768', 'prazosin', 'urapidil', 'moxisylyte', 'naftidrofuryl', 'atenolol', 'tamsulosin', 'nicergoline', 'indoramin', 'pindolol', 'phentolamine', 'bisoprolol', 'talinolol']\n",
      "Dose 6: ['acebutolol', 'timolol', 'levobunolol', 'sotalol', 'setiptiline', 'yohimbine', 'propranolol', 'imiloxan', 'carvedilol', 'doxazosin', 'metoprolol', 'nebivolol', 'dronedarone', 'esmolol', 'bopindolol', 'labetalol', 'naftopidil', 'atipamezole', 'reboxetine', 'vinburnine', 'org-9768', 'prazosin', 'urapidil', 'moxisylyte', 'naftidrofuryl', 'atenolol', 'tamsulosin', 'nicergoline', 'indoramin', 'pindolol', 'phentolamine', 'bisoprolol', 'talinolol']\n",
      "\n",
      "\n",
      "androgen receptor modulator\n",
      "Dose 1: ['ostarine', 'galeterone', 'mk-0773', 'ps178990']\n",
      "Dose 2: ['ostarine', 'galeterone', 'mk-0773', 'ps178990']\n",
      "Dose 3: ['ostarine', 'galeterone', 'mk-0773', 'ps178990']\n",
      "Dose 4: ['ostarine', 'galeterone', 'mk-0773', 'ps178990']\n",
      "Dose 5: ['ostarine', 'galeterone', 'mk-0773', 'ps178990']\n",
      "Dose 6: ['ostarine', 'galeterone', 'mk-0773']\n",
      "\n",
      "\n",
      "phosphodiesterase inhibitor\n",
      "Dose 1: ['papaverine', 'zaprinast', 'arofylline', 'pf-02545920', 'rolipram', 'theobromine', 'ym-976', 'vardenafil', 'isbufylline', 'roflumilast', 'zardaverine', 'gsk256066', 'cilomilast', 'pentoxifylline', 'dipyridamole', 'cilostazol', 'milrinone', 'siguazodan', 'anagrelide', 'etazolate', 'emd-53998', 'avanafil', 'piclamilast', 'pf-04447943', 'amrinone', 'mirodenafil', 'resorcinol', 'irsogladine', 'sildenafil', 'oglemilast', 'apremilast', 'tadalafil']\n",
      "Dose 2: ['papaverine', 'zaprinast', 'arofylline', 'pf-02545920', 'rolipram', 'theobromine', 'ym-976', 'vardenafil', 'isbufylline', 'roflumilast', 'zardaverine', 'gsk256066', 'cilomilast', 'pentoxifylline', 'dipyridamole', 'cilostazol', 'milrinone', 'siguazodan', 'etazolate', 'emd-53998', 'avanafil', 'anagrelide', 'piclamilast', 'pf-04447943', 'amrinone', 'mirodenafil', 'resorcinol', 'sildenafil', 'oglemilast', 'apremilast', 'tadalafil']\n",
      "Dose 3: ['papaverine', 'zaprinast', 'arofylline', 'pf-02545920', 'rolipram', 'theobromine', 'ym-976', 'vardenafil', 'isbufylline', 'roflumilast', 'zardaverine', 'gsk256066', 'cilomilast', 'pentoxifylline', 'dipyridamole', 'cilostazol', 'milrinone', 'siguazodan', 'anagrelide', 'etazolate', 'emd-53998', 'avanafil', 'piclamilast', 'pf-04447943', 'amrinone', 'mirodenafil', 'resorcinol', 'irsogladine', 'sildenafil', 'oglemilast', 'apremilast', 'tadalafil']\n",
      "Dose 4: ['papaverine', 'zaprinast', 'arofylline', 'pf-02545920', 'rolipram', 'theobromine', 'ym-976', 'vardenafil', 'isbufylline', 'roflumilast', 'zardaverine', 'gsk256066', 'cilomilast', 'pentoxifylline', 'dipyridamole', 'cilostazol', 'milrinone', 'siguazodan', 'anagrelide', 'etazolate', 'emd-53998', 'avanafil', 'pf-04447943', 'piclamilast', 'amrinone', 'mirodenafil', 'resorcinol', 'irsogladine', 'sildenafil', 'oglemilast', 'apremilast', 'tadalafil']\n",
      "Dose 5: ['papaverine', 'zaprinast', 'arofylline', 'pf-02545920', 'rolipram', 'theobromine', 'ym-976', 'vardenafil', 'isbufylline', 'roflumilast', 'zardaverine', 'gsk256066', 'cilomilast', 'pentoxifylline', 'dipyridamole', 'cilostazol', 'milrinone', 'siguazodan', 'anagrelide', 'etazolate', 'emd-53998', 'avanafil', 'piclamilast', 'pf-04447943', 'amrinone', 'mirodenafil', 'resorcinol', 'irsogladine', 'sildenafil', 'oglemilast', 'apremilast', 'tadalafil']\n",
      "Dose 6: ['papaverine', 'zaprinast', 'arofylline', 'pf-02545920', 'rolipram', 'theobromine', 'ym-976', 'vardenafil', 'isbufylline', 'roflumilast', 'zardaverine', 'gsk256066', 'cilomilast', 'pentoxifylline', 'dipyridamole', 'cilostazol', 'milrinone', 'siguazodan', 'anagrelide', 'etazolate', 'emd-53998', 'avanafil', 'piclamilast', 'pf-04447943', 'amrinone', 'mirodenafil', 'resorcinol', 'irsogladine', 'sildenafil', 'oglemilast', 'apremilast', 'tadalafil']\n",
      "\n",
      "\n",
      "tgf beta receptor inhibitor\n",
      "Dose 1: ['d-4476', 'ly2157299', 'pirfenidone']\n",
      "Dose 2: ['d-4476', 'ly2157299', 'pirfenidone']\n",
      "Dose 3: ['d-4476', 'pirfenidone']\n",
      "Dose 4: ['d-4476', 'ly2157299', 'pirfenidone']\n",
      "Dose 5: ['d-4476', 'ly2157299', 'pirfenidone']\n",
      "Dose 6: ['d-4476', 'ly2157299', 'pirfenidone']\n",
      "\n",
      "\n",
      "hmgcr inhibitor\n",
      "Dose 1: ['procaine', 'simvastatin', 'pravastatin', 'rosuvastatin', 'pitavastatin', 'atorvastatin']\n",
      "Dose 2: ['procaine', 'simvastatin', 'pravastatin', 'rosuvastatin', 'pitavastatin', 'atorvastatin']\n",
      "Dose 3: ['procaine', 'simvastatin', 'pravastatin', 'rosuvastatin', 'pitavastatin', 'atorvastatin']\n",
      "Dose 4: ['procaine', 'simvastatin', 'pravastatin', 'rosuvastatin', 'pitavastatin', 'atorvastatin']\n",
      "Dose 5: ['procaine', 'simvastatin', 'pravastatin', 'rosuvastatin', 'pitavastatin', 'atorvastatin']\n",
      "Dose 6: ['simvastatin', 'procaine', 'pravastatin', 'rosuvastatin', 'pitavastatin', 'atorvastatin']\n",
      "\n",
      "\n",
      "potassium channel blocker\n",
      "Dose 1: ['penitrem-a', 'amiodarone', 'linopirdine', 'meglitinide', 'doxapram']\n",
      "Dose 2: ['penitrem-a', 'amiodarone', 'linopirdine', 'meglitinide', 'doxapram', 'ibutilide']\n",
      "Dose 3: ['penitrem-a', 'amiodarone', 'linopirdine', 'meglitinide', 'doxapram', 'ibutilide']\n",
      "Dose 4: ['penitrem-a', 'amiodarone', 'linopirdine', 'meglitinide', 'doxapram', 'ibutilide']\n",
      "Dose 5: ['amiodarone', 'linopirdine', 'meglitinide', 'doxapram', 'ibutilide']\n",
      "Dose 6: ['amiodarone', 'linopirdine', 'meglitinide', 'doxapram', 'ibutilide']\n",
      "\n",
      "\n",
      "acetylcholine receptor antagonist\n",
      "Dose 1: ['atracurium', 'metixene', 'mecamylamine', 'solifenacin-succinate', 'sulbutiamine', 'biperiden', 'rocuronium', 'orphenadrine', 'oxybutynin', 'scopolamine', 'umeclidinium', 'flavoxate', 'otilonium', 'aclidinium', 'afloqualone', 'glycopyrrolate', 'pirenzepine', 'carisoprodol', 'darifenacin', 'ipratropium', 'piperidolate']\n",
      "Dose 2: ['atracurium', 'metixene', 'mecamylamine', 'solifenacin-succinate', 'sulbutiamine', 'biperiden', 'rocuronium', 'orphenadrine', 'oxybutynin', 'scopolamine', 'umeclidinium', 'flavoxate', 'otilonium', 'aclidinium', 'afloqualone', 'glycopyrrolate', 'pirenzepine', 'carisoprodol', 'darifenacin', 'ipratropium', 'piperidolate']\n",
      "Dose 3: ['atracurium', 'metixene', 'mecamylamine', 'solifenacin-succinate', 'sulbutiamine', 'biperiden', 'rocuronium', 'orphenadrine', 'oxybutynin', 'scopolamine', 'umeclidinium', 'flavoxate', 'otilonium', 'aclidinium', 'afloqualone', 'glycopyrrolate', 'pirenzepine', 'carisoprodol', 'darifenacin', 'ipratropium', 'piperidolate']\n",
      "Dose 4: ['atracurium', 'metixene', 'mecamylamine', 'solifenacin-succinate', 'sulbutiamine', 'biperiden', 'rocuronium', 'orphenadrine', 'oxybutynin', 'scopolamine', 'umeclidinium', 'flavoxate', 'otilonium', 'aclidinium', 'afloqualone', 'glycopyrrolate', 'pirenzepine', 'carisoprodol', 'darifenacin', 'ipratropium', 'piperidolate']\n",
      "Dose 5: ['atracurium', 'metixene', 'mecamylamine', 'solifenacin-succinate', 'sulbutiamine', 'biperiden', 'rocuronium', 'orphenadrine', 'oxybutynin', 'scopolamine', 'umeclidinium', 'flavoxate', 'otilonium', 'afloqualone', 'glycopyrrolate', 'aclidinium', 'pirenzepine', 'carisoprodol', 'darifenacin', 'ipratropium', 'piperidolate']\n",
      "Dose 6: ['atracurium', 'metixene', 'mecamylamine', 'solifenacin-succinate', 'sulbutiamine', 'biperiden', 'rocuronium', 'orphenadrine', 'oxybutynin', 'scopolamine', 'flavoxate', 'umeclidinium', 'otilonium', 'aclidinium', 'afloqualone', 'glycopyrrolate', 'pirenzepine', 'carisoprodol', 'darifenacin', 'ipratropium', 'piperidolate']\n",
      "\n",
      "\n",
      "cyclooxygenase inhibitor\n",
      "Dose 1: ['oxaprozin', 'fentiazac', 'carprofen', 'ibuprofen', 'suprofen', 'diclofenac', 'aspirin', 'valdecoxib', 'nepafenac', 'celecoxib', 'epirizole', 'ketorolac', 'balsalazide', 'paracetamol', 'piroxicam', 'naproxen', 'indometacin', 'etoricoxib', 'meloxicam', 'phenazone', 'aminosalicylic-acid', 'piketoprofen', 'amtolmetin-guacil', 'etofenamate', 'nimesulide', 'etodolac', 'nefopam', 'tenidap', 'felbinac', 'ketoprofen']\n",
      "Dose 2: ['oxaprozin', 'fentiazac', 'carprofen', 'ibuprofen', 'suprofen', 'diclofenac', 'aspirin', 'valdecoxib', 'nepafenac', 'celecoxib', 'epirizole', 'ketorolac', 'balsalazide', 'paracetamol', 'naproxen', 'piroxicam', 'etoricoxib', 'meloxicam', 'phenazone', 'aminosalicylic-acid', 'piketoprofen', 'amtolmetin-guacil', 'etofenamate', 'nimesulide', 'etodolac', 'nefopam', 'tenidap', 'felbinac', 'ketoprofen']\n",
      "Dose 3: ['oxaprozin', 'fentiazac', 'carprofen', 'ibuprofen', 'suprofen', 'diclofenac', 'aspirin', 'valdecoxib', 'nepafenac', 'celecoxib', 'epirizole', 'ketorolac', 'balsalazide', 'paracetamol', 'indometacin', 'piroxicam', 'naproxen', 'etoricoxib', 'meloxicam', 'phenazone', 'aminosalicylic-acid', 'piketoprofen', 'amtolmetin-guacil', 'etofenamate', 'nimesulide', 'etodolac', 'nefopam', 'tenidap', 'felbinac', 'ketoprofen']\n",
      "Dose 4: ['oxaprozin', 'fentiazac', 'carprofen', 'ibuprofen', 'suprofen', 'diclofenac', 'aspirin', 'valdecoxib', 'nepafenac', 'celecoxib', 'epirizole', 'ketorolac', 'balsalazide', 'paracetamol', 'indometacin', 'piroxicam', 'naproxen', 'etoricoxib', 'meloxicam', 'phenazone', 'aminosalicylic-acid', 'piketoprofen', 'amtolmetin-guacil', 'etofenamate', 'nimesulide', 'etodolac', 'nefopam', 'tenidap', 'felbinac', 'ketoprofen']\n",
      "Dose 5: ['oxaprozin', 'fentiazac', 'carprofen', 'ibuprofen', 'suprofen', 'diclofenac', 'aspirin', 'valdecoxib', 'nepafenac', 'celecoxib', 'epirizole', 'ketorolac', 'balsalazide', 'paracetamol', 'indometacin', 'piroxicam', 'naproxen', 'etoricoxib', 'meloxicam', 'phenazone', 'aminosalicylic-acid', 'piketoprofen', 'amtolmetin-guacil', 'etofenamate', 'nimesulide', 'etodolac', 'nefopam', 'tenidap', 'felbinac', 'ketoprofen']\n",
      "Dose 6: ['oxaprozin', 'fentiazac', 'carprofen', 'ibuprofen', 'suprofen', 'diclofenac', 'aspirin', 'valdecoxib', 'nepafenac', 'celecoxib', 'epirizole', 'ketorolac', 'balsalazide', 'paracetamol', 'indometacin', 'piroxicam', 'naproxen', 'etoricoxib', 'meloxicam', 'phenazone', 'aminosalicylic-acid', 'piketoprofen', 'amtolmetin-guacil', 'etofenamate', 'nimesulide', 'etodolac', 'nefopam', 'tenidap', 'felbinac', 'ketoprofen']\n",
      "\n",
      "\n",
      "adrenergic receptor agonist\n",
      "Dose 1: ['zd-7114', 'oxymetazoline', 'bambuterol', 'mephentermine', 'levalbuterol', 'tizanidine', 'lofexidine', 'cgp12177', 'ritodrine', 'guanabenz', 'formoterol', 'methyldopa', 'lidamidine', 'clenbuterol', 'clonidine', 'naphazoline', 'midodrine', 'phenylephrine', 'indacaterol', 'fenoterol']\n",
      "Dose 2: ['zd-7114', 'oxymetazoline', 'bambuterol', 'mephentermine', 'levalbuterol', 'tizanidine', 'lofexidine', 'cgp12177', 'ritodrine', 'guanabenz', 'formoterol', 'methyldopa', 'lidamidine', 'clenbuterol', 'clonidine', 'naphazoline', 'midodrine', 'phenylephrine', 'indacaterol', 'fenoterol']\n",
      "Dose 3: ['zd-7114', 'oxymetazoline', 'bambuterol', 'mephentermine', 'levalbuterol', 'tizanidine', 'lofexidine', 'cgp12177', 'ritodrine', 'guanabenz', 'formoterol', 'methyldopa', 'lidamidine', 'clenbuterol', 'clonidine', 'naphazoline', 'midodrine', 'phenylephrine', 'indacaterol', 'fenoterol']\n",
      "Dose 4: ['zd-7114', 'oxymetazoline', 'bambuterol', 'mephentermine', 'levalbuterol', 'tizanidine', 'lofexidine', 'cgp12177', 'ritodrine', 'guanabenz', 'formoterol', 'methyldopa', 'lidamidine', 'clenbuterol', 'clonidine', 'naphazoline', 'midodrine', 'phenylephrine', 'indacaterol', 'fenoterol']\n",
      "Dose 5: ['zd-7114', 'oxymetazoline', 'bambuterol', 'mephentermine', 'levalbuterol', 'tizanidine', 'lofexidine', 'cgp12177', 'ritodrine', 'guanabenz', 'formoterol', 'methyldopa', 'lidamidine', 'clenbuterol', 'naphazoline', 'midodrine', 'phenylephrine', 'clonidine', 'indacaterol', 'fenoterol']\n",
      "Dose 6: ['zd-7114', 'oxymetazoline', 'bambuterol', 'mephentermine', 'levalbuterol', 'tizanidine', 'lofexidine', 'cgp12177', 'ritodrine', 'guanabenz', 'formoterol', 'methyldopa', 'lidamidine', 'clenbuterol', 'clonidine', 'naphazoline', 'midodrine', 'phenylephrine', 'indacaterol', 'fenoterol']\n",
      "\n",
      "\n",
      "diuretic\n",
      "Dose 1: ['chlortalidone', 'pyrazinoylguanidine', 'furosemide']\n",
      "Dose 2: ['chlortalidone', 'pyrazinoylguanidine', 'furosemide']\n",
      "Dose 3: ['chlortalidone', 'pyrazinoylguanidine', 'furosemide']\n",
      "Dose 4: ['chlortalidone', 'pyrazinoylguanidine', 'furosemide']\n",
      "Dose 5: ['chlortalidone', 'pyrazinoylguanidine', 'furosemide']\n",
      "Dose 6: ['chlortalidone', 'pyrazinoylguanidine']\n",
      "\n",
      "\n",
      "dopamine receptor antagonist|serotonin receptor antagonist\n",
      "Dose 1: ['blonanserin', 'ziprasidone', 'lurasidone', 'risperidone', 'quetiapine', 'sertindole', 'metoclopramide', 'melperone', 'asenapine']\n",
      "Dose 2: ['blonanserin', 'ziprasidone', 'lurasidone', 'risperidone', 'quetiapine', 'sertindole', 'metoclopramide', 'melperone', 'asenapine']\n",
      "Dose 3: ['blonanserin', 'ziprasidone', 'risperidone', 'lurasidone', 'quetiapine', 'sertindole', 'metoclopramide', 'melperone', 'asenapine']\n",
      "Dose 4: ['blonanserin', 'ziprasidone', 'lurasidone', 'risperidone', 'quetiapine', 'sertindole', 'metoclopramide', 'melperone', 'asenapine']\n",
      "Dose 5: ['blonanserin', 'ziprasidone', 'lurasidone', 'risperidone', 'quetiapine', 'sertindole', 'metoclopramide', 'melperone', 'asenapine']\n",
      "Dose 6: ['blonanserin', 'ziprasidone', 'lurasidone', 'risperidone', 'quetiapine', 'sertindole', 'metoclopramide', 'melperone', 'asenapine']\n",
      "\n",
      "\n",
      "angiotensin converting enzyme inhibitor\n",
      "Dose 1: ['methiopril', 'enalapril', 'ore1001', 'benazepril', 'zofenopril-calcium', 'quinapril', 'lisinopril', 'ramipril']\n",
      "Dose 2: ['methiopril', 'enalapril', 'ore1001', 'zofenopril-calcium', 'benazepril', 'quinapril', 'lisinopril', 'ramipril']\n",
      "Dose 3: ['methiopril', 'enalapril', 'ore1001', 'benazepril', 'zofenopril-calcium', 'quinapril', 'lisinopril', 'ramipril']\n",
      "Dose 4: ['methiopril', 'enalapril', 'ore1001', 'benazepril', 'zofenopril-calcium', 'quinapril', 'lisinopril', 'ramipril']\n",
      "Dose 5: ['methiopril', 'enalapril', 'ore1001', 'zofenopril-calcium', 'benazepril', 'quinapril', 'lisinopril', 'ramipril']\n",
      "Dose 6: ['methiopril', 'enalapril', 'ore1001', 'zofenopril-calcium', 'benazepril', 'quinapril', 'lisinopril', 'ramipril']\n",
      "\n",
      "\n",
      "leukotriene inhibitor\n",
      "Dose 1: ['ubenimex', 'quiflapon']\n",
      "Dose 2: ['ubenimex', 'quiflapon']\n",
      "Dose 3: ['ubenimex', 'quiflapon']\n",
      "Dose 4: ['quiflapon', 'ubenimex']\n",
      "Dose 5: ['ubenimex', 'quiflapon']\n",
      "Dose 6: ['ubenimex', 'quiflapon']\n",
      "\n",
      "\n",
      "neurotrophic agent\n",
      "Dose 1: ['inosine', 'pym50028', 'nsi-189']\n",
      "Dose 2: ['inosine', 'pym50028', 'nsi-189']\n",
      "Dose 3: ['inosine', 'pym50028', 'nsi-189']\n",
      "Dose 4: ['inosine', 'pym50028', 'nsi-189']\n",
      "Dose 5: ['inosine', 'pym50028', 'nsi-189']\n",
      "Dose 6: ['inosine', 'nsi-189']\n",
      "\n",
      "\n",
      "alk tyrosine kinase receptor inhibitor\n",
      "Dose 1: ['alectinib', 'ap26113', 'cep-37440', 'crizotinib']\n",
      "Dose 2: ['alectinib', 'ap26113', 'cep-37440', 'crizotinib']\n",
      "Dose 3: ['alectinib', 'ap26113', 'cep-37440']\n",
      "Dose 4: ['alectinib', 'ap26113', 'cep-37440', 'crizotinib']\n",
      "Dose 5: ['alectinib', 'ap26113', 'cep-37440', 'crizotinib']\n",
      "Dose 6: ['alectinib', 'ap26113', 'cep-37440', 'crizotinib']\n",
      "\n",
      "\n"
     ]
    }
   ],
   "source": [
    "for moa in data_moa_not_equals_cpds.index:\n",
    "    print(moa)\n",
    "    for idx, cols in enumerate(data_moa_not_equals_cpds.columns):\n",
    "        print('Dose ' + str(idx+1) +':', data_moa_not_equals_cpds.loc[moa, cols])\n",
    "    print('\\n')"
   ]
  },
  {
   "cell_type": "markdown",
   "metadata": {},
   "source": [
    "### - Save dataframes to .csv files"
   ]
  },
  {
   "cell_type": "code",
   "execution_count": 34,
   "metadata": {},
   "outputs": [],
   "source": [
    "def conv_list_to_str_cols(df_moa_cpds):\n",
    "    \"\"\"This function convert columns values that are lists to strings\"\"\"\n",
    "    \n",
    "    moa_cpd_cols = [col for col in df_moa_cpds.columns.tolist() \n",
    "                 if (col.startswith(\"moa_cpds_\"))]\n",
    "    df_moa_cpds_nw = df_moa_cpds.copy()\n",
    "    for col in moa_cpd_cols:\n",
    "        df_moa_cpds_nw[col] = df_moa_cpds_nw[col].apply(lambda row: ';'.join(map(str, row)))\n",
    "    return df_moa_cpds_nw"
   ]
  },
  {
   "cell_type": "code",
   "execution_count": 35,
   "metadata": {},
   "outputs": [],
   "source": [
    "def save_to_csv(df, path, file_name):\n",
    "    \"\"\"saves moa dataframes to csv\"\"\"\n",
    "    \n",
    "    if not os.path.exists(path):\n",
    "        os.mkdir(path)\n",
    "    \n",
    "    df.to_csv(os.path.join(path, file_name), index = False)"
   ]
  },
  {
   "cell_type": "code",
   "execution_count": 36,
   "metadata": {},
   "outputs": [],
   "source": [
    "save_to_csv(df_lvl5, 'moa_sizes_consensus_datasets', 'modz_level5_data.csv')"
   ]
  },
  {
   "cell_type": "code",
   "execution_count": 37,
   "metadata": {},
   "outputs": [],
   "source": [
    "save_to_csv(df_moa_vals, 'moa_sizes_consensus_datasets', 'modz_moa_median_scores.csv')"
   ]
  },
  {
   "cell_type": "code",
   "execution_count": 38,
   "metadata": {},
   "outputs": [],
   "source": [
    "save_to_csv(conv_list_to_str_cols(df_moa_cpds), 'moa_sizes_consensus_datasets', 'L1000_moa_compounds.csv')"
   ]
  }
 ],
 "metadata": {
  "kernelspec": {
   "display_name": "Python 3",
   "language": "python",
   "name": "python3"
  },
  "language_info": {
   "codemirror_mode": {
    "name": "ipython",
    "version": 3
   },
   "file_extension": ".py",
   "mimetype": "text/x-python",
   "name": "python",
   "nbconvert_exporter": "python",
   "pygments_lexer": "ipython3",
   "version": "3.8.5"
  }
 },
 "nbformat": 4,
 "nbformat_minor": 4
}
