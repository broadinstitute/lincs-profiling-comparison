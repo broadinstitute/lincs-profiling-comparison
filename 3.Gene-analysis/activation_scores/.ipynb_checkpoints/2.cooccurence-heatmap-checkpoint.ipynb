{
 "cells": [
  {
   "cell_type": "markdown",
   "metadata": {},
   "source": [
    "## Visualize cooccurence heatmap"
   ]
  },
  {
   "cell_type": "code",
   "execution_count": 1,
   "metadata": {},
   "outputs": [],
   "source": [
    "suppressPackageStartupMessages(library(dplyr))\n",
    "suppressPackageStartupMessages(library(devtools))"
   ]
  },
  {
   "cell_type": "code",
   "execution_count": 2,
   "metadata": {},
   "outputs": [],
   "source": [
    "# The correct version of ComplexHeatmap was not available on anaconda\n",
    "# https://anaconda.org/bioconda/bioconductor-complexheatmap\n",
    "# Install it here\n",
    "if (!(\"ComplexHeatmap\" %in% rownames(installed.packages()))) {\n",
    "    install_github(\"jokergoo/ComplexHeatmap@a387b860186be1d09249128be1ff46d13101e45d\")\n",
    "}\n",
    "\n",
    "suppressPackageStartupMessages(library(ComplexHeatmap))"
   ]
  },
  {
   "cell_type": "code",
   "execution_count": 5,
   "metadata": {},
   "outputs": [
    {
     "data": {
      "text/html": [
       "<table>\n",
       "<caption>A tibble: 6 × 766</caption>\n",
       "<thead>\n",
       "\t<tr><th scope=col>gene_symbol</th><th scope=col>AARS</th><th scope=col>ABCB6</th><th scope=col>ABCC5</th><th scope=col>ABHD4</th><th scope=col>ABHD6</th><th scope=col>ABL1</th><th scope=col>ACAA1</th><th scope=col>ACAT2</th><th scope=col>ACBD3</th><th scope=col>⋯</th><th scope=col>YME1L1</th><th scope=col>YTHDF1</th><th scope=col>ZDHHC6</th><th scope=col>ZFP36</th><th scope=col>ZMYM2</th><th scope=col>ZNF274</th><th scope=col>ZNF318</th><th scope=col>ZNF586</th><th scope=col>ZNF589</th><th scope=col>ZW10</th></tr>\n",
       "\t<tr><th scope=col>&lt;chr&gt;</th><th scope=col>&lt;int&gt;</th><th scope=col>&lt;int&gt;</th><th scope=col>&lt;int&gt;</th><th scope=col>&lt;int&gt;</th><th scope=col>&lt;int&gt;</th><th scope=col>&lt;int&gt;</th><th scope=col>&lt;int&gt;</th><th scope=col>&lt;int&gt;</th><th scope=col>&lt;int&gt;</th><th scope=col>⋯</th><th scope=col>&lt;int&gt;</th><th scope=col>&lt;int&gt;</th><th scope=col>&lt;int&gt;</th><th scope=col>&lt;int&gt;</th><th scope=col>&lt;int&gt;</th><th scope=col>&lt;int&gt;</th><th scope=col>&lt;int&gt;</th><th scope=col>&lt;int&gt;</th><th scope=col>&lt;int&gt;</th><th scope=col>&lt;int&gt;</th></tr>\n",
       "</thead>\n",
       "<tbody>\n",
       "\t<tr><td>AARS </td><td>17</td><td>0</td><td>1</td><td>1</td><td>1</td><td>1</td><td>0</td><td>4</td><td>0</td><td>⋯</td><td>1</td><td>1</td><td>2</td><td>0</td><td>0</td><td>0</td><td>1</td><td>0</td><td>0</td><td>1</td></tr>\n",
       "\t<tr><td>ABCB6</td><td> 0</td><td>7</td><td>0</td><td>1</td><td>0</td><td>0</td><td>1</td><td>0</td><td>0</td><td>⋯</td><td>0</td><td>0</td><td>0</td><td>0</td><td>0</td><td>0</td><td>0</td><td>0</td><td>0</td><td>0</td></tr>\n",
       "\t<tr><td>ABCC5</td><td> 1</td><td>0</td><td>1</td><td>0</td><td>0</td><td>1</td><td>0</td><td>0</td><td>0</td><td>⋯</td><td>0</td><td>0</td><td>1</td><td>0</td><td>0</td><td>0</td><td>0</td><td>0</td><td>0</td><td>1</td></tr>\n",
       "\t<tr><td>ABHD4</td><td> 1</td><td>1</td><td>0</td><td>6</td><td>0</td><td>0</td><td>0</td><td>0</td><td>0</td><td>⋯</td><td>1</td><td>1</td><td>0</td><td>0</td><td>1</td><td>1</td><td>2</td><td>0</td><td>0</td><td>0</td></tr>\n",
       "\t<tr><td>ABHD6</td><td> 1</td><td>0</td><td>0</td><td>0</td><td>4</td><td>0</td><td>0</td><td>0</td><td>0</td><td>⋯</td><td>1</td><td>0</td><td>0</td><td>0</td><td>0</td><td>0</td><td>0</td><td>0</td><td>0</td><td>0</td></tr>\n",
       "\t<tr><td>ABL1 </td><td> 1</td><td>0</td><td>1</td><td>0</td><td>0</td><td>2</td><td>0</td><td>0</td><td>0</td><td>⋯</td><td>0</td><td>0</td><td>1</td><td>0</td><td>0</td><td>0</td><td>0</td><td>0</td><td>0</td><td>1</td></tr>\n",
       "</tbody>\n",
       "</table>\n"
      ],
      "text/latex": [
       "A tibble: 6 × 766\n",
       "\\begin{tabular}{lllllllllllllllllllll}\n",
       " gene\\_symbol & AARS & ABCB6 & ABCC5 & ABHD4 & ABHD6 & ABL1 & ACAA1 & ACAT2 & ACBD3 & ⋯ & YME1L1 & YTHDF1 & ZDHHC6 & ZFP36 & ZMYM2 & ZNF274 & ZNF318 & ZNF586 & ZNF589 & ZW10\\\\\n",
       " <chr> & <int> & <int> & <int> & <int> & <int> & <int> & <int> & <int> & <int> & ⋯ & <int> & <int> & <int> & <int> & <int> & <int> & <int> & <int> & <int> & <int>\\\\\n",
       "\\hline\n",
       "\t AARS  & 17 & 0 & 1 & 1 & 1 & 1 & 0 & 4 & 0 & ⋯ & 1 & 1 & 2 & 0 & 0 & 0 & 1 & 0 & 0 & 1\\\\\n",
       "\t ABCB6 &  0 & 7 & 0 & 1 & 0 & 0 & 1 & 0 & 0 & ⋯ & 0 & 0 & 0 & 0 & 0 & 0 & 0 & 0 & 0 & 0\\\\\n",
       "\t ABCC5 &  1 & 0 & 1 & 0 & 0 & 1 & 0 & 0 & 0 & ⋯ & 0 & 0 & 1 & 0 & 0 & 0 & 0 & 0 & 0 & 1\\\\\n",
       "\t ABHD4 &  1 & 1 & 0 & 6 & 0 & 0 & 0 & 0 & 0 & ⋯ & 1 & 1 & 0 & 0 & 1 & 1 & 2 & 0 & 0 & 0\\\\\n",
       "\t ABHD6 &  1 & 0 & 0 & 0 & 4 & 0 & 0 & 0 & 0 & ⋯ & 1 & 0 & 0 & 0 & 0 & 0 & 0 & 0 & 0 & 0\\\\\n",
       "\t ABL1  &  1 & 0 & 1 & 0 & 0 & 2 & 0 & 0 & 0 & ⋯ & 0 & 0 & 1 & 0 & 0 & 0 & 0 & 0 & 0 & 1\\\\\n",
       "\\end{tabular}\n"
      ],
      "text/markdown": [
       "\n",
       "A tibble: 6 × 766\n",
       "\n",
       "| gene_symbol &lt;chr&gt; | AARS &lt;int&gt; | ABCB6 &lt;int&gt; | ABCC5 &lt;int&gt; | ABHD4 &lt;int&gt; | ABHD6 &lt;int&gt; | ABL1 &lt;int&gt; | ACAA1 &lt;int&gt; | ACAT2 &lt;int&gt; | ACBD3 &lt;int&gt; | ⋯ ⋯ | YME1L1 &lt;int&gt; | YTHDF1 &lt;int&gt; | ZDHHC6 &lt;int&gt; | ZFP36 &lt;int&gt; | ZMYM2 &lt;int&gt; | ZNF274 &lt;int&gt; | ZNF318 &lt;int&gt; | ZNF586 &lt;int&gt; | ZNF589 &lt;int&gt; | ZW10 &lt;int&gt; |\n",
       "|---|---|---|---|---|---|---|---|---|---|---|---|---|---|---|---|---|---|---|---|---|\n",
       "| AARS  | 17 | 0 | 1 | 1 | 1 | 1 | 0 | 4 | 0 | ⋯ | 1 | 1 | 2 | 0 | 0 | 0 | 1 | 0 | 0 | 1 |\n",
       "| ABCB6 |  0 | 7 | 0 | 1 | 0 | 0 | 1 | 0 | 0 | ⋯ | 0 | 0 | 0 | 0 | 0 | 0 | 0 | 0 | 0 | 0 |\n",
       "| ABCC5 |  1 | 0 | 1 | 0 | 0 | 1 | 0 | 0 | 0 | ⋯ | 0 | 0 | 1 | 0 | 0 | 0 | 0 | 0 | 0 | 1 |\n",
       "| ABHD4 |  1 | 1 | 0 | 6 | 0 | 0 | 0 | 0 | 0 | ⋯ | 1 | 1 | 0 | 0 | 1 | 1 | 2 | 0 | 0 | 0 |\n",
       "| ABHD6 |  1 | 0 | 0 | 0 | 4 | 0 | 0 | 0 | 0 | ⋯ | 1 | 0 | 0 | 0 | 0 | 0 | 0 | 0 | 0 | 0 |\n",
       "| ABL1  |  1 | 0 | 1 | 0 | 0 | 2 | 0 | 0 | 0 | ⋯ | 0 | 0 | 1 | 0 | 0 | 0 | 0 | 0 | 0 | 1 |\n",
       "\n"
      ],
      "text/plain": [
       "  gene_symbol AARS ABCB6 ABCC5 ABHD4 ABHD6 ABL1 ACAA1 ACAT2 ACBD3 ⋯ YME1L1\n",
       "1 AARS        17   0     1     1     1     1    0     4     0     ⋯ 1     \n",
       "2 ABCB6        0   7     0     1     0     0    1     0     0     ⋯ 0     \n",
       "3 ABCC5        1   0     1     0     0     1    0     0     0     ⋯ 0     \n",
       "4 ABHD4        1   1     0     6     0     0    0     0     0     ⋯ 1     \n",
       "5 ABHD6        1   0     0     0     4     0    0     0     0     ⋯ 1     \n",
       "6 ABL1         1   0     1     0     0     2    0     0     0     ⋯ 0     \n",
       "  YTHDF1 ZDHHC6 ZFP36 ZMYM2 ZNF274 ZNF318 ZNF586 ZNF589 ZW10\n",
       "1 1      2      0     0     0      1      0      0      1   \n",
       "2 0      0      0     0     0      0      0      0      0   \n",
       "3 0      1      0     0     0      0      0      0      1   \n",
       "4 1      0      0     1     1      2      0      0      0   \n",
       "5 0      0      0     0     0      0      0      0      0   \n",
       "6 0      1      0     0     0      0      0      0      1   "
      ]
     },
     "metadata": {},
     "output_type": "display_data"
    }
   ],
   "source": [
    "file <- file.path(\"data\", \"gene_cooccurence_by_compound.csv\")\n",
    "gene_df <- readr::read_csv(file, col_types=readr::cols())\n",
    "\n",
    "head(gene_df)"
   ]
  },
  {
   "cell_type": "code",
   "execution_count": null,
   "metadata": {},
   "outputs": [],
   "source": []
  }
 ],
 "metadata": {
  "kernelspec": {
   "display_name": "R [conda env:resistance-mechanisms]",
   "language": "R",
   "name": "conda-env-resistance-mechanisms-r"
  },
  "language_info": {
   "codemirror_mode": "r",
   "file_extension": ".r",
   "mimetype": "text/x-r-source",
   "name": "R",
   "pygments_lexer": "r",
   "version": "3.5.1"
  }
 },
 "nbformat": 4,
 "nbformat_minor": 4
}
