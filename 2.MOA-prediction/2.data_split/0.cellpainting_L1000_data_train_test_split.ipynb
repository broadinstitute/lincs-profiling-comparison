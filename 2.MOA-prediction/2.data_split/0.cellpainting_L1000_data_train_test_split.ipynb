{
 "cells": [
  {
   "cell_type": "markdown",
   "metadata": {},
   "source": [
    "### - Split the data in Cell painting & L1000 into train/test based on their compounds "
   ]
  },
  {
   "cell_type": "code",
   "execution_count": 1,
   "metadata": {},
   "outputs": [],
   "source": [
    "import os\n",
    "import requests\n",
    "import pickle\n",
    "import argparse\n",
    "import pandas as pd\n",
    "import numpy as np\n",
    "import re\n",
    "from os import walk\n",
    "from collections import Counter\n",
    "import random\n",
    "import shutil"
   ]
  },
  {
   "cell_type": "code",
   "execution_count": 2,
   "metadata": {},
   "outputs": [],
   "source": [
    "cp_level4_path = '../cell_painting/cellpainting_lvl4_cpd_replicate_datasets'\n",
    "L1000_level4_path = '../L1000/L1000_lvl4_cpd_replicate_datasets'"
   ]
  },
  {
   "cell_type": "code",
   "execution_count": 3,
   "metadata": {},
   "outputs": [],
   "source": [
    "df_level4_cp = pd.read_csv(os.path.join(cp_level4_path, 'cp_level4_cpd_replicates.csv.gz'), \n",
    "                        compression='gzip',low_memory = False)\n",
    "df_level4_L1 = pd.read_csv(os.path.join(L1000_level4_path, 'L1000_level4_cpd_replicates.csv.gz'), \n",
    "                        compression='gzip',low_memory = False)"
   ]
  },
  {
   "cell_type": "code",
   "execution_count": 4,
   "metadata": {},
   "outputs": [],
   "source": [
    "df_cpds_moas_lincs = pd.read_csv(os.path.join(cp_level4_path, 'split_moas_cpds.csv'))"
   ]
  },
  {
   "cell_type": "code",
   "execution_count": 5,
   "metadata": {},
   "outputs": [
    {
     "data": {
      "text/html": [
       "<div>\n",
       "<style scoped>\n",
       "    .dataframe tbody tr th:only-of-type {\n",
       "        vertical-align: middle;\n",
       "    }\n",
       "\n",
       "    .dataframe tbody tr th {\n",
       "        vertical-align: top;\n",
       "    }\n",
       "\n",
       "    .dataframe thead th {\n",
       "        text-align: right;\n",
       "    }\n",
       "</style>\n",
       "<table border=\"1\" class=\"dataframe\">\n",
       "  <thead>\n",
       "    <tr style=\"text-align: right;\">\n",
       "      <th></th>\n",
       "      <th>pert_iname</th>\n",
       "      <th>moa</th>\n",
       "      <th>train</th>\n",
       "      <th>test</th>\n",
       "      <th>marked</th>\n",
       "    </tr>\n",
       "  </thead>\n",
       "  <tbody>\n",
       "    <tr>\n",
       "      <th>0</th>\n",
       "      <td>indometacin</td>\n",
       "      <td>cyclooxygenase inhibitor</td>\n",
       "      <td>False</td>\n",
       "      <td>True</td>\n",
       "      <td>True</td>\n",
       "    </tr>\n",
       "    <tr>\n",
       "      <th>1</th>\n",
       "      <td>piroxicam</td>\n",
       "      <td>cyclooxygenase inhibitor</td>\n",
       "      <td>False</td>\n",
       "      <td>True</td>\n",
       "      <td>True</td>\n",
       "    </tr>\n",
       "    <tr>\n",
       "      <th>2</th>\n",
       "      <td>naproxen</td>\n",
       "      <td>cyclooxygenase inhibitor</td>\n",
       "      <td>True</td>\n",
       "      <td>False</td>\n",
       "      <td>True</td>\n",
       "    </tr>\n",
       "    <tr>\n",
       "      <th>3</th>\n",
       "      <td>tenidap</td>\n",
       "      <td>cyclooxygenase inhibitor</td>\n",
       "      <td>True</td>\n",
       "      <td>False</td>\n",
       "      <td>True</td>\n",
       "    </tr>\n",
       "    <tr>\n",
       "      <th>4</th>\n",
       "      <td>felbinac</td>\n",
       "      <td>cyclooxygenase inhibitor</td>\n",
       "      <td>True</td>\n",
       "      <td>False</td>\n",
       "      <td>True</td>\n",
       "    </tr>\n",
       "  </tbody>\n",
       "</table>\n",
       "</div>"
      ],
      "text/plain": [
       "    pert_iname                       moa  train   test  marked\n",
       "0  indometacin  cyclooxygenase inhibitor  False   True    True\n",
       "1    piroxicam  cyclooxygenase inhibitor  False   True    True\n",
       "2     naproxen  cyclooxygenase inhibitor   True  False    True\n",
       "3      tenidap  cyclooxygenase inhibitor   True  False    True\n",
       "4     felbinac  cyclooxygenase inhibitor   True  False    True"
      ]
     },
     "execution_count": 5,
     "metadata": {},
     "output_type": "execute_result"
    }
   ],
   "source": [
    "df_cpds_moas_lincs.head()"
   ]
  },
  {
   "cell_type": "code",
   "execution_count": 6,
   "metadata": {},
   "outputs": [],
   "source": [
    "all_cpds = df_cpds_moas_lincs['pert_iname'].unique()"
   ]
  },
  {
   "cell_type": "code",
   "execution_count": 7,
   "metadata": {},
   "outputs": [],
   "source": [
    "df_level4_cp = df_level4_cp.loc[df_level4_cp['pert_iname'].isin(all_cpds)].reset_index(drop=True)\n",
    "df_level4_L1 = df_level4_L1.loc[df_level4_L1['pert_iname'].isin(all_cpds)].reset_index(drop=True)"
   ]
  },
  {
   "cell_type": "code",
   "execution_count": 8,
   "metadata": {},
   "outputs": [
    {
     "data": {
      "text/plain": [
       "(43949, 707)"
      ]
     },
     "execution_count": 8,
     "metadata": {},
     "output_type": "execute_result"
    }
   ],
   "source": [
    "df_level4_cp.shape"
   ]
  },
  {
   "cell_type": "code",
   "execution_count": 9,
   "metadata": {
    "scrolled": true
   },
   "outputs": [
    {
     "data": {
      "text/plain": [
       "(26352, 988)"
      ]
     },
     "execution_count": 9,
     "metadata": {},
     "output_type": "execute_result"
    }
   ],
   "source": [
    "df_level4_L1.shape"
   ]
  },
  {
   "cell_type": "code",
   "execution_count": 10,
   "metadata": {},
   "outputs": [],
   "source": [
    "df_level4_cp['moa'] = df_level4_cp['moa'].apply(lambda x: x.lower())\n",
    "df_level4_L1['moa'] = df_level4_L1['moa'].apply(lambda x: x.lower())"
   ]
  },
  {
   "cell_type": "code",
   "execution_count": 11,
   "metadata": {},
   "outputs": [],
   "source": [
    "df_cpds_moas = df_cpds_moas_lincs.copy()"
   ]
  },
  {
   "cell_type": "code",
   "execution_count": 12,
   "metadata": {},
   "outputs": [
    {
     "data": {
      "text/plain": [
       "1398"
      ]
     },
     "execution_count": 12,
     "metadata": {},
     "output_type": "execute_result"
    }
   ],
   "source": [
    "len(df_cpds_moas['pert_iname'].unique()) ##no of compounds in the whole data"
   ]
  },
  {
   "cell_type": "code",
   "execution_count": 13,
   "metadata": {},
   "outputs": [
    {
     "data": {
      "text/plain": [
       "518"
      ]
     },
     "execution_count": 13,
     "metadata": {},
     "output_type": "execute_result"
    }
   ],
   "source": [
    "len(df_cpds_moas['moa'].unique()) ##no of MOA"
   ]
  },
  {
   "cell_type": "code",
   "execution_count": 14,
   "metadata": {},
   "outputs": [],
   "source": [
    "def create_moa_targets(df):\n",
    "    \"\"\"Create the binary multi-label MOA targets for each compound\"\"\"\n",
    "    df['val'] = 1\n",
    "    df_moas_targets = pd.pivot_table(df, values=['val'], index='pert_iname',columns=['moa'], fill_value=0)\n",
    "    df_moas_targets.columns.names = (None,None)\n",
    "    df_moas_targets.columns = df_moas_targets.columns.droplevel(0)\n",
    "    df_moas_targets = df_moas_targets.reset_index().rename({'index':'pert_iname'}, axis = 1)\n",
    "    return df_moas_targets"
   ]
  },
  {
   "cell_type": "code",
   "execution_count": 15,
   "metadata": {},
   "outputs": [],
   "source": [
    "df_moa_targets = create_moa_targets(df_cpds_moas)"
   ]
  },
  {
   "cell_type": "code",
   "execution_count": 16,
   "metadata": {},
   "outputs": [
    {
     "data": {
      "text/html": [
       "<div>\n",
       "<style scoped>\n",
       "    .dataframe tbody tr th:only-of-type {\n",
       "        vertical-align: middle;\n",
       "    }\n",
       "\n",
       "    .dataframe tbody tr th {\n",
       "        vertical-align: top;\n",
       "    }\n",
       "\n",
       "    .dataframe thead th {\n",
       "        text-align: right;\n",
       "    }\n",
       "</style>\n",
       "<table border=\"1\" class=\"dataframe\">\n",
       "  <thead>\n",
       "    <tr style=\"text-align: right;\">\n",
       "      <th></th>\n",
       "      <th>pert_iname</th>\n",
       "      <th>11-beta hydroxysteroid dehydrogenase inhibitor</th>\n",
       "      <th>11-beta-hsd1 inhibitor</th>\n",
       "      <th>17,20 lyase inhibitor</th>\n",
       "      <th>3-ketoacyl coa thiolase inhibitor</th>\n",
       "      <th>3beta-hydroxy-delta5-steroid dehydrogenase inhibitor</th>\n",
       "      <th>5 alpha reductase inhibitor</th>\n",
       "      <th>abl kinase inhibitor</th>\n",
       "      <th>acat inhibitor</th>\n",
       "      <th>acetylcholine precursor</th>\n",
       "      <th>...</th>\n",
       "      <th>vegfr inhibitor</th>\n",
       "      <th>vesicular monoamine transporter inhibitor</th>\n",
       "      <th>vitamin b</th>\n",
       "      <th>vitamin d receptor agonist</th>\n",
       "      <th>vitamin k antagonist</th>\n",
       "      <th>voltage-gated sodium channel blocker</th>\n",
       "      <th>voltage-gated sodium channel modulator</th>\n",
       "      <th>wee1 kinase inhibitor</th>\n",
       "      <th>xanthine oxidase inhibitor</th>\n",
       "      <th>xiap inhibitor</th>\n",
       "    </tr>\n",
       "  </thead>\n",
       "  <tbody>\n",
       "    <tr>\n",
       "      <th>0</th>\n",
       "      <td>16,16-dimethylprostaglandin-e2</td>\n",
       "      <td>0</td>\n",
       "      <td>0</td>\n",
       "      <td>0</td>\n",
       "      <td>0</td>\n",
       "      <td>0</td>\n",
       "      <td>0</td>\n",
       "      <td>0</td>\n",
       "      <td>0</td>\n",
       "      <td>0</td>\n",
       "      <td>...</td>\n",
       "      <td>0</td>\n",
       "      <td>0</td>\n",
       "      <td>0</td>\n",
       "      <td>0</td>\n",
       "      <td>0</td>\n",
       "      <td>0</td>\n",
       "      <td>0</td>\n",
       "      <td>0</td>\n",
       "      <td>0</td>\n",
       "      <td>0</td>\n",
       "    </tr>\n",
       "    <tr>\n",
       "      <th>1</th>\n",
       "      <td>17-hydroxyprogesterone-caproate</td>\n",
       "      <td>0</td>\n",
       "      <td>0</td>\n",
       "      <td>0</td>\n",
       "      <td>0</td>\n",
       "      <td>0</td>\n",
       "      <td>0</td>\n",
       "      <td>0</td>\n",
       "      <td>0</td>\n",
       "      <td>0</td>\n",
       "      <td>...</td>\n",
       "      <td>0</td>\n",
       "      <td>0</td>\n",
       "      <td>0</td>\n",
       "      <td>0</td>\n",
       "      <td>0</td>\n",
       "      <td>0</td>\n",
       "      <td>0</td>\n",
       "      <td>0</td>\n",
       "      <td>0</td>\n",
       "      <td>0</td>\n",
       "    </tr>\n",
       "    <tr>\n",
       "      <th>2</th>\n",
       "      <td>2-iminobiotin</td>\n",
       "      <td>0</td>\n",
       "      <td>0</td>\n",
       "      <td>0</td>\n",
       "      <td>0</td>\n",
       "      <td>0</td>\n",
       "      <td>0</td>\n",
       "      <td>0</td>\n",
       "      <td>0</td>\n",
       "      <td>0</td>\n",
       "      <td>...</td>\n",
       "      <td>0</td>\n",
       "      <td>0</td>\n",
       "      <td>0</td>\n",
       "      <td>0</td>\n",
       "      <td>0</td>\n",
       "      <td>0</td>\n",
       "      <td>0</td>\n",
       "      <td>0</td>\n",
       "      <td>0</td>\n",
       "      <td>0</td>\n",
       "    </tr>\n",
       "    <tr>\n",
       "      <th>3</th>\n",
       "      <td>3,3'-diindolylmethane</td>\n",
       "      <td>0</td>\n",
       "      <td>0</td>\n",
       "      <td>0</td>\n",
       "      <td>0</td>\n",
       "      <td>0</td>\n",
       "      <td>0</td>\n",
       "      <td>0</td>\n",
       "      <td>0</td>\n",
       "      <td>0</td>\n",
       "      <td>...</td>\n",
       "      <td>0</td>\n",
       "      <td>0</td>\n",
       "      <td>0</td>\n",
       "      <td>0</td>\n",
       "      <td>0</td>\n",
       "      <td>0</td>\n",
       "      <td>0</td>\n",
       "      <td>0</td>\n",
       "      <td>0</td>\n",
       "      <td>0</td>\n",
       "    </tr>\n",
       "    <tr>\n",
       "      <th>4</th>\n",
       "      <td>3-amino-benzamide</td>\n",
       "      <td>0</td>\n",
       "      <td>0</td>\n",
       "      <td>0</td>\n",
       "      <td>0</td>\n",
       "      <td>0</td>\n",
       "      <td>0</td>\n",
       "      <td>0</td>\n",
       "      <td>0</td>\n",
       "      <td>0</td>\n",
       "      <td>...</td>\n",
       "      <td>0</td>\n",
       "      <td>0</td>\n",
       "      <td>0</td>\n",
       "      <td>0</td>\n",
       "      <td>0</td>\n",
       "      <td>0</td>\n",
       "      <td>0</td>\n",
       "      <td>0</td>\n",
       "      <td>0</td>\n",
       "      <td>0</td>\n",
       "    </tr>\n",
       "    <tr>\n",
       "      <th>...</th>\n",
       "      <td>...</td>\n",
       "      <td>...</td>\n",
       "      <td>...</td>\n",
       "      <td>...</td>\n",
       "      <td>...</td>\n",
       "      <td>...</td>\n",
       "      <td>...</td>\n",
       "      <td>...</td>\n",
       "      <td>...</td>\n",
       "      <td>...</td>\n",
       "      <td>...</td>\n",
       "      <td>...</td>\n",
       "      <td>...</td>\n",
       "      <td>...</td>\n",
       "      <td>...</td>\n",
       "      <td>...</td>\n",
       "      <td>...</td>\n",
       "      <td>...</td>\n",
       "      <td>...</td>\n",
       "      <td>...</td>\n",
       "      <td>...</td>\n",
       "    </tr>\n",
       "    <tr>\n",
       "      <th>1393</th>\n",
       "      <td>zk811752</td>\n",
       "      <td>0</td>\n",
       "      <td>0</td>\n",
       "      <td>0</td>\n",
       "      <td>0</td>\n",
       "      <td>0</td>\n",
       "      <td>0</td>\n",
       "      <td>0</td>\n",
       "      <td>0</td>\n",
       "      <td>0</td>\n",
       "      <td>...</td>\n",
       "      <td>0</td>\n",
       "      <td>0</td>\n",
       "      <td>0</td>\n",
       "      <td>0</td>\n",
       "      <td>0</td>\n",
       "      <td>0</td>\n",
       "      <td>0</td>\n",
       "      <td>0</td>\n",
       "      <td>0</td>\n",
       "      <td>0</td>\n",
       "    </tr>\n",
       "    <tr>\n",
       "      <th>1394</th>\n",
       "      <td>zofenopril-calcium</td>\n",
       "      <td>0</td>\n",
       "      <td>0</td>\n",
       "      <td>0</td>\n",
       "      <td>0</td>\n",
       "      <td>0</td>\n",
       "      <td>0</td>\n",
       "      <td>0</td>\n",
       "      <td>0</td>\n",
       "      <td>0</td>\n",
       "      <td>...</td>\n",
       "      <td>0</td>\n",
       "      <td>0</td>\n",
       "      <td>0</td>\n",
       "      <td>0</td>\n",
       "      <td>0</td>\n",
       "      <td>0</td>\n",
       "      <td>0</td>\n",
       "      <td>0</td>\n",
       "      <td>0</td>\n",
       "      <td>0</td>\n",
       "    </tr>\n",
       "    <tr>\n",
       "      <th>1395</th>\n",
       "      <td>zolpidem</td>\n",
       "      <td>0</td>\n",
       "      <td>0</td>\n",
       "      <td>0</td>\n",
       "      <td>0</td>\n",
       "      <td>0</td>\n",
       "      <td>0</td>\n",
       "      <td>0</td>\n",
       "      <td>0</td>\n",
       "      <td>0</td>\n",
       "      <td>...</td>\n",
       "      <td>0</td>\n",
       "      <td>0</td>\n",
       "      <td>0</td>\n",
       "      <td>0</td>\n",
       "      <td>0</td>\n",
       "      <td>0</td>\n",
       "      <td>0</td>\n",
       "      <td>0</td>\n",
       "      <td>0</td>\n",
       "      <td>0</td>\n",
       "    </tr>\n",
       "    <tr>\n",
       "      <th>1396</th>\n",
       "      <td>zonisamide</td>\n",
       "      <td>0</td>\n",
       "      <td>0</td>\n",
       "      <td>0</td>\n",
       "      <td>0</td>\n",
       "      <td>0</td>\n",
       "      <td>0</td>\n",
       "      <td>0</td>\n",
       "      <td>0</td>\n",
       "      <td>0</td>\n",
       "      <td>...</td>\n",
       "      <td>0</td>\n",
       "      <td>0</td>\n",
       "      <td>0</td>\n",
       "      <td>0</td>\n",
       "      <td>0</td>\n",
       "      <td>0</td>\n",
       "      <td>0</td>\n",
       "      <td>0</td>\n",
       "      <td>0</td>\n",
       "      <td>0</td>\n",
       "    </tr>\n",
       "    <tr>\n",
       "      <th>1397</th>\n",
       "      <td>zosuquidar</td>\n",
       "      <td>0</td>\n",
       "      <td>0</td>\n",
       "      <td>0</td>\n",
       "      <td>0</td>\n",
       "      <td>0</td>\n",
       "      <td>0</td>\n",
       "      <td>0</td>\n",
       "      <td>0</td>\n",
       "      <td>0</td>\n",
       "      <td>...</td>\n",
       "      <td>0</td>\n",
       "      <td>0</td>\n",
       "      <td>0</td>\n",
       "      <td>0</td>\n",
       "      <td>0</td>\n",
       "      <td>0</td>\n",
       "      <td>0</td>\n",
       "      <td>0</td>\n",
       "      <td>0</td>\n",
       "      <td>0</td>\n",
       "    </tr>\n",
       "  </tbody>\n",
       "</table>\n",
       "<p>1398 rows × 519 columns</p>\n",
       "</div>"
      ],
      "text/plain": [
       "                           pert_iname  \\\n",
       "0      16,16-dimethylprostaglandin-e2   \n",
       "1     17-hydroxyprogesterone-caproate   \n",
       "2                       2-iminobiotin   \n",
       "3               3,3'-diindolylmethane   \n",
       "4                   3-amino-benzamide   \n",
       "...                               ...   \n",
       "1393                         zk811752   \n",
       "1394               zofenopril-calcium   \n",
       "1395                         zolpidem   \n",
       "1396                       zonisamide   \n",
       "1397                       zosuquidar   \n",
       "\n",
       "      11-beta hydroxysteroid dehydrogenase inhibitor  11-beta-hsd1 inhibitor  \\\n",
       "0                                                  0                       0   \n",
       "1                                                  0                       0   \n",
       "2                                                  0                       0   \n",
       "3                                                  0                       0   \n",
       "4                                                  0                       0   \n",
       "...                                              ...                     ...   \n",
       "1393                                               0                       0   \n",
       "1394                                               0                       0   \n",
       "1395                                               0                       0   \n",
       "1396                                               0                       0   \n",
       "1397                                               0                       0   \n",
       "\n",
       "      17,20 lyase inhibitor  3-ketoacyl coa thiolase inhibitor  \\\n",
       "0                         0                                  0   \n",
       "1                         0                                  0   \n",
       "2                         0                                  0   \n",
       "3                         0                                  0   \n",
       "4                         0                                  0   \n",
       "...                     ...                                ...   \n",
       "1393                      0                                  0   \n",
       "1394                      0                                  0   \n",
       "1395                      0                                  0   \n",
       "1396                      0                                  0   \n",
       "1397                      0                                  0   \n",
       "\n",
       "      3beta-hydroxy-delta5-steroid dehydrogenase inhibitor  \\\n",
       "0                                                     0      \n",
       "1                                                     0      \n",
       "2                                                     0      \n",
       "3                                                     0      \n",
       "4                                                     0      \n",
       "...                                                 ...      \n",
       "1393                                                  0      \n",
       "1394                                                  0      \n",
       "1395                                                  0      \n",
       "1396                                                  0      \n",
       "1397                                                  0      \n",
       "\n",
       "      5 alpha reductase inhibitor  abl kinase inhibitor  acat inhibitor  \\\n",
       "0                               0                     0               0   \n",
       "1                               0                     0               0   \n",
       "2                               0                     0               0   \n",
       "3                               0                     0               0   \n",
       "4                               0                     0               0   \n",
       "...                           ...                   ...             ...   \n",
       "1393                            0                     0               0   \n",
       "1394                            0                     0               0   \n",
       "1395                            0                     0               0   \n",
       "1396                            0                     0               0   \n",
       "1397                            0                     0               0   \n",
       "\n",
       "      acetylcholine precursor  ...  vegfr inhibitor  \\\n",
       "0                           0  ...                0   \n",
       "1                           0  ...                0   \n",
       "2                           0  ...                0   \n",
       "3                           0  ...                0   \n",
       "4                           0  ...                0   \n",
       "...                       ...  ...              ...   \n",
       "1393                        0  ...                0   \n",
       "1394                        0  ...                0   \n",
       "1395                        0  ...                0   \n",
       "1396                        0  ...                0   \n",
       "1397                        0  ...                0   \n",
       "\n",
       "      vesicular monoamine transporter inhibitor  vitamin b  \\\n",
       "0                                             0          0   \n",
       "1                                             0          0   \n",
       "2                                             0          0   \n",
       "3                                             0          0   \n",
       "4                                             0          0   \n",
       "...                                         ...        ...   \n",
       "1393                                          0          0   \n",
       "1394                                          0          0   \n",
       "1395                                          0          0   \n",
       "1396                                          0          0   \n",
       "1397                                          0          0   \n",
       "\n",
       "      vitamin d receptor agonist  vitamin k antagonist  \\\n",
       "0                              0                     0   \n",
       "1                              0                     0   \n",
       "2                              0                     0   \n",
       "3                              0                     0   \n",
       "4                              0                     0   \n",
       "...                          ...                   ...   \n",
       "1393                           0                     0   \n",
       "1394                           0                     0   \n",
       "1395                           0                     0   \n",
       "1396                           0                     0   \n",
       "1397                           0                     0   \n",
       "\n",
       "      voltage-gated sodium channel blocker  \\\n",
       "0                                        0   \n",
       "1                                        0   \n",
       "2                                        0   \n",
       "3                                        0   \n",
       "4                                        0   \n",
       "...                                    ...   \n",
       "1393                                     0   \n",
       "1394                                     0   \n",
       "1395                                     0   \n",
       "1396                                     0   \n",
       "1397                                     0   \n",
       "\n",
       "      voltage-gated sodium channel modulator  wee1 kinase inhibitor  \\\n",
       "0                                          0                      0   \n",
       "1                                          0                      0   \n",
       "2                                          0                      0   \n",
       "3                                          0                      0   \n",
       "4                                          0                      0   \n",
       "...                                      ...                    ...   \n",
       "1393                                       0                      0   \n",
       "1394                                       0                      0   \n",
       "1395                                       0                      0   \n",
       "1396                                       0                      0   \n",
       "1397                                       0                      0   \n",
       "\n",
       "      xanthine oxidase inhibitor  xiap inhibitor  \n",
       "0                              0               0  \n",
       "1                              0               0  \n",
       "2                              0               0  \n",
       "3                              0               0  \n",
       "4                              0               0  \n",
       "...                          ...             ...  \n",
       "1393                           0               0  \n",
       "1394                           0               0  \n",
       "1395                           0               0  \n",
       "1396                           0               0  \n",
       "1397                           0               0  \n",
       "\n",
       "[1398 rows x 519 columns]"
      ]
     },
     "execution_count": 16,
     "metadata": {},
     "output_type": "execute_result"
    }
   ],
   "source": [
    "df_moa_targets"
   ]
  },
  {
   "cell_type": "code",
   "execution_count": 17,
   "metadata": {},
   "outputs": [],
   "source": [
    "df_level4_cp = df_level4_cp.merge(df_moa_targets, on='pert_iname')\n",
    "df_level4_L1 = df_level4_L1.merge(df_moa_targets, on='pert_iname')"
   ]
  },
  {
   "cell_type": "code",
   "execution_count": 18,
   "metadata": {},
   "outputs": [
    {
     "data": {
      "text/plain": [
       "(43949, 1225)"
      ]
     },
     "execution_count": 18,
     "metadata": {},
     "output_type": "execute_result"
    }
   ],
   "source": [
    "df_level4_cp.shape"
   ]
  },
  {
   "cell_type": "code",
   "execution_count": 19,
   "metadata": {},
   "outputs": [
    {
     "data": {
      "text/plain": [
       "(26352, 1506)"
      ]
     },
     "execution_count": 19,
     "metadata": {},
     "output_type": "execute_result"
    }
   ],
   "source": [
    "df_level4_L1.shape"
   ]
  },
  {
   "cell_type": "markdown",
   "metadata": {},
   "source": [
    "### - compounds split (80/20) based on MOAs -- based on split_moas_cpds"
   ]
  },
  {
   "cell_type": "code",
   "execution_count": 20,
   "metadata": {},
   "outputs": [],
   "source": [
    "train_cpds = df_cpds_moas_lincs[df_cpds_moas_lincs['train']]['pert_iname'].unique()\n",
    "test_cpds = df_cpds_moas_lincs[df_cpds_moas_lincs['test']]['pert_iname'].unique()"
   ]
  },
  {
   "cell_type": "code",
   "execution_count": 21,
   "metadata": {},
   "outputs": [
    {
     "data": {
      "text/plain": [
       "1039"
      ]
     },
     "execution_count": 21,
     "metadata": {},
     "output_type": "execute_result"
    }
   ],
   "source": [
    "len(train_cpds)"
   ]
  },
  {
   "cell_type": "code",
   "execution_count": 22,
   "metadata": {},
   "outputs": [
    {
     "data": {
      "text/plain": [
       "359"
      ]
     },
     "execution_count": 22,
     "metadata": {},
     "output_type": "execute_result"
    }
   ],
   "source": [
    "len(test_cpds)"
   ]
  },
  {
   "cell_type": "code",
   "execution_count": 23,
   "metadata": {},
   "outputs": [],
   "source": [
    "def train_test_split(train_cpds, test_cpds, df):\n",
    "    df_trn = df.loc[df['pert_iname'].isin(train_cpds)].reset_index(drop=True)\n",
    "    df_tst = df.loc[df['pert_iname'].isin(test_cpds)].reset_index(drop=True)\n",
    "    return df_trn, df_tst"
   ]
  },
  {
   "cell_type": "code",
   "execution_count": 24,
   "metadata": {},
   "outputs": [],
   "source": [
    "df_level4_cp_trn, df_level4_cp_tst = train_test_split(train_cpds, test_cpds, df_level4_cp)\n",
    "df_level4_L1_trn, df_level4_L1_tst = train_test_split(train_cpds, test_cpds, df_level4_L1)"
   ]
  },
  {
   "cell_type": "code",
   "execution_count": 25,
   "metadata": {},
   "outputs": [
    {
     "data": {
      "text/plain": [
       "(33413, 1225)"
      ]
     },
     "execution_count": 25,
     "metadata": {},
     "output_type": "execute_result"
    }
   ],
   "source": [
    "df_level4_cp_trn.shape"
   ]
  },
  {
   "cell_type": "code",
   "execution_count": 26,
   "metadata": {},
   "outputs": [
    {
     "data": {
      "text/plain": [
       "(10536, 1225)"
      ]
     },
     "execution_count": 26,
     "metadata": {},
     "output_type": "execute_result"
    }
   ],
   "source": [
    "df_level4_cp_tst.shape"
   ]
  },
  {
   "cell_type": "code",
   "execution_count": 27,
   "metadata": {},
   "outputs": [
    {
     "data": {
      "text/plain": [
       "(19944, 1506)"
      ]
     },
     "execution_count": 27,
     "metadata": {},
     "output_type": "execute_result"
    }
   ],
   "source": [
    "df_level4_L1_trn.shape"
   ]
  },
  {
   "cell_type": "code",
   "execution_count": 28,
   "metadata": {},
   "outputs": [
    {
     "data": {
      "text/plain": [
       "(6408, 1506)"
      ]
     },
     "execution_count": 28,
     "metadata": {},
     "output_type": "execute_result"
    }
   ],
   "source": [
    "df_level4_L1_tst.shape"
   ]
  },
  {
   "cell_type": "markdown",
   "metadata": {},
   "source": [
    "### - Shuffle train data - 2nd train data\n",
    "#### - Shuffle the target labels in the train data so that replicates of the same compound/MOA have different MOA labels"
   ]
  },
  {
   "cell_type": "code",
   "execution_count": 29,
   "metadata": {},
   "outputs": [],
   "source": [
    "def create_shuffle_data(df_trn, target_cols):\n",
    "    \"\"\"Create shuffled train data where the replicates of each compound are given wrong target labels\"\"\"\n",
    "    df_trn_cpy = df_trn.copy()\n",
    "    df_trn_tgts = df_trn_cpy[target_cols].copy()\n",
    "    rand_df = pd.DataFrame(np.random.permutation(df_trn_tgts), columns =df_trn_tgts.columns.tolist())\n",
    "    df_trn_cpy.drop(target_cols, axis = 1, inplace = True)\n",
    "    df_trn_cpy = pd.concat([df_trn_cpy, rand_df], axis = 1)\n",
    "    return df_trn_cpy"
   ]
  },
  {
   "cell_type": "code",
   "execution_count": 30,
   "metadata": {},
   "outputs": [],
   "source": [
    "target_cols = df_moa_targets.columns[1:]"
   ]
  },
  {
   "cell_type": "code",
   "execution_count": 31,
   "metadata": {},
   "outputs": [],
   "source": [
    "df_lvl4_cp_trn_shuf = create_shuffle_data(df_level4_cp_trn, target_cols)\n",
    "df_lvl4_L1_trn_shuf = create_shuffle_data(df_level4_L1_trn, target_cols)"
   ]
  },
  {
   "cell_type": "code",
   "execution_count": 32,
   "metadata": {},
   "outputs": [
    {
     "data": {
      "text/plain": [
       "(33413, 1225)"
      ]
     },
     "execution_count": 32,
     "metadata": {},
     "output_type": "execute_result"
    }
   ],
   "source": [
    "df_lvl4_cp_trn_shuf.shape"
   ]
  },
  {
   "cell_type": "code",
   "execution_count": 33,
   "metadata": {},
   "outputs": [
    {
     "data": {
      "text/plain": [
       "(19944, 1506)"
      ]
     },
     "execution_count": 33,
     "metadata": {},
     "output_type": "execute_result"
    }
   ],
   "source": [
    "df_lvl4_L1_trn_shuf.shape"
   ]
  },
  {
   "cell_type": "markdown",
   "metadata": {},
   "source": [
    "#### - Save to CSV"
   ]
  },
  {
   "cell_type": "code",
   "execution_count": 34,
   "metadata": {},
   "outputs": [],
   "source": [
    "def save_to_csv(df, path, file_name, compress=None):\n",
    "    \"\"\"saves dataframes to csv\"\"\"\n",
    "    \n",
    "    if not os.path.exists(path):\n",
    "        os.mkdir(path)\n",
    "    \n",
    "    df.to_csv(os.path.join(path, file_name), index=False, compression=compress)"
   ]
  },
  {
   "cell_type": "code",
   "execution_count": 35,
   "metadata": {},
   "outputs": [],
   "source": [
    "save_to_csv(df_level4_cp_trn, cp_level4_path, 'train_lvl4_data.csv.gz', compress=\"gzip\") ##\"D:\\cell_painting_profiles\\profiles\"\n",
    "save_to_csv(df_level4_cp_tst, cp_level4_path, 'test_lvl4_data.csv.gz', compress=\"gzip\")"
   ]
  },
  {
   "cell_type": "code",
   "execution_count": 36,
   "metadata": {},
   "outputs": [],
   "source": [
    "save_to_csv(df_level4_L1_trn, L1000_level4_path, 'train_lvl4_data.csv.gz', compress=\"gzip\") ##\"D:\\Documents\\L1000\"\n",
    "save_to_csv(df_level4_L1_tst, L1000_level4_path, 'test_lvl4_data.csv.gz', compress=\"gzip\")"
   ]
  },
  {
   "cell_type": "code",
   "execution_count": 37,
   "metadata": {},
   "outputs": [],
   "source": [
    "save_to_csv(df_lvl4_cp_trn_shuf, cp_level4_path, 'train_shuffle_lvl4_data.csv.gz', compress=\"gzip\")\n",
    "save_to_csv(df_lvl4_L1_trn_shuf, L1000_level4_path, 'train_shuffle_lvl4_data.csv.gz', compress=\"gzip\")"
   ]
  },
  {
   "cell_type": "code",
   "execution_count": 38,
   "metadata": {},
   "outputs": [],
   "source": [
    "save_to_csv(df_moa_targets, cp_level4_path, 'target_labels.csv')\n",
    "save_to_csv(df_moa_targets, L1000_level4_path, 'target_labels.csv')"
   ]
  }
 ],
 "metadata": {
  "kernelspec": {
   "display_name": "Python 3",
   "language": "python",
   "name": "python3"
  },
  "language_info": {
   "codemirror_mode": {
    "name": "ipython",
    "version": 3
   },
   "file_extension": ".py",
   "mimetype": "text/x-python",
   "name": "python",
   "nbconvert_exporter": "python",
   "pygments_lexer": "ipython3",
   "version": "3.7.3"
  }
 },
 "nbformat": 4,
 "nbformat_minor": 5
}
